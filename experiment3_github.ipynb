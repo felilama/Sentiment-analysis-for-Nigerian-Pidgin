{
  "cells": [
    {
      "cell_type": "code",
      "execution_count": null,
      "id": "5c5b7cba",
      "metadata": {
        "id": "5c5b7cba"
      },
      "outputs": [],
      "source": [
        "# Experiment 3: Fine-tuning Naija-BERT on English Sentiment Dataset (GPU Version)\n",
        "# This notebook implements the training procedure for the third experiment in our cross-lingual sentiment analysis project\n",
        "\n",
        "import torch\n",
        "import pandas as pd\n",
        "import numpy as np\n",
        "import matplotlib.pyplot as plt\n",
        "import seaborn as sns\n",
        "from sklearn.metrics import accuracy_score, precision_recall_fscore_support, confusion_matrix, classification_report\n",
        "from torch.utils.data import Dataset, DataLoader"
      ]
    },
    {
      "cell_type": "code",
      "execution_count": null,
      "id": "866155d9",
      "metadata": {
        "id": "866155d9"
      },
      "outputs": [],
      "source": [
        "from transformers import (\n",
        "    AutoTokenizer,\n",
        "    AutoModelForSequenceClassification,\n",
        "    get_linear_schedule_with_warmup,\n",
        "    TrainingArguments,\n",
        "    Trainer,\n",
        "    EarlyStoppingCallback\n",
        ")"
      ]
    },
    {
      "cell_type": "code",
      "execution_count": null,
      "id": "1e8ae17d",
      "metadata": {
        "colab": {
          "base_uri": "https://localhost:8080/"
        },
        "id": "1e8ae17d",
        "outputId": "af37dbdc-befe-472d-b244-6eb692ef2082"
      },
      "outputs": [
        {
          "output_type": "stream",
          "name": "stdout",
          "text": [
            "Collecting emoji\n",
            "  Downloading emoji-2.14.1-py3-none-any.whl.metadata (5.7 kB)\n",
            "Downloading emoji-2.14.1-py3-none-any.whl (590 kB)\n",
            "\u001b[?25l   \u001b[90m\u2501\u2501\u2501\u2501\u2501\u2501\u2501\u2501\u2501\u2501\u2501\u2501\u2501\u2501\u2501\u2501\u2501\u2501\u2501\u2501\u2501\u2501\u2501\u2501\u2501\u2501\u2501\u2501\u2501\u2501\u2501\u2501\u2501\u2501\u2501\u2501\u2501\u2501\u2501\u2501\u001b[0m \u001b[32m0.0/590.6 kB\u001b[0m \u001b[31m?\u001b[0m eta \u001b[36m-:--:--\u001b[0m\r\u001b[2K   \u001b[91m\u2501\u2501\u2501\u2501\u2501\u2501\u2501\u2501\u2501\u2501\u2501\u001b[0m\u001b[90m\u257a\u001b[0m\u001b[90m\u2501\u2501\u2501\u2501\u2501\u2501\u2501\u2501\u2501\u2501\u2501\u2501\u2501\u2501\u2501\u2501\u2501\u2501\u2501\u2501\u2501\u2501\u2501\u2501\u2501\u2501\u2501\u2501\u001b[0m \u001b[32m163.8/590.6 kB\u001b[0m \u001b[31m5.6 MB/s\u001b[0m eta \u001b[36m0:00:01\u001b[0m\r\u001b[2K   \u001b[90m\u2501\u2501\u2501\u2501\u2501\u2501\u2501\u2501\u2501\u2501\u2501\u2501\u2501\u2501\u2501\u2501\u2501\u2501\u2501\u2501\u2501\u2501\u2501\u2501\u2501\u2501\u2501\u2501\u2501\u2501\u2501\u2501\u2501\u2501\u2501\u2501\u2501\u2501\u2501\u2501\u001b[0m \u001b[32m590.6/590.6 kB\u001b[0m \u001b[31m9.5 MB/s\u001b[0m eta \u001b[36m0:00:00\u001b[0m\n",
            "\u001b[?25hInstalling collected packages: emoji\n",
            "Successfully installed emoji-2.14.1\n"
          ]
        }
      ],
      "source": [
        "import os\n",
        "import random\n",
        "import re\n",
        "!pip install emoji\n",
        "import emoji\n",
        "from tqdm.notebook import tqdm"
      ]
    },
    {
      "cell_type": "code",
      "execution_count": null,
      "id": "21612048",
      "metadata": {
        "id": "21612048"
      },
      "outputs": [],
      "source": [
        "# Set random seeds for reproducibility\n",
        "seed = 42\n",
        "torch.manual_seed(seed)\n",
        "random.seed(seed)\n",
        "np.random.seed(seed)\n",
        "if torch.cuda.is_available():\n",
        "    torch.cuda.manual_seed_all(seed)\n"
      ]
    },
    {
      "cell_type": "code",
      "execution_count": null,
      "id": "e3e99df2",
      "metadata": {
        "colab": {
          "base_uri": "https://localhost:8080/"
        },
        "id": "e3e99df2",
        "outputId": "1e515d53-9e35-4fc1-c472-8e1168f664b3"
      },
      "outputs": [
        {
          "output_type": "stream",
          "name": "stdout",
          "text": [
            "Using device: cuda\n"
          ]
        }
      ],
      "source": [
        "# Check for GPU\n",
        "device = torch.device(\"cuda\" if torch.cuda.is_available() else \"cpu\")\n",
        "print(f\"Using device: {device}\")"
      ]
    },
    {
      "cell_type": "code",
      "execution_count": null,
      "id": "4d0b8d7c",
      "metadata": {
        "id": "4d0b8d7c"
      },
      "outputs": [],
      "source": [
        "# ## 1. Data Preparation\n",
        "\n",
        "# Function to clean and normalize text\n",
        "def clean_text(text, is_pidgin=False):\n",
        "    \"\"\"\n",
        "    Clean and normalize text data\n",
        "\n",
        "    Args:\n",
        "        text (str): Input text\n",
        "        is_pidgin (bool): Whether the text is Nigerian Pidgin\n",
        "\n",
        "    Returns:\n",
        "        str: Cleaned text\n",
        "    \"\"\"\n",
        "    if not isinstance(text, str):\n",
        "        return \"\"\n",
        "\n",
        "    # Convert to lowercase\n",
        "    text = text.lower()\n",
        "\n",
        "    # Remove URLs\n",
        "    text = re.sub(r'https?://\\S+|www\\.\\S+', ' [URL] ', text)\n",
        "\n",
        "    # Remove user mentions (@username)\n",
        "    text = re.sub(r'@\\w+', ' [USER] ', text)\n",
        "\n",
        "    # Handle hashtags - keep the text but remove the # symbol\n",
        "    text = re.sub(r'#(\\w+)', r'\\1', text)\n",
        "\n",
        "    # Convert emojis to text (alternatively, you can remove them)\n",
        "    text = emoji.demojize(text)\n",
        "    text = re.sub(r':[a-z_]+:', ' [EMOJI] ', text)  # replace with token or remove\n",
        "\n",
        "    # Remove special characters but keep apostrophes (important for contractions)\n",
        "    text = re.sub(r'[^a-zA-Z0-9\\'\\s]', ' ', text)\n",
        "\n",
        "    # Normalize apostrophes\n",
        "    text = text.replace(\"'\", \"'\")\n",
        "\n",
        "    # Replace multiple spaces with single space\n",
        "    text = re.sub(r'\\s+', ' ', text)\n",
        "\n",
        "    # For Pidgin-specific normalization\n",
        "    if is_pidgin:\n",
        "        # Define common Pidgin expressions to preserve\n",
        "        pidgin_normalizations = {\n",
        "            # Common variations\n",
        "            \" de \": \" dey \",\n",
        "            \" sey \": \" say \",\n",
        "            \" dem \": \" them \",\n",
        "            \" una \": \" you \",\n",
        "            \" dis \": \" this \",\n",
        "            \" dat \": \" that \",\n",
        "            \" e \": \" e \",  # (it/him/her)\n",
        "            \" im \": \" him \",\n",
        "            \" una \": \" you all \",\n",
        "            \" make \": \" make \",  # (let/allow)\n",
        "            \" no \": \" no \",  # (negation)\n",
        "            \" o \": \" o \",  # (emphasis)\n",
        "            \" go \": \" go \",  # (will/future tense)\n",
        "            \" don \": \" don \",  # (has/have done)\n",
        "            \" fit \": \" fit \",  # (can/able to)\n",
        "            \" wan \": \" want \",  # (want)\n",
        "            \" sabi \": \" sabi \",  # (know)\n",
        "            \" taya \": \" taya \",  # (tired)\n",
        "            \" chop \": \" chop \",  # (eat)\n",
        "            \" yarn \": \" yarn \",  # (talk/gist)\n",
        "            \" pikin \": \" pikin \",  # (child)\n",
        "            \" waka \": \" waka \",  # (walk/travel)\n",
        "            \" shuo \": \" shuo \",  # (exclamation)\n",
        "            # Common expressions (keep intact)\n",
        "            \"abeg\": \"abeg\",  # please\n",
        "            \"wetin\": \"wetin\",  # what\n",
        "            \"na \": \"na \",  # is/it is\n",
        "            \"abi\": \"abi\",  # right?/isn't it?\n",
        "            \"shey\": \"shey\",  # is it that\n",
        "            \"sha\": \"sha\",  # anyway/though\n",
        "            \"wahala\": \"wahala\",  # trouble\n",
        "            \"japa\": \"japa\",  # run away/leave\n",
        "            \"gats\": \"gats\",  # must/have to\n",
        "            \"chook\": \"chook\",  # pierce/stab\n",
        "            \"bros\": \"bros\",  # brother/friend\n",
        "            \"mumu\": \"mumu\",  # foolish/silly\n",
        "            \"baff\": \"baff\",  # bath\n",
        "            \"sef\": \"sef\",  # even/too\n",
        "            \"komot\": \"komot\",  # remove/come out\n",
        "            \"troway\": \"troway\",  # throw away\n",
        "            \"kuku\": \"kuku\",  # might as well\n",
        "            \"jeje\": \"jeje\",  # gently/softly\n",
        "            \"ginger\": \"ginger\",  # motivate/cheer\n",
        "            \"yarn\": \"yarn\",  # talk/gist\n",
        "            \"palava\": \"palava\",  # problem/issue\n",
        "            \"bod\": \"bod\",  # bold/audacity\n",
        "            \"fess\": \"fess\",  # speak boldly\n",
        "            \"gbam\": \"gbam\",  # exactly/spot on\n",
        "            \"ogbonge\": \"ogbonge\",  # real/genuine\n",
        "            \"wuruwuru\": \"wuruwuru\",  # shady/dishonest\n",
        "            \"k-leg\": \"k-leg\",  # suspicious\n",
        "            \"baff\": \"bath\",  # bath\n",
        "            \"maga\": \"maga\",  # a gullible person\n",
        "            \"buruku\": \"buruku\",  # bad/evil\n",
        "            \"shakara\": \"shakara\",  # showing off\n",
        "            \"akara\": \"akara\",  # bean cake (sometimes used metaphorically)\n",
        "            \"gbosa\": \"gbosa\",  # loud noise/shout\n",
        "            \"soro\": \"soro\",  # speak (often \"soro soke\" - speak up)\n",
        "            \"gbera\": \"gbera\",  # rise/get up\n",
        "            \"tor\": \"tor\",  # though/despite\n",
        "            \"gbese\": \"gbese\",  # debt\n",
        "            \"yawa\": \"yawa\",  # trouble/problem\n",
        "            \"gbas\": \"gbas\",  # sound of slap/hit\n",
        "            \"kilode\": \"kilode\",  # why?/what's happening?\n",
        "            \"yeye\": \"yeye\",  # nonsense/worthless\n",
        "            \"how far?\": \"how far?\",  # A greeting meaning \"how are you?\"\n",
        "            \"oya\": \"oya\",  # hurry up\n",
        "            \"commot for road\": \"commot for road\",  # leave/get out of the way\n",
        "            \"as e were\": \"as e were\",  # as usual/as it was\n",
        "            \"mind your business\": \"mind your business\",  # stay out of others' affairs\n",
        "            \"see finish\": \"see finish\",  # see something through to the end\n",
        "            \"wahala for who no sabi\": \"wahala for who no sabi\",  # trouble for those who don't know\n",
        "            \"e choke\": \"e choke\",  # it's shocking/surprising\n",
        "            \"e go be\": \"e go be\",  # it will happen\n",
        "            \"e no concern me\": \"e no concern me\",  # it doesn't concern me\n",
        "            \"e no dey\": \"e no dey\",  # it doesn't exist/is absent\n",
        "            \"e tire me\": \"e tire me\",  # it tires me\n",
        "\n",
        "        }\n",
        "\n",
        "        for old, new in pidgin_normalizations.items():\n",
        "            text = text.replace(old, new)\n",
        "\n",
        "    return text.strip()"
      ]
    },
    {
      "cell_type": "code",
      "execution_count": null,
      "id": "4a22f9b6",
      "metadata": {
        "id": "4a22f9b6"
      },
      "outputs": [],
      "source": [
        "# Custom dataset class\n",
        "class SentimentDataset(Dataset):\n",
        "    \"\"\"PyTorch dataset for sentiment analysis\"\"\"\n",
        "    def __init__(self, texts, labels, tokenizer, max_length=128):\n",
        "        self.texts = texts\n",
        "        self.labels = labels\n",
        "        self.tokenizer = tokenizer\n",
        "        self.max_length = max_length\n",
        "\n",
        "    def __len__(self):\n",
        "        return len(self.texts)\n",
        "\n",
        "    def __getitem__(self, idx):\n",
        "        text = self.texts[idx]\n",
        "        label = self.labels[idx]\n",
        "\n",
        "        encoding = self.tokenizer(\n",
        "            text,\n",
        "            truncation=True,\n",
        "            padding='max_length',\n",
        "            max_length=self.max_length,\n",
        "            return_tensors='pt'\n",
        "        )\n",
        "\n",
        "        # Remove the batch dimension which tokenizer adds by default\n",
        "        encoding = {k: v.squeeze(0) for k, v in encoding.items()}\n",
        "        encoding['labels'] = torch.tensor(label)\n",
        "\n",
        "        return encoding\n"
      ]
    },
    {
      "cell_type": "code",
      "execution_count": null,
      "id": "61e0fc56",
      "metadata": {
        "colab": {
          "base_uri": "https://localhost:8080/"
        },
        "id": "61e0fc56",
        "outputId": "c17efd47-28e8-4cb2-a4a8-b72ad547a418"
      },
      "outputs": [
        {
          "output_type": "stream",
          "name": "stdout",
          "text": [
            "Loading datasets...\n",
            "English dataset shape: (10000, 2)\n"
          ]
        }
      ],
      "source": [
        "# Load and prepare datasets\n",
        "print(\"Loading datasets...\")\n",
        "\n",
        "# Load English dataset as the primary training set for Experiment 3\n",
        "english_df = pd.read_csv('English_dataset.csv')\n",
        "print(f\"English dataset shape: {english_df.shape}\")"
      ]
    },
    {
      "cell_type": "code",
      "execution_count": null,
      "id": "44ffdf54",
      "metadata": {
        "id": "44ffdf54"
      },
      "outputs": [],
      "source": [
        "# Map sentiments to numeric values\n",
        "sentiment_map = {'positive': 0, 'negative': 1, 'neutral': 2}\n",
        "english_df['label'] = english_df['Sentiments'].map(sentiment_map)\n",
        "\n",
        "# Clean text\n",
        "english_df['cleaned_text'] = english_df['text'].apply(lambda x: clean_text(x, is_pidgin=False))"
      ]
    },
    {
      "cell_type": "code",
      "execution_count": null,
      "id": "6dfc5a71",
      "metadata": {
        "colab": {
          "base_uri": "https://localhost:8080/"
        },
        "id": "6dfc5a71",
        "outputId": "b0df321f-d6bd-4185-84ba-d1018daca81d"
      },
      "outputs": [
        {
          "output_type": "stream",
          "name": "stdout",
          "text": [
            "\n",
            "English sentiment distribution:\n",
            "Sentiments\n",
            "positive    7663\n",
            "negative    2317\n",
            "neutral       20\n",
            "Name: count, dtype: int64\n",
            "Percentages: Sentiments\n",
            "positive    76.63\n",
            "negative    23.17\n",
            "neutral      0.20\n",
            "Name: count, dtype: float64\n"
          ]
        }
      ],
      "source": [
        "# Check sentiment distribution\n",
        "sentiment_counts = english_df['Sentiments'].value_counts()\n",
        "print(\"\\nEnglish sentiment distribution:\")\n",
        "print(sentiment_counts)\n",
        "print(f\"Percentages: {sentiment_counts / len(english_df) * 100}\")"
      ]
    },
    {
      "cell_type": "code",
      "execution_count": null,
      "id": "97cd964b",
      "metadata": {
        "colab": {
          "base_uri": "https://localhost:8080/"
        },
        "id": "97cd964b",
        "outputId": "7f79fee0-01c4-4afe-9b82-bec457d7fecd"
      },
      "outputs": [
        {
          "output_type": "stream",
          "name": "stdout",
          "text": [
            "\n",
            "Pidgin dataset shape: (5000, 2)\n"
          ]
        }
      ],
      "source": [
        "# Load Pidgin dataset for testing\n",
        "pidgin_df = pd.read_csv('new_annotated_pidgin.csv')\n",
        "print(f\"\\nPidgin dataset shape: {pidgin_df.shape}\")\n",
        "pidgin_df['label'] = pidgin_df['sentiments'].map(sentiment_map)\n",
        "pidgin_df['cleaned_text'] = pidgin_df['Comments'].apply(lambda x: clean_text(x, is_pidgin=True))"
      ]
    },
    {
      "cell_type": "code",
      "execution_count": null,
      "id": "df740ea7",
      "metadata": {
        "colab": {
          "base_uri": "https://localhost:8080/",
          "height": 562
        },
        "id": "df740ea7",
        "outputId": "3779e382-6214-43dd-df91-27d7f1a79973"
      },
      "outputs": [
        {
          "output_type": "display_data",
          "data": {
            "text/plain": [
              "<Figure size 1000x600 with 1 Axes>"
            ],
            "image/png": "[encoded data removed]"
          },
          "metadata": {}
        }
      ],
      "source": [
        "# Visualize sentiment distribution\n",
        "plt.figure(figsize=(10, 6))\n",
        "sns.countplot(x='Sentiments', data=english_df)\n",
        "plt.title('English Dataset Sentiment Distribution')\n",
        "plt.show()"
      ]
    },
    {
      "cell_type": "code",
      "execution_count": null,
      "id": "f0723283",
      "metadata": {
        "id": "f0723283"
      },
      "outputs": [],
      "source": [
        "# ## 2. Split Datasets\n",
        "\n",
        "from sklearn.model_selection import train_test_split\n",
        "\n",
        "# Split into train, validation, and test sets\n",
        "def split_dataset(df, train_size=0.7, val_size=0.15, test_size=0.15, random_state=42):\n",
        "    \"\"\"\n",
        "    Split dataset into train, validation, and test sets with stratification\n",
        "    \"\"\"\n",
        "    # First split: train + validation and test\n",
        "    train_val, test = train_test_split(\n",
        "        df, test_size=test_size, random_state=random_state, stratify=df['label']\n",
        "    )\n",
        "\n",
        "    # Second split: train and validation\n",
        "    # Adjust validation size relative to train_val\n",
        "    relative_val_size = val_size / (train_size + val_size)\n",
        "    train, val = train_test_split(\n",
        "        train_val, test_size=relative_val_size, random_state=random_state,\n",
        "        stratify=train_val['label']\n",
        "    )\n",
        "\n",
        "    return train, val, test\n"
      ]
    },
    {
      "cell_type": "code",
      "execution_count": null,
      "id": "74cd16b9",
      "metadata": {
        "colab": {
          "base_uri": "https://localhost:8080/"
        },
        "id": "74cd16b9",
        "outputId": "8899ca7a-cb71-4d0d-eaef-b7e015e681a8"
      },
      "outputs": [
        {
          "output_type": "stream",
          "name": "stdout",
          "text": [
            "\n",
            "Dataset splits:\n",
            "English - Train: 7000, Val: 1500, Test: 1500\n"
          ]
        }
      ],
      "source": [
        "# Split English dataset\n",
        "english_train, english_val, english_test = split_dataset(english_df)\n",
        "\n",
        "# Display split sizes\n",
        "print(\"\\nDataset splits:\")\n",
        "print(f\"English - Train: {len(english_train)}, Val: {len(english_val)}, Test: {len(english_test)}\")"
      ]
    },
    {
      "cell_type": "code",
      "execution_count": null,
      "id": "04622761",
      "metadata": {
        "colab": {
          "base_uri": "https://localhost:8080/"
        },
        "id": "04622761",
        "outputId": "50cb691c-5bab-4724-ce4d-cb63a2fde0ae"
      },
      "outputs": [
        {
          "output_type": "stream",
          "name": "stdout",
          "text": [
            "\n",
            "Train distribution:\n",
            "Sentiments\n",
            "positive    5364\n",
            "negative    1622\n",
            "neutral       14\n",
            "Name: count, dtype: int64\n",
            "\n",
            "Validation distribution:\n",
            "Sentiments\n",
            "positive    1150\n",
            "negative     347\n",
            "neutral        3\n",
            "Name: count, dtype: int64\n",
            "\n",
            "Test distribution:\n",
            "Sentiments\n",
            "positive    1149\n",
            "negative     348\n",
            "neutral        3\n",
            "Name: count, dtype: int64\n"
          ]
        }
      ],
      "source": [
        "# Check class distribution in splits\n",
        "print(\"\\nTrain distribution:\")\n",
        "print(english_train['Sentiments'].value_counts())\n",
        "print(\"\\nValidation distribution:\")\n",
        "print(english_val['Sentiments'].value_counts())\n",
        "print(\"\\nTest distribution:\")\n",
        "print(english_test['Sentiments'].value_counts())"
      ]
    },
    {
      "cell_type": "code",
      "execution_count": null,
      "id": "e31082be",
      "metadata": {
        "colab": {
          "base_uri": "https://localhost:8080/"
        },
        "id": "e31082be",
        "outputId": "12fe257a-1dc2-443d-ed7b-37b0bfc7b816"
      },
      "outputs": [
        {
          "output_type": "stream",
          "name": "stdout",
          "text": [
            "\n",
            "Pidgin test set size: 750\n",
            "Pidgin test distribution:\n",
            "sentiments\n",
            "negative    469\n",
            "neutral     203\n",
            "positive     78\n",
            "Name: count, dtype: int64\n"
          ]
        }
      ],
      "source": [
        "# Sample Pidgin test data\n",
        "pidgin_test = pidgin_df.sample(750, random_state=42)  # As specified in experiment design\n",
        "print(f\"\\nPidgin test set size: {len(pidgin_test)}\")\n",
        "print(\"Pidgin test distribution:\")\n",
        "print(pidgin_test['sentiments'].value_counts())"
      ]
    },
    {
      "cell_type": "code",
      "execution_count": null,
      "id": "173981e6",
      "metadata": {
        "colab": {
          "base_uri": "https://localhost:8080/"
        },
        "id": "173981e6",
        "outputId": "391db69d-f87c-474f-efe4-7bf2c6678e7d"
      },
      "outputs": [
        {
          "output_type": "stream",
          "name": "stdout",
          "text": [
            "\n",
            "Checking for class imbalance in English training data:\n",
            "Sentiments\n",
            "positive    76.628571\n",
            "negative    23.171429\n",
            "neutral      0.200000\n",
            "Name: proportion, dtype: float64\n"
          ]
        }
      ],
      "source": [
        "# ## 3. Address Class Imbalance\n",
        "\n",
        "# Check for class imbalance in English data\n",
        "print(\"\\nChecking for class imbalance in English training data:\")\n",
        "print(english_train['Sentiments'].value_counts(normalize=True) * 100)"
      ]
    },
    {
      "cell_type": "code",
      "execution_count": null,
      "id": "3496efa5",
      "metadata": {
        "id": "3496efa5"
      },
      "outputs": [],
      "source": [
        "# Compute class weights\n",
        "def compute_class_weights(labels):\n",
        "    \"\"\"Compute class weights inversely proportional to class frequencies\"\"\"\n",
        "    class_counts = np.bincount(labels)\n",
        "    total_samples = len(labels)\n",
        "    class_weights = total_samples / (len(class_counts) * class_counts)\n",
        "\n",
        "    # Ensure we have weights for all 3 classes\n",
        "    if len(class_weights) < 3:\n",
        "        pad_length = 3 - len(class_weights)\n",
        "        class_weights = np.pad(class_weights, (0, pad_length), 'constant')\n",
        "\n",
        "    return torch.FloatTensor(class_weights)\n"
      ]
    },
    {
      "cell_type": "code",
      "execution_count": null,
      "id": "94e4b9a3",
      "metadata": {
        "colab": {
          "base_uri": "https://localhost:8080/"
        },
        "id": "94e4b9a3",
        "outputId": "efcf18a2-fdae-40ae-c39c-1b3bc457f6e7"
      },
      "outputs": [
        {
          "output_type": "stream",
          "name": "stdout",
          "text": [
            "\n",
            "Actual class counts in training data:\n",
            "label\n",
            "0    5364\n",
            "1    1622\n",
            "2      14\n",
            "Name: count, dtype: int64\n"
          ]
        }
      ],
      "source": [
        "# Print actual class counts for verification\n",
        "print(\"\\nActual class counts in training data:\")\n",
        "print(english_train['label'].value_counts().sort_index())"
      ]
    },
    {
      "cell_type": "code",
      "execution_count": null,
      "id": "24bd10d3",
      "metadata": {
        "colab": {
          "base_uri": "https://localhost:8080/"
        },
        "id": "24bd10d3",
        "outputId": "5c92b116-0e73-4466-b6ae-3fe30bb430ca"
      },
      "outputs": [
        {
          "output_type": "stream",
          "name": "stdout",
          "text": [
            "\n",
            "Computed class weights for handling imbalance:\n",
            "Positive (0): 0.4350\n",
            "Negative (1): 1.4386\n",
            "Neutral (2): 166.6667\n"
          ]
        }
      ],
      "source": [
        "class_weights = compute_class_weights(english_train['label'].values)\n",
        "print(\"\\nComputed class weights for handling imbalance:\")\n",
        "print(f\"Positive (0): {class_weights[0]:.4f}\")\n",
        "print(f\"Negative (1): {class_weights[1]:.4f}\")\n",
        "print(f\"Neutral (2): {class_weights[2]:.4f}\")"
      ]
    },
    {
      "cell_type": "code",
      "execution_count": null,
      "id": "ebda5ce7",
      "metadata": {
        "colab": {
          "base_uri": "https://localhost:8080/",
          "height": 254,
          "referenced_widgets": [
            "1bc5f61e1f544348b321eda6421308ba",
            "54faa1dc08cb4e078bc8776940e22847",
            "97f8f33a53f3434eb7f08ba7e547c138",
            "06faf939e69e493b9b95b2577d6660b2",
            "64b1d1fa67d64903ae9f126db82dd162",
            "8e19778cae6a43b48912c63d939bdce0",
            "754a8f26514f4dbe8642adadb388832c",
            "46ccb1f8fd4e4a01a5c0597d421a8356",
            "630153f19d214cf08294805f448ff13c",
            "196c879b7e994062af5fb28313a9a016",
            "40cfcbcbb5014d95b5ef0a4e1ba11c8d",
            "c0ea3a17de8c47ddafb2ed7442736c01",
            "3fb5dbe353544dacbee27de7a0c325db",
            "41dcebbfcea7469298f0ec2497e8fa50",
            "4396bbb3372c462c9c9d5b456d98a25e",
            "679d9e0c49a943ab83f8b8a14d33f2aa",
            "a217b2b7cd024fa48e8f7091f666ff7d",
            "35b627a563294ece99983f9e9f87bcb4",
            "f1b45815ed1c492d898ee6a4c4f62078",
            "7b35a59744f948e7950e3f45fc9a5922",
            "c403b91f646544e8915e128fa59de925",
            "b6a23b0e9e55473e9b248b3820ec8e76",
            "e298d6c97d9e43f08553ecbe188ca88a",
            "7c14575bd4c2473fb759cd497a3ba217",
            "bc0ca578d7ac405ab4bcf9eba10e9aa7",
            "f9c0bbb4c5e54bb8b287a5ca28f7b8bc",
            "8fff7798c8654948a9c2b1395df151ae",
            "8d38dc171bb8415b8a10e8903507439b",
            "55df708ab8604671a134778955905b25",
            "1f32d50e409944d7b1c2fd7302623b24",
            "c54095285b004483a7ecd557faae965b",
            "86320d2ca4dc4af9b98973f36b1db85e",
            "0d108e91d9c846ad987a628881616888"
          ]
        },
        "id": "ebda5ce7",
        "outputId": "1b6abd3f-1ca9-4b50-cdd9-c6bc8579616b"
      },
      "outputs": [
        {
          "output_type": "stream",
          "name": "stdout",
          "text": [
            "Initializing Naija-BERT tokenizer...\n"
          ]
        },
        {
          "output_type": "stream",
          "name": "stderr",
          "text": [
            "/usr/local/lib/python3.11/dist-packages/huggingface_hub/utils/_auth.py:94: UserWarning: \n",
            "The secret `HF_TOKEN` does not exist in your Colab secrets.\n",
            "To authenticate with the Hugging Face Hub, create a token in your settings tab (https://huggingface.co/settings/tokens), set it as secret in your Google Colab and restart your session.\n",
            "You will be able to reuse this secret in all of your notebooks.\n",
            "Please note that authentication is recommended but still optional to access public models or datasets.\n",
            "  warnings.warn(\n"
          ]
        },
        {
          "output_type": "display_data",
          "data": {
            "text/plain": [
              "tokenizer_config.json:   0%|          | 0.00/83.0 [00:00<?, ?B/s]"
            ]
          },
          "metadata": {}
        },
        {
          "output_type": "display_data",
          "data": {
            "text/plain": [
              "config.json:   0%|          | 0.00/589 [00:00<?, ?B/s]"
            ]
          },
          "metadata": {}
        },
        {
          "output_type": "display_data",
          "data": {
            "text/plain": [
              "vocab.txt:   0%|          | 0.00/498k [00:00<?, ?B/s]"
            ]
          },
          "metadata": {}
        }
      ],
      "source": [
        "# ## 4. Initialize Tokenizer\n",
        "\n",
        "# Initialize the Naija-BERT tokenizer\n",
        "print(\"Initializing Naija-BERT tokenizer...\")\n",
        "tokenizer = AutoTokenizer.from_pretrained('Davlan/naija-bert-base')"
      ]
    },
    {
      "cell_type": "code",
      "execution_count": null,
      "id": "a5fff08c",
      "metadata": {
        "colab": {
          "base_uri": "https://localhost:8080/"
        },
        "id": "a5fff08c",
        "outputId": "09c4aaf3-d4e3-4187-8556-1a18d0e5c16f"
      },
      "outputs": [
        {
          "output_type": "stream",
          "name": "stdout",
          "text": [
            "No additional special tokens needed for Naija-BERT\n"
          ]
        }
      ],
      "source": [
        "# Add special tokens if needed\n",
        "def enhance_tokenizer(tokenizer):\n",
        "    \"\"\"Add any special tokens needed for better handling\"\"\"\n",
        "    # Check if any special tokens need to be added\n",
        "    additional_tokens = []\n",
        "\n",
        "    if additional_tokens:\n",
        "        special_tokens = {'additional_special_tokens': additional_tokens}\n",
        "        num_added = tokenizer.add_special_tokens(special_tokens)\n",
        "        print(f\"Added {num_added} special tokens to tokenizer\")\n",
        "    else:\n",
        "        print(\"No additional special tokens needed for Naija-BERT\")\n",
        "\n",
        "    return tokenizer\n",
        "\n",
        "tokenizer = enhance_tokenizer(tokenizer)"
      ]
    },
    {
      "cell_type": "code",
      "execution_count": null,
      "id": "a3000884",
      "metadata": {
        "id": "a3000884"
      },
      "outputs": [],
      "source": [
        "# Determine optimal sequence length\n",
        "def analyze_token_lengths(texts, tokenizer, percentile=95):\n",
        "    \"\"\"Analyze token length distribution and determine max length\"\"\"\n",
        "    token_lengths = []\n",
        "    for text in tqdm(texts, desc=\"Analyzing token lengths\"):\n",
        "        if isinstance(text, str) and text.strip():\n",
        "            tokens = tokenizer.tokenize(text)\n",
        "            token_lengths.append(len(tokens))\n",
        "\n",
        "    # Calculate statistics\n",
        "    mean_len = np.mean(token_lengths)\n",
        "    median_len = np.median(token_lengths)\n",
        "    p95 = np.percentile(token_lengths, percentile)\n",
        "    max_len = np.max(token_lengths)\n",
        "\n",
        "    # Round up to nearest multiple of 8 for efficiency\n",
        "    recommended_length = ((int(p95) + 7) // 8) * 8\n",
        "\n",
        "    print(f\"Token length statistics:\")\n",
        "    print(f\"Mean: {mean_len:.1f}\")\n",
        "    print(f\"Median: {median_len:.1f}\")\n",
        "    print(f\"95th percentile: {p95:.1f}\")\n",
        "    print(f\"Max: {max_len}\")\n",
        "    print(f\"Recommended max_length: {recommended_length}\")\n",
        "\n",
        "    return recommended_length, token_lengths"
      ]
    },
    {
      "cell_type": "code",
      "execution_count": null,
      "id": "55ebdb9e",
      "metadata": {
        "colab": {
          "base_uri": "https://localhost:8080/",
          "height": 225,
          "referenced_widgets": [
            "f16d20ec9b564cc3a3cd9686eacbd4ea",
            "2abe9e9147f64f769e46e85ccad7e2a4",
            "200d5dca0a114a60b0523aed274551ae",
            "e4498ba1d1514ff397410e3ca8a9efb9",
            "ad38bb15ca7a4330a5329bf78c583255",
            "96bfd0e706914c55a2cdcabc4ad14c54",
            "de08c2a6b06945f688880a02fc04af96",
            "385007ce1e5643fd859e79096d41a1fe",
            "4ac1a78805a64b579755134de943bad6",
            "5f3c4267d9194aeb94a95e0ac5f14c4e",
            "471b8dea7c9c4db2bf504489daa0d1a7"
          ]
        },
        "id": "55ebdb9e",
        "outputId": "8464a514-e2a8-417a-8525-8a74efedfc38"
      },
      "outputs": [
        {
          "output_type": "stream",
          "name": "stdout",
          "text": [
            "\n",
            "Analyzing English token lengths with Naija-BERT...\n"
          ]
        },
        {
          "output_type": "display_data",
          "data": {
            "text/plain": [
              "Analyzing token lengths:   0%|          | 0/500 [00:00<?, ?it/s]"
            ]
          },
          "metadata": {}
        },
        {
          "output_type": "stream",
          "name": "stderr",
          "text": [
            "Token indices sequence length is longer than the specified maximum sequence length for this model (551 > 512). Running this sequence through the model will result in indexing errors\n"
          ]
        },
        {
          "output_type": "stream",
          "name": "stdout",
          "text": [
            "Token length statistics:\n",
            "Mean: 40.0\n",
            "Median: 24.0\n",
            "95th percentile: 118.3\n",
            "Max: 621\n",
            "Recommended max_length: 120\n"
          ]
        }
      ],
      "source": [
        "# Analyze English and Pidgin token lengths\n",
        "print(\"\\nAnalyzing English token lengths with Naija-BERT...\")\n",
        "english_sample = english_train['cleaned_text'].sample(500, random_state=42).tolist()\n",
        "max_length_english, english_lengths = analyze_token_lengths(english_sample, tokenizer)"
      ]
    },
    {
      "cell_type": "code",
      "execution_count": null,
      "id": "7cb8e7ae",
      "metadata": {
        "colab": {
          "base_uri": "https://localhost:8080/",
          "height": 188,
          "referenced_widgets": [
            "5e483bd1d0ab48dd84a9fd664f8125b5",
            "28b76182f908475eac5c6aa2cb877479",
            "c605335f197e4fe8bf85658a930b42ef",
            "1cfc307f4f214707a7dc46ad8092557c",
            "3f498f1676b34260893b9fa310c24a5e",
            "52e4cf08dc67489f9c72f81b3b0c8cce",
            "9bbf4a7a1ad94894a5b052200b554ad8",
            "afb566a2853242389fa725d1ad817c04",
            "d27145f2cdda4ab9809d7e7fbbd50125",
            "91779a3a671e4fb2b379126ed0e158e2",
            "c2500d8c41a040fbbc47eada4cfe0fbe"
          ]
        },
        "id": "7cb8e7ae",
        "outputId": "e456dde6-be85-497c-f051-33013d5c9841"
      },
      "outputs": [
        {
          "output_type": "stream",
          "name": "stdout",
          "text": [
            "\n",
            "Analyzing Pidgin token lengths with Naija-BERT...\n"
          ]
        },
        {
          "output_type": "display_data",
          "data": {
            "text/plain": [
              "Analyzing token lengths:   0%|          | 0/500 [00:00<?, ?it/s]"
            ]
          },
          "metadata": {}
        },
        {
          "output_type": "stream",
          "name": "stdout",
          "text": [
            "Token length statistics:\n",
            "Mean: 45.1\n",
            "Median: 27.0\n",
            "95th percentile: 149.0\n",
            "Max: 503\n",
            "Recommended max_length: 152\n"
          ]
        }
      ],
      "source": [
        "print(\"\\nAnalyzing Pidgin token lengths with Naija-BERT...\")\n",
        "pidgin_sample = pidgin_test['cleaned_text'].sample(500, random_state=42).tolist()\n",
        "max_length_pidgin, pidgin_lengths = analyze_token_lengths(pidgin_sample, tokenizer)\n"
      ]
    },
    {
      "cell_type": "code",
      "execution_count": null,
      "id": "f54e9e27",
      "metadata": {
        "id": "f54e9e27"
      },
      "outputs": [],
      "source": [
        "# Use the maximum of both for test data to handle both languages\n",
        "max_length_test = max(max_length_english, max_length_pidgin)\n"
      ]
    },
    {
      "cell_type": "code",
      "execution_count": null,
      "id": "08aeb783",
      "metadata": {
        "colab": {
          "base_uri": "https://localhost:8080/",
          "height": 442
        },
        "id": "08aeb783",
        "outputId": "befcd04c-3946-4c8b-a32e-a2930261f49a"
      },
      "outputs": [
        {
          "output_type": "display_data",
          "data": {
            "text/plain": [
              "<Figure size 1200x600 with 2 Axes>"
            ],
            "image/png": "[encoded data removed]"
          },
          "metadata": {}
        }
      ],
      "source": [
        "# Visualize token length distributions\n",
        "plt.figure(figsize=(12, 6))\n",
        "plt.subplot(1, 2, 1)\n",
        "sns.histplot(english_lengths, bins=30)\n",
        "plt.axvline(x=max_length_english, color='r', linestyle='--', label=f'Max length ({max_length_english})')\n",
        "plt.title('English Token Length Distribution with Naija-BERT')\n",
        "plt.xlabel('Number of Tokens')\n",
        "plt.ylabel('Frequency')\n",
        "plt.legend()\n",
        "\n",
        "plt.subplot(1, 2, 2)\n",
        "sns.histplot(pidgin_lengths, bins=30)\n",
        "plt.axvline(x=max_length_pidgin, color='r', linestyle='--', label=f'Max length ({max_length_pidgin})')\n",
        "plt.title('Pidgin Token Length Distribution with Naija-BERT')\n",
        "plt.xlabel('Number of Tokens')\n",
        "plt.ylabel('Frequency')\n",
        "plt.legend()\n",
        "\n",
        "plt.tight_layout()\n",
        "plt.show()"
      ]
    },
    {
      "cell_type": "code",
      "execution_count": null,
      "id": "7d186f5a",
      "metadata": {
        "colab": {
          "base_uri": "https://localhost:8080/"
        },
        "id": "7d186f5a",
        "outputId": "e3eb1bcf-f1ba-446a-c7aa-56b25b493b76"
      },
      "outputs": [
        {
          "output_type": "stream",
          "name": "stdout",
          "text": [
            "Creating PyTorch datasets...\n"
          ]
        }
      ],
      "source": [
        "# ## 5. Create PyTorch Datasets\n",
        "\n",
        "# Prepare datasets\n",
        "print(\"Creating PyTorch datasets...\")\n",
        "\n",
        "# Training dataset\n",
        "train_dataset = SentimentDataset(\n",
        "    english_train['cleaned_text'].tolist(),\n",
        "    english_train['label'].tolist(),\n",
        "    tokenizer,\n",
        "    max_length=max_length_english\n",
        ")\n",
        "\n",
        "# Validation dataset\n",
        "val_dataset = SentimentDataset(\n",
        "    english_val['cleaned_text'].tolist(),\n",
        "    english_val['label'].tolist(),\n",
        "    tokenizer,\n",
        "    max_length=max_length_english\n",
        ")\n",
        "\n",
        "# Test datasets (separate for English and Pidgin for cross-lingual evaluation)\n",
        "english_test_dataset = SentimentDataset(\n",
        "    english_test['cleaned_text'].tolist(),\n",
        "    english_test['label'].tolist(),\n",
        "    tokenizer,\n",
        "    max_length=max_length_test  # Use longer sequence length for test\n",
        ")\n",
        "\n",
        "pidgin_test_dataset = SentimentDataset(\n",
        "    pidgin_test['cleaned_text'].tolist(),\n",
        "    pidgin_test['label'].tolist(),\n",
        "    tokenizer,\n",
        "    max_length=max_length_test  # Use longer sequence length for test\n",
        ")\n",
        "\n",
        "# Combined test dataset\n",
        "combined_test_texts = english_test['cleaned_text'].tolist() + pidgin_test['cleaned_text'].tolist()\n",
        "combined_test_labels = english_test['label'].tolist() + pidgin_test['label'].tolist()\n",
        "\n",
        "combined_test_dataset = SentimentDataset(\n",
        "    combined_test_texts,\n",
        "    combined_test_labels,\n",
        "    tokenizer,\n",
        "    max_length=max_length_test\n",
        ")\n"
      ]
    },
    {
      "cell_type": "code",
      "execution_count": null,
      "id": "c7846c10",
      "metadata": {
        "colab": {
          "base_uri": "https://localhost:8080/"
        },
        "id": "c7846c10",
        "outputId": "85e06694-5a5b-4166-8dd6-e736685a0298"
      },
      "outputs": [
        {
          "output_type": "stream",
          "name": "stdout",
          "text": [
            "Train dataset size: 7000\n",
            "Validation dataset size: 1500\n",
            "English test dataset size: 1500\n",
            "Pidgin test dataset size: 750\n",
            "Combined test dataset size: 2250\n"
          ]
        }
      ],
      "source": [
        "print(f\"Train dataset size: {len(train_dataset)}\")\n",
        "print(f\"Validation dataset size: {len(val_dataset)}\")\n",
        "print(f\"English test dataset size: {len(english_test_dataset)}\")\n",
        "print(f\"Pidgin test dataset size: {len(pidgin_test_dataset)}\")\n",
        "print(f\"Combined test dataset size: {len(combined_test_dataset)}\")\n"
      ]
    },
    {
      "cell_type": "code",
      "execution_count": null,
      "id": "e22b93a5",
      "metadata": {
        "colab": {
          "base_uri": "https://localhost:8080/"
        },
        "id": "e22b93a5",
        "outputId": "be6d66f9-c031-4db7-afa5-e42cf0e87f81"
      },
      "outputs": [
        {
          "output_type": "stream",
          "name": "stdout",
          "text": [
            "\n",
            "Example batch keys: dict_keys(['input_ids', 'token_type_ids', 'attention_mask', 'labels'])\n",
            "Input IDs shape: torch.Size([2, 120])\n",
            "Attention mask shape: torch.Size([2, 120])\n",
            "Labels: tensor([0, 0])\n"
          ]
        }
      ],
      "source": [
        "# Check example batch\n",
        "train_batch = next(iter(DataLoader(train_dataset, batch_size=2)))\n",
        "print(\"\\nExample batch keys:\", train_batch.keys())\n",
        "print(f\"Input IDs shape: {train_batch['input_ids'].shape}\")\n",
        "print(f\"Attention mask shape: {train_batch['attention_mask'].shape}\")\n",
        "print(f\"Labels: {train_batch['labels']}\")"
      ]
    },
    {
      "cell_type": "code",
      "source": [
        "import os\n",
        "os.environ[\"WANDB_DISABLED\"] = \"true\""
      ],
      "metadata": {
        "id": "YtvITV78zj0L"
      },
      "id": "YtvITV78zj0L",
      "execution_count": null,
      "outputs": []
    },
    {
      "cell_type": "code",
      "execution_count": null,
      "id": "bf6abf9b",
      "metadata": {
        "id": "bf6abf9b"
      },
      "outputs": [],
      "source": [
        "# ## 6. Model Setup and Training\n",
        "\n",
        "# Define metrics function\n",
        "def compute_metrics(pred):\n",
        "    \"\"\"Compute metrics for evaluation\"\"\"\n",
        "    labels = pred.label_ids\n",
        "    preds = pred.predictions.argmax(-1)\n",
        "    precision, recall, f1, _ = precision_recall_fscore_support(labels, preds, average='weighted')\n",
        "    acc = accuracy_score(labels, preds)\n",
        "    return {\n",
        "        'accuracy': acc,\n",
        "        'f1': f1,\n",
        "        'precision': precision,\n",
        "        'recall': recall\n",
        "    }"
      ]
    },
    {
      "cell_type": "code",
      "execution_count": null,
      "id": "81638d19",
      "metadata": {
        "colab": {
          "base_uri": "https://localhost:8080/",
          "height": 138,
          "referenced_widgets": [
            "c36bdb23f831411999673b3bd2eadde9",
            "b3a4b3b14e954394b7da5dccafabfaff",
            "8fbd22ff6de34e29814aa3be76e70c97",
            "ae7715e2c6e24283b1d7fd4acaa18dd8",
            "b5c242f487a747d7b490094ef414f278",
            "1554cb2b65a247a38a461e2c5abc9a0f",
            "fb6dd453ec6c4e8a9dfae5020d140f7d",
            "2ee594a179724c668bec7c444c29292d",
            "1ee24a9f2c494746a4f04c2479dc2ef2",
            "ab63dc0d991944eea7421fa192308771",
            "2a63a3c0015649bdbefe7dd5767bd6c7"
          ]
        },
        "id": "81638d19",
        "outputId": "9df6dd06-5985-4b9e-f681-e39bd42d5770"
      },
      "outputs": [
        {
          "output_type": "stream",
          "name": "stdout",
          "text": [
            "\n",
            "Initializing Naija-BERT model...\n"
          ]
        },
        {
          "output_type": "display_data",
          "data": {
            "text/plain": [
              "pytorch_model.bin:   0%|          | 0.00/562M [00:00<?, ?B/s]"
            ]
          },
          "metadata": {}
        },
        {
          "output_type": "stream",
          "name": "stderr",
          "text": [
            "Some weights of BertForSequenceClassification were not initialized from the model checkpoint at Davlan/naija-bert-base and are newly initialized: ['classifier.bias', 'classifier.weight']\n",
            "You should probably TRAIN this model on a down-stream task to be able to use it for predictions and inference.\n"
          ]
        }
      ],
      "source": [
        "# Initialize model\n",
        "print(\"\\nInitializing Naija-BERT model...\")\n",
        "# First create the standard model\n",
        "model = AutoModelForSequenceClassification.from_pretrained(\n",
        "    'Davlan/naija-bert-base',\n",
        "    num_labels=3,  # positive, negative, neutral\n",
        ")"
      ]
    },
    {
      "cell_type": "code",
      "source": [
        "# Define weighted trainer that applies class weights during loss computation\n",
        "class WeightedTrainer(Trainer):\n",
        "    def __init__(self, class_weights=None, *args, **kwargs):\n",
        "        super().__init__(*args, **kwargs)\n",
        "        self.class_weights = class_weights\n",
        "\n",
        "    def compute_loss(self, model, inputs, return_outputs=False, num_items_in_batch=None):\n",
        "        # Extract labels\n",
        "        labels = inputs.pop(\"labels\")\n",
        "\n",
        "        # Forward pass\n",
        "        outputs = model(**inputs)\n",
        "        logits = outputs.logits\n",
        "\n",
        "        # Apply weighted loss\n",
        "        if self.class_weights is not None:\n",
        "            loss_fct = torch.nn.CrossEntropyLoss(weight=self.class_weights.to(logits.device))\n",
        "            loss = loss_fct(logits.view(-1, model.config.num_labels), labels.view(-1))\n",
        "        else:\n",
        "            loss_fct = torch.nn.CrossEntropyLoss()\n",
        "            loss = loss_fct(logits.view(-1, model.config.num_labels), labels.view(-1))\n",
        "\n",
        "        # Add labels back to inputs for potential use elsewhere\n",
        "        inputs[\"labels\"] = labels\n",
        "\n",
        "        return (loss, outputs) if return_outputs else loss"
      ],
      "metadata": {
        "id": "tj7Abs7q2STV"
      },
      "id": "tj7Abs7q2STV",
      "execution_count": null,
      "outputs": []
    },
    {
      "cell_type": "code",
      "execution_count": null,
      "id": "7435bfc2",
      "metadata": {
        "id": "7435bfc2"
      },
      "outputs": [],
      "source": [
        "# Resize token embeddings if tokenizer vocabulary was modified\n",
        "if len(tokenizer) != model.config.vocab_size:\n",
        "    model.resize_token_embeddings(len(tokenizer))\n",
        "    print(f\"Resized token embeddings from {model.config.vocab_size} to {len(tokenizer)}\")"
      ]
    },
    {
      "cell_type": "code",
      "execution_count": null,
      "id": "251a5a76",
      "metadata": {
        "colab": {
          "base_uri": "https://localhost:8080/",
          "height": 798
        },
        "id": "251a5a76",
        "outputId": "5a825138-e718-4cbc-f302-b5bea467c2c3"
      },
      "outputs": [
        {
          "output_type": "execute_result",
          "data": {
            "text/plain": [
              "BertForSequenceClassification(\n",
              "  (bert): BertModel(\n",
              "    (embeddings): BertEmbeddings(\n",
              "      (word_embeddings): Embedding(70000, 768, padding_idx=0)\n",
              "      (position_embeddings): Embedding(512, 768)\n",
              "      (token_type_embeddings): Embedding(2, 768)\n",
              "      (LayerNorm): LayerNorm((768,), eps=1e-12, elementwise_affine=True)\n",
              "      (dropout): Dropout(p=0.1, inplace=False)\n",
              "    )\n",
              "    (encoder): BertEncoder(\n",
              "      (layer): ModuleList(\n",
              "        (0-11): 12 x BertLayer(\n",
              "          (attention): BertAttention(\n",
              "            (self): BertSdpaSelfAttention(\n",
              "              (query): Linear(in_features=768, out_features=768, bias=True)\n",
              "              (key): Linear(in_features=768, out_features=768, bias=True)\n",
              "              (value): Linear(in_features=768, out_features=768, bias=True)\n",
              "              (dropout): Dropout(p=0.1, inplace=False)\n",
              "            )\n",
              "            (output): BertSelfOutput(\n",
              "              (dense): Linear(in_features=768, out_features=768, bias=True)\n",
              "              (LayerNorm): LayerNorm((768,), eps=1e-12, elementwise_affine=True)\n",
              "              (dropout): Dropout(p=0.1, inplace=False)\n",
              "            )\n",
              "          )\n",
              "          (intermediate): BertIntermediate(\n",
              "            (dense): Linear(in_features=768, out_features=3072, bias=True)\n",
              "            (intermediate_act_fn): GELUActivation()\n",
              "          )\n",
              "          (output): BertOutput(\n",
              "            (dense): Linear(in_features=3072, out_features=768, bias=True)\n",
              "            (LayerNorm): LayerNorm((768,), eps=1e-12, elementwise_affine=True)\n",
              "            (dropout): Dropout(p=0.1, inplace=False)\n",
              "          )\n",
              "        )\n",
              "      )\n",
              "    )\n",
              "    (pooler): BertPooler(\n",
              "      (dense): Linear(in_features=768, out_features=768, bias=True)\n",
              "      (activation): Tanh()\n",
              "    )\n",
              "  )\n",
              "  (dropout): Dropout(p=0.1, inplace=False)\n",
              "  (classifier): Linear(in_features=768, out_features=3, bias=True)\n",
              ")"
            ]
          },
          "metadata": {},
          "execution_count": 36
        }
      ],
      "source": [
        "# Move model to GPU if available\n",
        "model.to(device)"
      ]
    },
    {
      "cell_type": "code",
      "execution_count": null,
      "id": "394912ef",
      "metadata": {
        "colab": {
          "base_uri": "https://localhost:8080/"
        },
        "id": "394912ef",
        "outputId": "566b4996-cc9b-42f7-af25-b43a3cea216a"
      },
      "outputs": [
        {
          "output_type": "stream",
          "name": "stderr",
          "text": [
            "/usr/local/lib/python3.11/dist-packages/transformers/training_args.py:1611: FutureWarning: `evaluation_strategy` is deprecated and will be removed in version 4.46 of \ud83e\udd17 Transformers. Use `eval_strategy` instead\n",
            "  warnings.warn(\n",
            "Using the `WANDB_DISABLED` environment variable is deprecated and will be removed in v5. Use the --report_to flag to control the integrations used for logging result (for instance --report_to none).\n"
          ]
        },
        {
          "output_type": "stream",
          "name": "stdout",
          "text": [
            "\n",
            "Setting up training arguments...\n"
          ]
        }
      ],
      "source": [
        "# Training arguments\n",
        "print(\"\\nSetting up training arguments...\")\n",
        "training_args = TrainingArguments(\n",
        "    output_dir=\"./results/exp3\",\n",
        "    num_train_epochs=5,\n",
        "    per_device_train_batch_size=16,  # Can increase if GPU memory allows\n",
        "    per_device_eval_batch_size=32,\n",
        "    warmup_steps=500,\n",
        "    weight_decay=0.01,\n",
        "    logging_dir=\"./logs/exp3\",\n",
        "    logging_steps=100,\n",
        "    evaluation_strategy=\"epoch\",\n",
        "    save_strategy=\"epoch\",\n",
        "    load_best_model_at_end=True,\n",
        "    metric_for_best_model=\"f1\",\n",
        "    push_to_hub=False,\n",
        "    fp16=torch.cuda.is_available(),  # Use mixed precision if GPU is available\n",
        ")"
      ]
    },
    {
      "cell_type": "code",
      "execution_count": null,
      "id": "28cc5970",
      "metadata": {
        "id": "28cc5970"
      },
      "outputs": [],
      "source": [
        "# Initialize Trainer with early stopping and class weights\n",
        "trainer = WeightedTrainer(\n",
        "    model=model,\n",
        "    args=training_args,\n",
        "    train_dataset=train_dataset,\n",
        "    eval_dataset=val_dataset,\n",
        "    compute_metrics=compute_metrics,\n",
        "    class_weights=class_weights,  # Pass class weights to custom trainer\n",
        "    callbacks=[EarlyStoppingCallback(early_stopping_patience=2)]\n",
        ")"
      ]
    },
    {
      "cell_type": "code",
      "execution_count": null,
      "id": "78dc82f4",
      "metadata": {
        "colab": {
          "base_uri": "https://localhost:8080/",
          "height": 408
        },
        "id": "78dc82f4",
        "outputId": "4590ca32-26f8-40d7-aa72-ba0ca8802d26"
      },
      "outputs": [
        {
          "output_type": "stream",
          "name": "stdout",
          "text": [
            "\n",
            "Training the model...\n"
          ]
        },
        {
          "output_type": "display_data",
          "data": {
            "text/plain": [
              "<IPython.core.display.HTML object>"
            ],
            "text/html": [
              "\n",
              "    <div>\n",
              "      \n",
              "      <progress value='2190' max='2190' style='width:300px; height:20px; vertical-align: middle;'></progress>\n",
              "      [2190/2190 05:41, Epoch 5/5]\n",
              "    </div>\n",
              "    <table border=\"1\" class=\"dataframe\">\n",
              "  <thead>\n",
              " <tr style=\"text-align: left;\">\n",
              "      <th>Epoch</th>\n",
              "      <th>Training Loss</th>\n",
              "      <th>Validation Loss</th>\n",
              "      <th>Accuracy</th>\n",
              "      <th>F1</th>\n",
              "      <th>Precision</th>\n",
              "      <th>Recall</th>\n",
              "    </tr>\n",
              "  </thead>\n",
              "  <tbody>\n",
              "    <tr>\n",
              "      <td>1</td>\n",
              "      <td>0.501900</td>\n",
              "      <td>0.438675</td>\n",
              "      <td>0.928667</td>\n",
              "      <td>0.928396</td>\n",
              "      <td>0.928515</td>\n",
              "      <td>0.928667</td>\n",
              "    </tr>\n",
              "    <tr>\n",
              "      <td>2</td>\n",
              "      <td>0.398700</td>\n",
              "      <td>0.588498</td>\n",
              "      <td>0.935333</td>\n",
              "      <td>0.934680</td>\n",
              "      <td>0.934121</td>\n",
              "      <td>0.935333</td>\n",
              "    </tr>\n",
              "    <tr>\n",
              "      <td>3</td>\n",
              "      <td>0.116900</td>\n",
              "      <td>0.549300</td>\n",
              "      <td>0.942667</td>\n",
              "      <td>0.941655</td>\n",
              "      <td>0.940854</td>\n",
              "      <td>0.942667</td>\n",
              "    </tr>\n",
              "    <tr>\n",
              "      <td>4</td>\n",
              "      <td>0.044500</td>\n",
              "      <td>0.766404</td>\n",
              "      <td>0.937333</td>\n",
              "      <td>0.935564</td>\n",
              "      <td>0.936172</td>\n",
              "      <td>0.937333</td>\n",
              "    </tr>\n",
              "    <tr>\n",
              "      <td>5</td>\n",
              "      <td>0.025400</td>\n",
              "      <td>0.551640</td>\n",
              "      <td>0.942667</td>\n",
              "      <td>0.942181</td>\n",
              "      <td>0.941740</td>\n",
              "      <td>0.942667</td>\n",
              "    </tr>\n",
              "  </tbody>\n",
              "</table><p>"
            ]
          },
          "metadata": {}
        },
        {
          "output_type": "stream",
          "name": "stderr",
          "text": [
            "/usr/local/lib/python3.11/dist-packages/sklearn/metrics/_classification.py:1565: UndefinedMetricWarning: Precision is ill-defined and being set to 0.0 in labels with no predicted samples. Use `zero_division` parameter to control this behavior.\n",
            "  _warn_prf(average, modifier, f\"{metric.capitalize()} is\", len(result))\n",
            "/usr/local/lib/python3.11/dist-packages/sklearn/metrics/_classification.py:1565: UndefinedMetricWarning: Precision is ill-defined and being set to 0.0 in labels with no predicted samples. Use `zero_division` parameter to control this behavior.\n",
            "  _warn_prf(average, modifier, f\"{metric.capitalize()} is\", len(result))\n"
          ]
        },
        {
          "output_type": "execute_result",
          "data": {
            "text/plain": [
              "TrainOutput(global_step=2190, training_loss=0.2338136579348072, metrics={'train_runtime': 342.6103, 'train_samples_per_second': 102.157, 'train_steps_per_second': 6.392, 'total_flos': 2158352254800000.0, 'train_loss': 0.2338136579348072, 'epoch': 5.0})"
            ]
          },
          "metadata": {},
          "execution_count": 39
        }
      ],
      "source": [
        "# ## 7. Train Model\n",
        "\n",
        "# Train the model\n",
        "print(\"\\nTraining the model...\")\n",
        "trainer.train()\n"
      ]
    },
    {
      "cell_type": "code",
      "execution_count": null,
      "id": "f80a01fd",
      "metadata": {
        "colab": {
          "base_uri": "https://localhost:8080/"
        },
        "id": "f80a01fd",
        "outputId": "2d228b77-a7a7-47e6-b486-1e474a5076e2"
      },
      "outputs": [
        {
          "output_type": "stream",
          "name": "stdout",
          "text": [
            "\n",
            "Saving the best model...\n"
          ]
        },
        {
          "output_type": "execute_result",
          "data": {
            "text/plain": [
              "('./results/exp3/tokenizer/tokenizer_config.json',\n",
              " './results/exp3/tokenizer/special_tokens_map.json',\n",
              " './results/exp3/tokenizer/vocab.txt',\n",
              " './results/exp3/tokenizer/added_tokens.json',\n",
              " './results/exp3/tokenizer/tokenizer.json')"
            ]
          },
          "metadata": {},
          "execution_count": 40
        }
      ],
      "source": [
        "# Save the final model\n",
        "print(\"\\nSaving the best model...\")\n",
        "trainer.save_model(\"./results/exp3/best_model\")\n",
        "tokenizer.save_pretrained(\"./results/exp3/tokenizer\")"
      ]
    },
    {
      "cell_type": "code",
      "execution_count": null,
      "id": "15b3cb02",
      "metadata": {
        "colab": {
          "base_uri": "https://localhost:8080/",
          "height": 265
        },
        "id": "15b3cb02",
        "outputId": "4b156bf7-6a45-433c-b97d-a11c6c6515d7"
      },
      "outputs": [
        {
          "output_type": "stream",
          "name": "stdout",
          "text": [
            "\n",
            "Evaluating on validation set...\n"
          ]
        },
        {
          "output_type": "display_data",
          "data": {
            "text/plain": [
              "<IPython.core.display.HTML object>"
            ],
            "text/html": [
              "\n",
              "    <div>\n",
              "      \n",
              "      <progress value='189' max='47' style='width:300px; height:20px; vertical-align: middle;'></progress>\n",
              "      [47/47 00:11]\n",
              "    </div>\n",
              "    "
            ]
          },
          "metadata": {}
        },
        {
          "output_type": "stream",
          "name": "stdout",
          "text": [
            "Validation results: {'eval_loss': 0.5516401529312134, 'eval_accuracy': 0.9426666666666667, 'eval_f1': 0.9421809314758253, 'eval_precision': 0.9417397895085463, 'eval_recall': 0.9426666666666667, 'eval_runtime': 2.6232, 'eval_samples_per_second': 571.823, 'eval_steps_per_second': 17.917, 'epoch': 5.0}\n",
            "\n",
            "Evaluating on English test set (in-language performance)...\n",
            "English test results: {'eval_loss': 0.715817928314209, 'eval_accuracy': 0.9533333333333334, 'eval_f1': 0.9528082611992942, 'eval_precision': 0.9530552334452244, 'eval_recall': 0.9533333333333334, 'eval_runtime': 3.0895, 'eval_samples_per_second': 485.51, 'eval_steps_per_second': 15.213, 'epoch': 5.0}\n",
            "\n",
            "Evaluating on Pidgin test set (cross-lingual performance)...\n",
            "Pidgin test results: {'eval_loss': 6.077055931091309, 'eval_accuracy': 0.39866666666666667, 'eval_f1': 0.4361423868312758, 'eval_precision': 0.6013994870566951, 'eval_recall': 0.39866666666666667, 'eval_runtime': 1.5771, 'eval_samples_per_second': 475.541, 'eval_steps_per_second': 15.217, 'epoch': 5.0}\n",
            "\n",
            "Evaluating on combined test set...\n",
            "Combined test results: {'eval_loss': 2.5747904777526855, 'eval_accuracy': 0.7684444444444445, 'eval_f1': 0.7430502768085794, 'eval_precision': 0.7534262205968164, 'eval_recall': 0.7684444444444445, 'eval_runtime': 4.6819, 'eval_samples_per_second': 480.572, 'eval_steps_per_second': 15.165, 'epoch': 5.0}\n"
          ]
        }
      ],
      "source": [
        "# ## 8. Evaluation\n",
        "\n",
        "# Evaluate on validation set\n",
        "print(\"\\nEvaluating on validation set...\")\n",
        "val_results = trainer.evaluate(val_dataset)\n",
        "print(f\"Validation results: {val_results}\")\n",
        "\n",
        "# Evaluate on English test set\n",
        "print(\"\\nEvaluating on English test set (in-language performance)...\")\n",
        "english_test_results = trainer.evaluate(english_test_dataset)\n",
        "print(f\"English test results: {english_test_results}\")\n",
        "\n",
        "# Evaluate on Pidgin test set\n",
        "print(\"\\nEvaluating on Pidgin test set (cross-lingual performance)...\")\n",
        "pidgin_test_results = trainer.evaluate(pidgin_test_dataset)\n",
        "print(f\"Pidgin test results: {pidgin_test_results}\")\n",
        "\n",
        "# Evaluate on combined test set\n",
        "print(\"\\nEvaluating on combined test set...\")\n",
        "combined_test_results = trainer.evaluate(combined_test_dataset)\n",
        "print(f\"Combined test results: {combined_test_results}\")\n"
      ]
    },
    {
      "cell_type": "code",
      "execution_count": null,
      "id": "2cf100df",
      "metadata": {
        "id": "2cf100df"
      },
      "outputs": [],
      "source": [
        "# ## 9. Detailed Performance Analysis\n",
        "\n",
        "# Get predictions for the test sets\n",
        "def get_predictions(model, dataset, device):\n",
        "    \"\"\"Get model predictions for a dataset\"\"\"\n",
        "    dataloader = DataLoader(dataset, batch_size=16)\n",
        "    model.eval()\n",
        "    model.to(device)\n",
        "\n",
        "    all_preds = []\n",
        "    all_labels = []\n",
        "\n",
        "    with torch.no_grad():\n",
        "        for batch in tqdm(dataloader, desc=\"Getting predictions\"):\n",
        "            # Move batch to device\n",
        "            batch = {k: v.to(device) for k, v in batch.items()}\n",
        "            outputs = model(**{k: v for k, v in batch.items() if k != 'labels'})\n",
        "\n",
        "            logits = outputs.logits\n",
        "            predictions = torch.argmax(logits, dim=-1)\n",
        "\n",
        "            all_preds.extend(predictions.cpu().numpy())\n",
        "            all_labels.extend(batch['labels'].cpu().numpy())\n",
        "\n",
        "    return np.array(all_preds), np.array(all_labels)\n"
      ]
    },
    {
      "cell_type": "code",
      "execution_count": null,
      "id": "ebe4de02",
      "metadata": {
        "colab": {
          "base_uri": "https://localhost:8080/",
          "height": 81,
          "referenced_widgets": [
            "6f0e6d67384a49d48d93c1a32a9e6020",
            "2eb30e2c29464e638406a7887568ab7e",
            "01bda965f8e44b85a4ca9d2e04dadfd8",
            "67f052c3ba7d4a94a67380166a93d56a",
            "8ea46e4c44684030ba8af33bd1209f81",
            "c5e1f490b9544c25901955a0ed87b6fd",
            "aabac441ba5a40ac9ad4e5fb2af6d51d",
            "f23fa94c736e4ea5803a7b43dc495dde",
            "00cd1be66c68494cba359369e8e09d3a",
            "f2a0fd341b42419d917b4d47cbd66d83",
            "ae5339db24d74ebfb05ec34dddd47196",
            "a1b020ebdfeb4629ad87266a660c98f1",
            "59c9ef4b392444528bea8c06752ca975",
            "8cb152e2683440e390a45798ea2e6b82",
            "3430d465bacb42c695166a73244c42c9",
            "84fd86ff1ec243c19caf87962074f007",
            "f59c967a10a2459bb603fd249429467f",
            "f53a061050e744f8bc154692bde066b9",
            "e792655014234ac8b24ec5fa1bcd0380",
            "63dfbde2bd964a09bedc033660fb0548",
            "a7fe756baff94dffb4b0f2bbd0fc4a54",
            "f243339fc19e4ec6b08b02cfb98bdeaa"
          ]
        },
        "id": "ebe4de02",
        "outputId": "f34a3520-08fc-499f-cb27-af4ef7fde640"
      },
      "outputs": [
        {
          "output_type": "display_data",
          "data": {
            "text/plain": [
              "Getting predictions:   0%|          | 0/94 [00:00<?, ?it/s]"
            ]
          },
          "metadata": {}
        },
        {
          "output_type": "display_data",
          "data": {
            "text/plain": [
              "Getting predictions:   0%|          | 0/47 [00:00<?, ?it/s]"
            ]
          },
          "metadata": {}
        }
      ],
      "source": [
        "# Get predictions\n",
        "english_preds, english_labels = get_predictions(model, english_test_dataset, device)\n",
        "pidgin_preds, pidgin_labels = get_predictions(model, pidgin_test_dataset, device)"
      ]
    },
    {
      "cell_type": "code",
      "execution_count": null,
      "id": "ea74fd0d",
      "metadata": {
        "id": "ea74fd0d"
      },
      "outputs": [],
      "source": [
        "# Detailed metrics\n",
        "def print_detailed_metrics(preds, labels, dataset_name):\n",
        "    \"\"\"Print detailed metrics for a dataset\"\"\"\n",
        "    acc = accuracy_score(labels, preds)\n",
        "    precision, recall, f1, _ = precision_recall_fscore_support(labels, preds, average='weighted')\n",
        "\n",
        "    print(f\"\\n{dataset_name} Detailed Metrics:\")\n",
        "    print(f\"Accuracy: {acc:.4f}\")\n",
        "    print(f\"F1 Score (weighted): {f1:.4f}\")\n",
        "    print(f\"Precision (weighted): {precision:.4f}\")\n",
        "    print(f\"Recall (weighted): {recall:.4f}\")\n",
        "\n",
        "    # Classification report\n",
        "    label_names = ['positive', 'negative', 'neutral']\n",
        "    print(\"\\nClassification Report:\")\n",
        "    print(classification_report(labels, preds, target_names=label_names))\n",
        "\n",
        "    # Confusion matrix\n",
        "    cm = confusion_matrix(labels, preds)\n",
        "    plt.figure(figsize=(8, 6))\n",
        "    sns.heatmap(cm, annot=True, fmt='d', cmap='Blues', xticklabels=label_names, yticklabels=label_names)\n",
        "    plt.title(f'{dataset_name} Confusion Matrix')\n",
        "    plt.ylabel('True Label')\n",
        "    plt.xlabel('Predicted Label')\n",
        "    plt.show()"
      ]
    },
    {
      "cell_type": "code",
      "execution_count": null,
      "id": "02301b1e",
      "metadata": {
        "colab": {
          "base_uri": "https://localhost:8080/",
          "height": 1000
        },
        "id": "02301b1e",
        "outputId": "a3225e0e-a57a-4c6e-b7d2-a2d9a35515b7"
      },
      "outputs": [
        {
          "output_type": "stream",
          "name": "stdout",
          "text": [
            "\n",
            "English Test Detailed Metrics:\n",
            "Accuracy: 0.9533\n",
            "F1 Score (weighted): 0.9528\n",
            "Precision (weighted): 0.9531\n",
            "Recall (weighted): 0.9533\n",
            "\n",
            "Classification Report:\n",
            "              precision    recall  f1-score   support\n",
            "\n",
            "    positive       0.97      0.97      0.97      1149\n",
            "    negative       0.91      0.89      0.90       348\n",
            "     neutral       1.00      0.33      0.50         3\n",
            "\n",
            "    accuracy                           0.95      1500\n",
            "   macro avg       0.96      0.73      0.79      1500\n",
            "weighted avg       0.95      0.95      0.95      1500\n",
            "\n"
          ]
        },
        {
          "output_type": "display_data",
          "data": {
            "text/plain": [
              "<Figure size 800x600 with 2 Axes>"
            ],
            "image/png": "[encoded data removed]"
          },
          "metadata": {}
        },
        {
          "output_type": "stream",
          "name": "stdout",
          "text": [
            "\n",
            "Pidgin Test (Cross-lingual) Detailed Metrics:\n",
            "Accuracy: 0.4000\n",
            "F1 Score (weighted): 0.4375\n",
            "Precision (weighted): 0.6033\n",
            "Recall (weighted): 0.4000\n",
            "\n",
            "Classification Report:\n",
            "              precision    recall  f1-score   support\n",
            "\n",
            "    positive       0.14      0.76      0.24        78\n",
            "    negative       0.79      0.46      0.59       469\n",
            "     neutral       0.35      0.11      0.17       203\n",
            "\n",
            "    accuracy                           0.40       750\n",
            "   macro avg       0.43      0.44      0.33       750\n",
            "weighted avg       0.60      0.40      0.44       750\n",
            "\n"
          ]
        },
        {
          "output_type": "display_data",
          "data": {
            "text/plain": [
              "<Figure size 800x600 with 2 Axes>"
            ],
            "image/png": "[encoded data removed]"
          },
          "metadata": {}
        }
      ],
      "source": [
        "# Print detailed metrics\n",
        "print_detailed_metrics(english_preds, english_labels, \"English Test\")\n",
        "print_detailed_metrics(pidgin_preds, pidgin_labels, \"Pidgin Test (Cross-lingual)\")\n"
      ]
    },
    {
      "cell_type": "code",
      "execution_count": null,
      "id": "7300e2e0",
      "metadata": {
        "id": "7300e2e0"
      },
      "outputs": [],
      "source": [
        "# ## 10. Analyze Error Cases\n",
        "\n",
        "# Function to analyze error cases\n",
        "def analyze_errors(texts, preds, labels, dataset_name, max_examples=10):\n",
        "    \"\"\"Analyze and display error cases\"\"\"\n",
        "    errors = []\n",
        "    for i in range(len(texts)):\n",
        "        if preds[i] != labels[i]:\n",
        "            errors.append({\n",
        "                'text': texts[i],\n",
        "                'true_label': labels[i],\n",
        "                'pred_label': preds[i]\n",
        "            })\n",
        "\n",
        "    print(f\"\\n{dataset_name} Error Analysis ({len(errors)} errors out of {len(texts)} samples):\")\n",
        "    print(f\"Error rate: {len(errors)/len(texts):.2%}\")\n",
        "\n",
        "    # Group errors by type\n",
        "    error_types = {}\n",
        "    for error in errors:\n",
        "        key = f\"{error['true_label']} -> {error['pred_label']}\"\n",
        "        if key not in error_types:\n",
        "            error_types[key] = []\n",
        "        error_types[key].append(error)\n",
        "\n",
        "    # Print error distribution\n",
        "    print(\"\\nError distribution:\")\n",
        "    for error_type, examples in error_types.items():\n",
        "        true_label, pred_label = error_type.split(' -> ')\n",
        "        label_map_inv = {0: 'positive', 1: 'negative', 2: 'neutral'}\n",
        "        true_name = label_map_inv[int(true_label)]\n",
        "        pred_name = label_map_inv[int(pred_label)]\n",
        "        print(f\"  {true_name} predicted as {pred_name}: {len(examples)} cases ({len(examples)/len(errors):.2%} of errors)\")\n",
        "\n",
        "    # Show examples of each error type\n",
        "    print(\"\\nExample errors by type:\")\n",
        "    for error_type, examples in error_types.items():\n",
        "        true_label, pred_label = error_type.split(' -> ')\n",
        "        label_map_inv = {0: 'positive', 1: 'negative', 2: 'neutral'}\n",
        "        true_name = label_map_inv[int(true_label)]\n",
        "        pred_name = label_map_inv[int(pred_label)]\n",
        "\n",
        "        print(f\"\\n{true_name} predicted as {pred_name}:\")\n",
        "        for i, error in enumerate(examples[:max_examples]):\n",
        "            print(f\"  Example {i+1}: {error['text']}\")"
      ]
    },
    {
      "cell_type": "code",
      "execution_count": null,
      "id": "b9ef1ae7",
      "metadata": {
        "colab": {
          "base_uri": "https://localhost:8080/"
        },
        "id": "b9ef1ae7",
        "outputId": "96cc9b06-cca0-4a70-aece-d06551707ec7"
      },
      "outputs": [
        {
          "output_type": "stream",
          "name": "stdout",
          "text": [
            "\n",
            "English Test Error Analysis (70 errors out of 1500 samples):\n",
            "Error rate: 4.67%\n",
            "\n",
            "Error distribution:\n",
            "  negative predicted as positive: 39 cases (55.71% of errors)\n",
            "  positive predicted as negative: 29 cases (41.43% of errors)\n",
            "  neutral predicted as negative: 1 cases (1.43% of errors)\n",
            "  neutral predicted as positive: 1 cases (1.43% of errors)\n",
            "\n",
            "Example errors by type:\n",
            "\n",
            "negative predicted as positive:\n",
            "  Example 1: this is my go to coffee i love the flavor the price is reasonable for how many k cups you get definitely recommend it\n",
            "  Example 2: very good ristretto but you only get a fraction out of your investment the way the capsules are designed the problem they do not allow to release the pressure at the right moment coffee comes out of the top and spills all over your dolce gusto coffee makers i have three different coffee makers and they don t work with any of them all original nes caf capsules work it s no problem be careful buying other than original\n",
            "  Example 3: my poor husband is paying the price of this spicy mayo he said it wasn t great but had already put it on his sandwich he has so much regret as he has been on the toilet for hours don t recommend unless you need a cleanse EMOJI\n",
            "  Example 4: got as gift would never sent to anyone too dry they are not good too sweet and cheap tasting\n",
            "  Example 5: it was too runny for 18 year old balsamic i used it for my salads along with olive oil\n",
            "  Example 6: difficult to eat as flavor is unusual and i'm vegetarian\n",
            "  Example 7: this was like for cup cakes\n",
            "  Example 8: well i bought this for my job and then they laid me off they refused to take requests but the sample i had was so good i wanted more the french roast and italian roast the company had tons of was giving me a headache and this helped had no idea i was gonna be canned the following week\n",
            "  Example 9: what can i say a lesson learned in not reading the reviews a lot of the already posted reviews echo my complaints so if i had to put one here it would be the stunning lack of variety more than half of the bag was lollipops enough said\n",
            "  Example 10: the taste is the most important thing to me wanted old fashioned christmas candy\n",
            "\n",
            "positive predicted as negative:\n",
            "  Example 1: hello the peppermint bark was very good however the peppermint was very scarce and that was not a good thing the peppermint candy cane is precisely why i ordered this candy on the box it showed the bark being loaded with peppermint but in actuality it did not appear the way is was on the box some people may may prefer this small amount and not be alarmed by this and some may not to each its own overall the bark was good could be better with more peppermint thanks\n",
            "  Example 2: the flavor was really good but i would not buy it again due to the price i thought there was more than 1 box in the package\n",
            "  Example 3: there wasn t really any flavor i was able to color it by using food dye a vegan way to use the gelatin\n",
            "  Example 4: arrived earlier than scheduled and frosty cold in a dry ice cooler thanks for feeding my snickers addiction\n",
            "  Example 5: my wife liked to have coffee but it had to be decaf she was having trouble finding a coffee that she liked until we found this after she has a cup of two she takes the rest and makes an ice coffee\n",
            "  Example 6: they came vacuumed sealed i plan on making vanilla extract with them\n",
            "  Example 7: this sweetener has a low glycemic index and should be a good aid in losing weight i have lost forty pounds so far and avoiding sugar has been a prime reason i also like the fact that this is not made from corn since corn has naturally occurring msg which i also try to avoid\n",
            "  Example 8: milk was hard to mix completely suggest using electric mixer other than slight problem i will be placing another order soon\n",
            "  Example 9: i have bought these before but this batch was old stale\n",
            "  Example 10: this is so bad why did i give it five stars this is the only gum i have found that i can tolerate i can't have any kind of sugar or sugar substitute i really missed chewing gum this is hard and there is no flavor i think they just hold fruit over the gum so it has some of the smell of fruit still i chew this all day long the only game in town as far as i know for people like me\n",
            "\n",
            "neutral predicted as negative:\n",
            "  Example 1: 67 for my books no complaints 67 more than i had plus i m on book voucher\n",
            "\n",
            "neutral predicted as positive:\n",
            "  Example 1: anyone have some advice i need it\n"
          ]
        }
      ],
      "source": [
        "# Analyze English errors\n",
        "analyze_errors(\n",
        "    english_test['cleaned_text'].tolist(),\n",
        "    english_preds,\n",
        "    english_labels,\n",
        "    \"English Test\"\n",
        ")"
      ]
    },
    {
      "cell_type": "code",
      "execution_count": null,
      "id": "937deffb",
      "metadata": {
        "colab": {
          "base_uri": "https://localhost:8080/"
        },
        "id": "937deffb",
        "outputId": "61390374-e290-404f-cac0-54d0fba71944"
      },
      "outputs": [
        {
          "output_type": "stream",
          "name": "stdout",
          "text": [
            "\n",
            "Pidgin Test Error Analysis (450 errors out of 750 samples):\n",
            "Error rate: 60.00%\n",
            "\n",
            "Error distribution:\n",
            "  neutral predicted as negative: 43 cases (9.56% of errors)\n",
            "  negative predicted as neutral: 39 cases (8.67% of errors)\n",
            "  neutral predicted as positive: 137 cases (30.44% of errors)\n",
            "  negative predicted as positive: 212 cases (47.11% of errors)\n",
            "  positive predicted as negative: 15 cases (3.33% of errors)\n",
            "  positive predicted as neutral: 4 cases (0.89% of errors)\n",
            "\n",
            "Example errors by type:\n",
            "\n",
            "neutral predicted as negative:\n",
            "  Example 1: all these thingsna on top radio we dey hear am we nor kuku dey see amabi na niger Niger i dey wey i dey hear nigeria Nigeria news EMOJI why is everything to help the poor under this administration audio while the one for the rich dey hit their account before it's even announced as token is buhari not better like this at least with him i saw people who benefited from npower tradermoni and school feeding till he handed it over to his gf niger ia which way\n",
            "  Example 2: kolo dey kolo EMOJI why are they acting so shocked as if they're saint this is the order of the day\n",
            "  Example 3: lol if them want shut am down mak them shut am at least we need a long break like covid even though this one na with sapa not like covid time wey money dey\n",
            "  Example 4: anyhow them want dey do make them dey do dey go we are waiting for pept process to be concluded 1st\n",
            "  Example 5: dey ask jamb questions upandan as if you don't know that the roads are like that are you not a nigerian i am yet to see what this government has achieved in over 100days in office continue when fashola was the governor of lagos state you hardly see any media reportage not until he starts or is almost through with his job if you cannot be a fashola as a governor he was then stop disturbing our ears go get something done\n",
            "  Example 6: even hamas dey behave like what will jesus do wwjd pass those stupid zionist wey dey call diaself israel\n",
            "  Example 7: na laugh i just dey laugh\n",
            "  Example 8: ologunagba should have given this statement to atiku's media spokesman to write na phrank dey sabi coin menacing statements give these apc bastards\n",
            "  Example 9: he el rufia or he el rufiahell or heavenchoose one all this people that want to go to heaven which is the presence of god you na dey holy abi you na dey loving if not biko make you na dey hell jeje dey enjoy you na wickedness at the end it is still dust to dust\n",
            "  Example 10: in this casepassion supersedeyou didn't even read his submission\n",
            "\n",
            "negative predicted as neutral:\n",
            "  Example 1: if military strike you all go dey whine you all selves just imagine is this democracy\n",
            "  Example 2: dey play oh if u dey miss am come back huz\n",
            "  Example 3: just dey play\n",
            "  Example 4: lol dey play jus say u need sympathy na u turn judge of the jungle den during buhari era climbing tree\n",
            "  Example 5: wetin dey pursue them for you all home again i must not see u goys ranting on screen again oo\n",
            "  Example 6: quote author eriggs post 125017332 quote zombie dey use another moniker quote me to type rubbish\n",
            "  Example 7: hmmm dey play man u no get sense oh i don t know what is wrong with the team\n",
            "  Example 8: somebody say sai baba there somebody say emilokon here them really been talk say tinubu na buhari pro max no be lie them talk o is it for borle is it for ewa maybe its for agbado agbadorian dey enjoy the country wella you all mind go dey\n",
            "  Example 9: darwin nunuez ever since u've picked form and stopped ur shots on goalpost i've just been falling in love with ur playstyle no homooo i nor want see gakpo for nunez position again oooo make e jejely dey play e lw\n",
            "  Example 10: una never see anything protest dey on nlfpmod\n",
            "\n",
            "neutral predicted as positive:\n",
            "  Example 1: the guy dey speak english to italians he say na move back a bit EMOJI EMOJI EMOJI\n",
            "  Example 2: even agbado people living in this slummy part of lagos go dey claim lagosians and asking people living in ikoyi and co to go back to their village chai poverty na bastard\n",
            "  Example 3: you dey vex oooo bro\n",
            "  Example 4: so who should i now have sex with there's special joy in having sex with any of these you mentioned here except underage and family so if i don't have sex with my gf how i want take no say na borehole dey her waist how can i know she moans like a rabbit\n",
            "  Example 5: EMOJI EMOJI you dey vex o\n",
            "  Example 6: hahahakikikina the mod dey give them liver make mods go on holiday for just 2 months make we settle scores i'm very sure by the time they are back from their holidays them go meet peaceful nairaland because everybody go don know where them belong\n",
            "  Example 7: see who dey talk you wey\n",
            "  Example 8: yesterday i bought a small tin of powder milk 3 500 something that used to be 1109 before buhari took over this morning i bought me egg for 120 something that used to be 25 naira before buhari took over may thunder skater buhari's dey anus as for this boko haram grand patron we shall see\n",
            "  Example 9: only in south west councillors dey suspend lg chairman can governors suspend president the anyhowness in sw is tremendous\n",
            "  Example 10: different strokes for different folks we dey give groom money b4 d wedding\n",
            "\n",
            "negative predicted as positive:\n",
            "  Example 1: man spends over 40years in us including 20yrs in prison and is deported back to nigeria take a listen wetindeyhappentv URL\n",
            "  Example 2: whoever jonathan supports will rule bayelsa tinubu will support that person that's something atiku cannot do his candidate was beaten in the governorship as for obi na him home governor dey naked am\n",
            "  Example 3: trouble heading to portable's place trouble dey sleep inyanga go wake'am\n",
            "  Example 4: so that is what he did even for kano bulldozer dey roll too even wike that is just a few weeks old is rolling bulldozer in fct no be to enter the bulldozer then start the engine and roar it\n",
            "  Example 5: exactly she needs to learn to stand up to her father not necessarily disrespect him but he needed to know that their is life after wedding now na you dey collect sometimes our parents just want to massage their egos with all this wedding wahala if you check am during their time them fit no stress them abbbiii na belle then use join them self they will now want to kee somebody child the husband is yours now it's left for you to fix the damage your folks may have caused he will come around he can't stay mad forever but he and your folks may not see eye to eye forget going to visit for christmas and festivities him don buy her\n",
            "  Example 6: for me banning the record label is not even the next thing but arresting investigating and thorough search on naira marley and his guys apart from music promotion that guy is up to something and mohbad himself was afraid to tell the public sadly nigeria is not like abroad where government no dey pamper popular criminals even if they are caught ronaldinho was arrested and sent to prison rkelly is still there our own ekweremadu is still in prison but here the law is made for the poor example hushpuppi is still in prison while mompha is suing efcc smh\n",
            "  Example 7: dey already admit thier mistake that is y war no good stray bullet and bombs can happen\n",
            "  Example 8: na that rubbish uniform wey be like the lucozade colour shade wey we been dey put on top our black and white television screens back in the early 90s na him make lagos dey warn people them no even happy say skit makers want help publicise that useless profession wayward individuals\n",
            "  Example 9: i dedicate this space to all married women seeing shege in dia husband house god dey\n",
            "  Example 10: the only permanent solution is to leave the house for 6months if u come back them go don die because na u dey feed them on my part i use regular wash of clothes to kill them with washing machine\n",
            "\n",
            "positive predicted as negative:\n",
            "  Example 1: uss mayflower 1906 1929 was decommissioned as a result of economy measures just prior to the great depression uss potomac 1936 1945 uss williamsburg 1945 1953 the most recent presidential yacht was uss sequoia nigerians are currently passing through a great depression e dey touch most ppl\n",
            "  Example 2: to gimme your better code nii been dey wait u sincejust dey gimme anything u play abeg\n",
            "  Example 3: we know the forge master has been buying lobbyist all over the world to launder his image his image is in tatters the man said if this result is released it will cause him irreparable damage dumb followers are online shouting nothing dey happenit will be interesting when he travels next for the next world leaders meeting he will be avoided like plague\n",
            "  Example 4: adamawa state dey hot as for the intimacy gadget senator abbo it serves him right he is a very immature ilresponsible arrogant and indiscipline senate\n",
            "  Example 5: that line really pained reno ofockery and his new subjects agbado munching gorillasgod bless david hundeyin the omoluabi proper\n",
            "  Example 6: it's like na the nigerian man go dey present bumbum to be firedtheir shit hole and their hemorrhoids nothing concern me\n",
            "  Example 7: well nothing wen them dey sing again these days na just noise and panpangolo and them dey cash out well their audience self be like them\n",
            "  Example 8: na when nta dey plan to upgrade and rebrand this their news channel abeg we born meet these their boring colours and logo we go get grown up children and nta still dey like the low budget chinese movies we grew with in the early 90s na wa o\n",
            "  Example 9: everybody these days na content creator money launderers don turn content creators u see that tictok especially na powerful money laundering tool and some ritualists dey use lame contents dey disguise make ladies wise up if they like make them dey produce water when they see lexus camry benz\n",
            "  Example 10: another campni bo lo tun jaasi bayi para deybody military camp them go no allowee bt na them go pay that government wey hold demtinubu dey government from 2012 or na him pamper them brendaniel were corpers getting kidnapped like this that time yes during jonathan that they had to stop posting other region there but pmb reinstated the old ways again i served 2012 get facts right\n",
            "\n",
            "positive predicted as neutral:\n",
            "  Example 1: pot dey call kettle blackbirds of a feather na wen them leave power their eyes dey clear mtchew URL\n",
            "  Example 2: make you all dey try read now even if na only first paragraph\n",
            "  Example 3: bros dey calm down na\n",
            "  Example 4: right now na me and oshiobaba dey laff here over nkwobi and azu we saw today obaseki you sef try do roads naaaa 8 years nothing to show under your leadership\n"
          ]
        }
      ],
      "source": [
        "# Analyze Pidgin errors\n",
        "analyze_errors(\n",
        "    pidgin_test['cleaned_text'].tolist(),\n",
        "    pidgin_preds,\n",
        "    pidgin_labels,\n",
        "    \"Pidgin Test\"\n",
        ")"
      ]
    },
    {
      "cell_type": "code",
      "execution_count": null,
      "id": "06a10e61",
      "metadata": {
        "colab": {
          "base_uri": "https://localhost:8080/",
          "height": 528
        },
        "id": "06a10e61",
        "outputId": "5426f154-e4aa-4397-ef93-4dd31bfd5da9"
      },
      "outputs": [
        {
          "output_type": "display_data",
          "data": {
            "text/plain": [
              "<Figure size 1000x600 with 1 Axes>"
            ],
            "image/png": "[encoded data removed]"
          },
          "metadata": {}
        }
      ],
      "source": [
        "# ## 11. Compare Performance Across Languages\n",
        "\n",
        "# Plot comparison of in-language (English) vs cross-lingual (Pidgin) performance\n",
        "def plot_performance_comparison(english_metrics, pidgin_metrics):\n",
        "    \"\"\"Plot performance comparison between languages\"\"\"\n",
        "    metrics = ['accuracy', 'f1', 'precision', 'recall']\n",
        "    english_scores = [english_metrics[f'eval_{m}'] for m in metrics]\n",
        "    pidgin_scores = [pidgin_metrics[f'eval_{m}'] for m in metrics]\n",
        "\n",
        "    x = np.arange(len(metrics))\n",
        "    width = 0.35\n",
        "\n",
        "    fig, ax = plt.subplots(figsize=(10, 6))\n",
        "    rects1 = ax.bar(x - width/2, english_scores, width, label='English (In-language)')\n",
        "    rects2 = ax.bar(x + width/2, pidgin_scores, width, label='Pidgin (Cross-lingual)')\n",
        "\n",
        "    ax.set_ylabel('Score')\n",
        "    ax.set_title('Performance Comparison: English vs. Pidgin')\n",
        "    ax.set_xticks(x)\n",
        "    ax.set_xticklabels(metrics)\n",
        "    ax.legend()\n",
        "\n",
        "    # Add value labels\n",
        "    def autolabel(rects):\n",
        "        for rect in rects:\n",
        "            height = rect.get_height()\n",
        "            ax.annotate(f'{height:.3f}',\n",
        "                        xy=(rect.get_x() + rect.get_width() / 2, height),\n",
        "                        xytext=(0, 3),\n",
        "                        textcoords=\"offset points\",\n",
        "                        ha='center', va='bottom')\n",
        "\n",
        "    autolabel(rects1)\n",
        "    autolabel(rects2)\n",
        "\n",
        "    fig.tight_layout()\n",
        "    plt.show()\n",
        "\n",
        "# Plot performance comparison\n",
        "plot_performance_comparison(english_test_results, pidgin_test_results)\n"
      ]
    },
    {
      "cell_type": "code",
      "execution_count": null,
      "id": "60f1f2da",
      "metadata": {
        "colab": {
          "base_uri": "https://localhost:8080/",
          "height": 552
        },
        "id": "60f1f2da",
        "outputId": "479fb26e-875c-412f-c07d-9002e089532f"
      },
      "outputs": [
        {
          "output_type": "execute_result",
          "data": {
            "text/plain": [
              "<matplotlib.legend.Legend at 0x7df0a00a02d0>"
            ]
          },
          "metadata": {},
          "execution_count": 50
        },
        {
          "output_type": "display_data",
          "data": {
            "text/plain": [
              "<Figure size 1200x700 with 1 Axes>"
            ],
            "image/png": "[encoded data removed]"
          },
          "metadata": {}
        }
      ],
      "source": [
        "# ## 12. Compare to Previous Experiments\n",
        "\n",
        "# You can fill in the previous experiment results here to create a comparison\n",
        "exp1_english_accuracy = 0.9693  # From Experiment 1 results\n",
        "exp1_pidgin_accuracy = 0.5493   # From Experiment 1 results\n",
        "exp2_english_accuracy = 0.516   # From Experiment 2 results\n",
        "exp2_pidgin_accuracy = 0.848    # From Experiment 2 results\n",
        "exp3_english_accuracy = english_test_results['eval_accuracy']\n",
        "exp3_pidgin_accuracy = pidgin_test_results['eval_accuracy']\n",
        "\n",
        "# Create comparison chart for all experiments\n",
        "labels = ['English Test Data', 'Pidgin Test Data']\n",
        "exp1_scores = [exp1_english_accuracy, exp1_pidgin_accuracy]\n",
        "exp2_scores = [exp2_english_accuracy, exp2_pidgin_accuracy]\n",
        "exp3_scores = [exp3_english_accuracy, exp3_pidgin_accuracy]\n",
        "\n",
        "x = np.arange(len(labels))\n",
        "width = 0.25\n",
        "\n",
        "fig, ax = plt.subplots(figsize=(12, 7))\n",
        "rects1 = ax.bar(x - width, exp1_scores, width, label='Exp 1: BERT on English')\n",
        "rects2 = ax.bar(x, exp2_scores, width, label='Exp 2: BERT on Pidgin')\n",
        "rects3 = ax.bar(x + width, exp3_scores, width, label='Exp 3: Naija-BERT on English')\n",
        "\n",
        "ax.set_ylabel('Accuracy')\n",
        "ax.set_title('Comparison Across Experiments')\n",
        "ax.set_xticks(x)\n",
        "ax.set_xticklabels(labels)\n",
        "ax.legend()\n"
      ]
    },
    {
      "cell_type": "code",
      "execution_count": null,
      "id": "23357980",
      "metadata": {
        "id": "23357980"
      },
      "outputs": [],
      "source": [
        "# Add value labels\n",
        "def autolabel(rects):\n",
        "    for rect in rects:\n",
        "        height = rect.get_height()\n",
        "        ax.annotate(f'{height:.3f}',\n",
        "                    xy=(rect.get_x() + rect.get_width() / 2, height),\n",
        "                    xytext=(0, 3),\n",
        "                    textcoords=\"offset points\",\n",
        "                    ha='center', va='bottom')\n",
        "\n",
        "autolabel(rects1)\n",
        "autolabel(rects2)\n",
        "autolabel(rects3)\n",
        "\n",
        "fig.tight_layout()\n",
        "plt.show()\n"
      ]
    },
    {
      "cell_type": "code",
      "execution_count": null,
      "id": "3da21c6a",
      "metadata": {
        "colab": {
          "base_uri": "https://localhost:8080/",
          "height": 541
        },
        "id": "3da21c6a",
        "outputId": "927f7897-b0f0-464b-ed5c-9cbe6fdfe950"
      },
      "outputs": [
        {
          "output_type": "execute_result",
          "data": {
            "text/plain": [
              "<matplotlib.legend.Legend at 0x7df074a68510>"
            ]
          },
          "metadata": {},
          "execution_count": 52
        },
        {
          "output_type": "display_data",
          "data": {
            "text/plain": [
              "<Figure size 1000x600 with 1 Axes>"
            ],
            "image/png": "[encoded data removed]"
          },
          "metadata": {}
        }
      ],
      "source": [
        "# Cross-Lingual Transfer Analysis\n",
        "transfer_labels = ['English\u2192Pidgin Transfer', 'Pidgin\u2192English Transfer']\n",
        "transfer_exp1_exp2 = [exp1_pidgin_accuracy, exp2_english_accuracy]  # BERT\n",
        "transfer_exp3 = [exp3_pidgin_accuracy, None]  # Naija-BERT (Exp 3 & future Exp 4)\n",
        "\n",
        "x = np.arange(len(transfer_labels))\n",
        "width = 0.35\n",
        "\n",
        "fig, ax = plt.subplots(figsize=(10, 6))\n",
        "rects1 = ax.bar(x - width/2, transfer_exp1_exp2, width, label='BERT-base-uncased')\n",
        "rects2 = ax.bar(x + width/2, [transfer_exp3[0], float('nan')], width, label='Naija-BERT')\n",
        "\n",
        "ax.set_ylabel('Cross-Lingual Transfer Accuracy')\n",
        "ax.set_title('Cross-Lingual Transfer Effectiveness')\n",
        "ax.set_xticks(x)\n",
        "ax.set_xticklabels(transfer_labels)\n",
        "ax.legend()"
      ]
    },
    {
      "cell_type": "code",
      "execution_count": null,
      "id": "5e98a046",
      "metadata": {
        "id": "5e98a046"
      },
      "outputs": [],
      "source": [
        "# Add value labels\n",
        "def autolabel(rects):\n",
        "    for rect in rects:\n",
        "        height = rect.get_height()\n",
        "        if not np.isnan(height):\n",
        "            ax.annotate(f'{height:.3f}',\n",
        "                        xy=(rect.get_x() + rect.get_width() / 2, height),\n",
        "                        xytext=(0, 3),\n",
        "                        textcoords=\"offset points\",\n",
        "                        ha='center', va='bottom')\n",
        "\n",
        "autolabel(rects1)\n",
        "autolabel(rects2)\n",
        "\n",
        "fig.tight_layout()\n",
        "plt.show()\n"
      ]
    },
    {
      "cell_type": "code",
      "execution_count": null,
      "id": "5ce06536",
      "metadata": {
        "id": "5ce06536"
      },
      "outputs": [],
      "source": [
        "# ## 13. Save Results and Summary\n",
        "\n",
        "# Create output directory if it doesn't exist\n",
        "os.makedirs(\"./results/exp3\", exist_ok=True)\n",
        "\n",
        "# Save all results\n",
        "results_summary = {\n",
        "    'validation': val_results,\n",
        "    'english_test': english_test_results,\n",
        "    'pidgin_test': pidgin_test_results,\n",
        "    'combined_test': combined_test_results\n",
        "}\n"
      ]
    },
    {
      "cell_type": "code",
      "execution_count": null,
      "id": "2dc2f8ff",
      "metadata": {
        "colab": {
          "base_uri": "https://localhost:8080/"
        },
        "id": "2dc2f8ff",
        "outputId": "829d0cb0-4157-4144-b016-a2c3ddd850fe"
      },
      "outputs": [
        {
          "output_type": "stream",
          "name": "stdout",
          "text": [
            "\n",
            "Experiment completed! Results saved to ./results/exp3/results_summary.txt\n"
          ]
        }
      ],
      "source": [
        "# Write results to file\n",
        "with open(\"./results/exp3/results_summary.txt\", \"w\") as f:\n",
        "    f.write(\"Experiment 3: Naija-BERT fine-tuned on English\\n\")\n",
        "    f.write(\"=============================================\\n\\n\")\n",
        "\n",
        "    f.write(\"Model: Davlan/naija-bert-base with class weights\\n\")\n",
        "    f.write(f\"Train dataset size: {len(train_dataset)}\\n\")\n",
        "    f.write(f\"Validation dataset size: {len(val_dataset)}\\n\")\n",
        "    f.write(f\"English test dataset size: {len(english_test_dataset)}\\n\")\n",
        "    f.write(f\"Pidgin test dataset size: {len(pidgin_test_dataset)}\\n\")\n",
        "    f.write(f\"Combined test dataset size: {len(combined_test_dataset)}\\n\\n\")\n",
        "\n",
        "    f.write(\"Results:\\n\")\n",
        "    for dataset_name, results in results_summary.items():\n",
        "        f.write(f\"\\n{dataset_name.upper()} RESULTS:\\n\")\n",
        "        for metric, value in results.items():\n",
        "            f.write(f\"  {metric}: {value}\\n\")\n",
        "\n",
        "    # Compare with previous experiments\n",
        "    f.write(\"\\nCOMPARISON WITH PREVIOUS EXPERIMENTS:\\n\")\n",
        "    f.write(f\"  Exp1 (BERT on English) - English: {exp1_english_accuracy:.4f}, Pidgin: {exp1_pidgin_accuracy:.4f}\\n\")\n",
        "    f.write(f\"  Exp2 (BERT on Pidgin) - English: {exp2_english_accuracy:.4f}, Pidgin: {exp2_pidgin_accuracy:.4f}\\n\")\n",
        "    f.write(f\"  Exp3 (Naija-BERT on English) - English: {exp3_english_accuracy:.4f}, Pidgin: {exp3_pidgin_accuracy:.4f}\\n\")\n",
        "\n",
        "print(\"\\nExperiment completed! Results saved to ./results/exp3/results_summary.txt\")\n"
      ]
    }
  ],
  "metadata": {
    "language_info": {
      "name": "python"
    },
    "colab": {
      "provenance": [],
      "machine_shape": "hm",
      "gpuType": "T4"
    },
    "accelerator": "GPU",
    "kernelspec": {
      "name": "python3",
      "display_name": "Python 3"
    }
  },
  "nbformat": 4,
  "nbformat_minor": 5
}