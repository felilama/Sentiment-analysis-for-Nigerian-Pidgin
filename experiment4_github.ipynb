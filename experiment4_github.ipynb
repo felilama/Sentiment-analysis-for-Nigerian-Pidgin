{
  "cells": [
    {
      "cell_type": "code",
      "execution_count": null,
      "id": "e63f3c67",
      "metadata": {
        "id": "e63f3c67"
      },
      "outputs": [],
      "source": [
        "# Experiment 4: Fine-tuning Naija-BERT on Nigerian Pidgin Sentiment Dataset (GPU Version)\n",
        "# This notebook implements the training procedure for the fourth experiment in our cross-lingual sentiment analysis project\n",
        "\n",
        "import torch\n",
        "import pandas as pd\n",
        "import numpy as np\n",
        "import matplotlib.pyplot as plt\n",
        "import seaborn as sns\n",
        "from sklearn.metrics import accuracy_score, precision_recall_fscore_support, confusion_matrix, classification_report\n",
        "from torch.utils.data import Dataset, DataLoader"
      ]
    },
    {
      "cell_type": "code",
      "execution_count": null,
      "id": "f1ec3051",
      "metadata": {
        "id": "f1ec3051"
      },
      "outputs": [],
      "source": [
        "from transformers import (\n",
        "    AutoTokenizer,\n",
        "    AutoModelForSequenceClassification,\n",
        "    get_linear_schedule_with_warmup,\n",
        "    TrainingArguments,\n",
        "    Trainer,\n",
        "    EarlyStoppingCallback\n",
        ")"
      ]
    },
    {
      "cell_type": "code",
      "execution_count": null,
      "id": "8396f9a9",
      "metadata": {
        "colab": {
          "base_uri": "https://localhost:8080/"
        },
        "id": "8396f9a9",
        "outputId": "44ccb684-a439-41b2-c1dd-b39b7deee1cc"
      },
      "outputs": [
        {
          "output_type": "stream",
          "name": "stdout",
          "text": [
            "Collecting emoji\n",
            "  Downloading emoji-2.14.1-py3-none-any.whl.metadata (5.7 kB)\n",
            "Downloading emoji-2.14.1-py3-none-any.whl (590 kB)\n",
            "\u001b[?25l   \u001b[90m\u2501\u2501\u2501\u2501\u2501\u2501\u2501\u2501\u2501\u2501\u2501\u2501\u2501\u2501\u2501\u2501\u2501\u2501\u2501\u2501\u2501\u2501\u2501\u2501\u2501\u2501\u2501\u2501\u2501\u2501\u2501\u2501\u2501\u2501\u2501\u2501\u2501\u2501\u2501\u2501\u001b[0m \u001b[32m0.0/590.6 kB\u001b[0m \u001b[31m?\u001b[0m eta \u001b[36m-:--:--\u001b[0m\r\u001b[2K   \u001b[90m\u2501\u2501\u2501\u2501\u2501\u2501\u2501\u2501\u2501\u2501\u2501\u2501\u2501\u2501\u2501\u2501\u2501\u2501\u2501\u2501\u2501\u2501\u2501\u2501\u2501\u2501\u2501\u2501\u2501\u2501\u2501\u2501\u2501\u2501\u2501\u2501\u2501\u2501\u2501\u2501\u001b[0m \u001b[32m590.6/590.6 kB\u001b[0m \u001b[31m28.6 MB/s\u001b[0m eta \u001b[36m0:00:00\u001b[0m\n",
            "\u001b[?25hInstalling collected packages: emoji\n",
            "Successfully installed emoji-2.14.1\n"
          ]
        }
      ],
      "source": [
        "import os\n",
        "import random\n",
        "import re\n",
        "!pip install emoji\n",
        "import emoji\n",
        "from tqdm.notebook import tqdm"
      ]
    },
    {
      "cell_type": "code",
      "execution_count": null,
      "id": "c23176aa",
      "metadata": {
        "id": "c23176aa"
      },
      "outputs": [],
      "source": [
        "# Set random seeds for reproducibility\n",
        "seed = 42\n",
        "torch.manual_seed(seed)\n",
        "random.seed(seed)\n",
        "np.random.seed(seed)\n",
        "if torch.cuda.is_available():\n",
        "    torch.cuda.manual_seed_all(seed)"
      ]
    },
    {
      "cell_type": "code",
      "execution_count": null,
      "id": "8d6c05f9",
      "metadata": {
        "colab": {
          "base_uri": "https://localhost:8080/"
        },
        "id": "8d6c05f9",
        "outputId": "76efdd3b-13cb-4cdc-ef34-4b60223392b7"
      },
      "outputs": [
        {
          "output_type": "stream",
          "name": "stdout",
          "text": [
            "Using device: cuda\n"
          ]
        }
      ],
      "source": [
        "# Check for GPU\n",
        "device = torch.device(\"cuda\" if torch.cuda.is_available() else \"cpu\")\n",
        "print(f\"Using device: {device}\")"
      ]
    },
    {
      "cell_type": "code",
      "execution_count": null,
      "id": "578b24ed",
      "metadata": {
        "id": "578b24ed"
      },
      "outputs": [],
      "source": [
        "# ## 1. Data Preparation\n",
        "\n",
        "# Function to clean and normalize text\n",
        "def clean_text(text, is_pidgin=False):\n",
        "    \"\"\"\n",
        "    Clean and normalize text data\n",
        "\n",
        "    Args:\n",
        "        text (str): Input text\n",
        "        is_pidgin (bool): Whether the text is Nigerian Pidgin\n",
        "\n",
        "    Returns:\n",
        "        str: Cleaned text\n",
        "    \"\"\"\n",
        "    if not isinstance(text, str):\n",
        "        return \"\"\n",
        "\n",
        "    # Convert to lowercase\n",
        "    text = text.lower()\n",
        "\n",
        "    # Remove URLs\n",
        "    text = re.sub(r'https?://\\S+|www\\.\\S+', ' [URL] ', text)\n",
        "\n",
        "    # Remove user mentions (@username)\n",
        "    text = re.sub(r'@\\w+', ' [USER] ', text)\n",
        "\n",
        "    # Handle hashtags - keep the text but remove the # symbol\n",
        "    text = re.sub(r'#(\\w+)', r'\\1', text)\n",
        "\n",
        "    # Convert emojis to text (alternatively, you can remove them)\n",
        "    text = emoji.demojize(text)\n",
        "    text = re.sub(r':[a-z_]+:', ' [EMOJI] ', text)  # replace with token or remove\n",
        "\n",
        "    # Remove special characters but keep apostrophes (important for contractions)\n",
        "    text = re.sub(r'[^a-zA-Z0-9\\'\\s]', ' ', text)\n",
        "\n",
        "    # Normalize apostrophes\n",
        "    text = text.replace(\"'\", \"'\")\n",
        "\n",
        "    # Replace multiple spaces with single space\n",
        "    text = re.sub(r'\\s+', ' ', text)\n",
        "\n",
        "    # For Pidgin-specific normalization\n",
        "    if is_pidgin:\n",
        "        # Define common Pidgin expressions to preserve\n",
        "        pidgin_normalizations = {\n",
        "            # Common variations\n",
        "            \" de \": \" dey \",\n",
        "            \" sey \": \" say \",\n",
        "            \" dem \": \" them \",\n",
        "            \" una \": \" you \",\n",
        "            \" dis \": \" this \",\n",
        "            \" dat \": \" that \",\n",
        "            # Common expressions (keep intact)\n",
        "            \"abeg\": \"abeg\",  # please\n",
        "            \"wetin\": \"wetin\",  # what\n",
        "            \"na \": \"na \",  # is/it is\n",
        "            \"abi\": \"abi\",  # right?/isn't it?\n",
        "            \"shey\": \"shey\",  # is it that\n",
        "            \"sha\": \"sha\",  # anyway/though\n",
        "            \"wahala\": \"wahala\",  # trouble\n",
        "            \"japa\": \"japa\",  # run away/leave\n",
        "            \"gats\": \"gats\",  # must/have to\n",
        "        }\n",
        "\n",
        "        for old, new in pidgin_normalizations.items():\n",
        "            text = text.replace(old, new)\n",
        "\n",
        "    return text.strip()"
      ]
    },
    {
      "cell_type": "code",
      "execution_count": null,
      "id": "1e1e1702",
      "metadata": {
        "colab": {
          "base_uri": "https://localhost:8080/"
        },
        "id": "1e1e1702",
        "outputId": "91a186bb-8f58-4d10-e4f3-cc31b4296351"
      },
      "outputs": [
        {
          "output_type": "stream",
          "name": "stdout",
          "text": [
            "Loading datasets...\n"
          ]
        }
      ],
      "source": [
        "# Custom dataset class\n",
        "class SentimentDataset(Dataset):\n",
        "    \"\"\"PyTorch dataset for sentiment analysis\"\"\"\n",
        "    def __init__(self, texts, labels, tokenizer, max_length=128):\n",
        "        self.texts = texts\n",
        "        self.labels = labels\n",
        "        self.tokenizer = tokenizer\n",
        "        self.max_length = max_length\n",
        "\n",
        "    def __len__(self):\n",
        "        return len(self.texts)\n",
        "\n",
        "    def __getitem__(self, idx):\n",
        "        text = self.texts[idx]\n",
        "        label = self.labels[idx]\n",
        "\n",
        "        encoding = self.tokenizer(\n",
        "            text,\n",
        "            truncation=True,\n",
        "            padding='max_length',\n",
        "            max_length=self.max_length,\n",
        "            return_tensors='pt'\n",
        "        )\n",
        "\n",
        "        # Remove the batch dimension which tokenizer adds by default\n",
        "        encoding = {k: v.squeeze(0) for k, v in encoding.items()}\n",
        "        encoding['labels'] = torch.tensor(label)\n",
        "\n",
        "        return encoding\n",
        "\n",
        "# Load and prepare datasets\n",
        "print(\"Loading datasets...\")"
      ]
    },
    {
      "cell_type": "code",
      "execution_count": null,
      "id": "48ba355c",
      "metadata": {
        "colab": {
          "base_uri": "https://localhost:8080/"
        },
        "id": "48ba355c",
        "outputId": "9cef7d2b-b042-4aa6-ab69-dc4143812759"
      },
      "outputs": [
        {
          "output_type": "stream",
          "name": "stdout",
          "text": [
            "Pidgin dataset shape: (5000, 2)\n"
          ]
        }
      ],
      "source": [
        "# Load Pidgin dataset as the primary training set for Experiment 4\n",
        "pidgin_df = pd.read_csv('new_annotated_pidgin.csv')\n",
        "print(f\"Pidgin dataset shape: {pidgin_df.shape}\")\n",
        "\n",
        "# Map sentiments to numeric values\n",
        "sentiment_map = {'positive': 0, 'negative': 1, 'neutral': 2}\n",
        "pidgin_df['label'] = pidgin_df['Sentiments'].map(sentiment_map)\n"
      ]
    },
    {
      "cell_type": "code",
      "execution_count": null,
      "id": "79be8645",
      "metadata": {
        "id": "79be8645"
      },
      "outputs": [],
      "source": [
        "# Clean text\n",
        "pidgin_df['cleaned_text'] = pidgin_df['Comments'].apply(lambda x: clean_text(x, is_pidgin=True))"
      ]
    },
    {
      "cell_type": "code",
      "execution_count": null,
      "id": "b876f82b",
      "metadata": {
        "colab": {
          "base_uri": "https://localhost:8080/"
        },
        "id": "b876f82b",
        "outputId": "9af17f3d-22b0-42c9-a53c-290571de77ff"
      },
      "outputs": [
        {
          "output_type": "stream",
          "name": "stdout",
          "text": [
            "\n",
            "Pidgin sentiment distribution:\n",
            "Sentiments\n",
            "negative    3099\n",
            "neutral     1362\n",
            "positive     539\n",
            "Name: count, dtype: int64\n",
            "Percentages: Sentiments\n",
            "negative    61.98\n",
            "neutral     27.24\n",
            "positive    10.78\n",
            "Name: count, dtype: float64\n"
          ]
        }
      ],
      "source": [
        "# Check sentiment distribution\n",
        "sentiment_counts = pidgin_df['Sentiments'].value_counts()\n",
        "print(\"\\nPidgin sentiment distribution:\")\n",
        "print(sentiment_counts)\n",
        "print(f\"Percentages: {sentiment_counts / len(pidgin_df) * 100}\")"
      ]
    },
    {
      "cell_type": "code",
      "execution_count": null,
      "id": "0fd6994e",
      "metadata": {
        "colab": {
          "base_uri": "https://localhost:8080/"
        },
        "id": "0fd6994e",
        "outputId": "79808b98-20dc-4a5a-dfdf-d5c6be8c68cc"
      },
      "outputs": [
        {
          "output_type": "stream",
          "name": "stdout",
          "text": [
            "\n",
            "English dataset shape: (10000, 2)\n"
          ]
        }
      ],
      "source": [
        "# Load English dataset for testing\n",
        "english_df = pd.read_csv('English_dataset.csv')\n",
        "print(f\"\\nEnglish dataset shape: {english_df.shape}\")\n",
        "english_df['label'] = english_df['Sentiments'].map(sentiment_map)\n",
        "english_df['cleaned_text'] = english_df['text'].apply(lambda x: clean_text(x, is_pidgin=False))"
      ]
    },
    {
      "cell_type": "code",
      "execution_count": null,
      "id": "02135021",
      "metadata": {
        "colab": {
          "base_uri": "https://localhost:8080/",
          "height": 562
        },
        "id": "02135021",
        "outputId": "ebdd9d11-9487-4436-9b74-3e51d7c7d4ae"
      },
      "outputs": [
        {
          "output_type": "display_data",
          "data": {
            "text/plain": [
              "<Figure size 1000x600 with 1 Axes>"
            ],
            "image/png": "[encoded data removed]"
          },
          "metadata": {}
        }
      ],
      "source": [
        "# Visualize sentiment distribution\n",
        "plt.figure(figsize=(10, 6))\n",
        "sns.countplot(x='Sentiments', data=pidgin_df)\n",
        "plt.title('Nigerian Pidgin Dataset Sentiment Distribution')\n",
        "plt.show()"
      ]
    },
    {
      "cell_type": "code",
      "execution_count": null,
      "id": "5e18875f",
      "metadata": {
        "id": "5e18875f"
      },
      "outputs": [],
      "source": [
        "# ## 2. Split Datasets\n",
        "\n",
        "from sklearn.model_selection import train_test_split\n",
        "\n",
        "# Split into train, validation, and test sets\n",
        "def split_dataset(df, train_size=0.7, val_size=0.15, test_size=0.15, random_state=42):\n",
        "    \"\"\"\n",
        "    Split dataset into train, validation, and test sets with stratification\n",
        "    \"\"\"\n",
        "    # First split: train + validation and test\n",
        "    train_val, test = train_test_split(\n",
        "        df, test_size=test_size, random_state=random_state, stratify=df['label']\n",
        "    )\n",
        "\n",
        "    # Second split: train and validation\n",
        "    # Adjust validation size relative to train_val\n",
        "    relative_val_size = val_size / (train_size + val_size)\n",
        "    train, val = train_test_split(\n",
        "        train_val, test_size=relative_val_size, random_state=random_state,\n",
        "        stratify=train_val['label']\n",
        "    )\n",
        "\n",
        "    return train, val, test"
      ]
    },
    {
      "cell_type": "code",
      "execution_count": null,
      "id": "047300cb",
      "metadata": {
        "colab": {
          "base_uri": "https://localhost:8080/"
        },
        "id": "047300cb",
        "outputId": "fab7b2a1-279f-4783-b2cf-10ac02f12152"
      },
      "outputs": [
        {
          "output_type": "stream",
          "name": "stdout",
          "text": [
            "\n",
            "Dataset splits:\n",
            "Pidgin - Train: 3500, Val: 750, Test: 750\n"
          ]
        }
      ],
      "source": [
        "# Split Pidgin dataset\n",
        "pidgin_train, pidgin_val, pidgin_test = split_dataset(pidgin_df)\n",
        "\n",
        "# Display split sizes\n",
        "print(\"\\nDataset splits:\")\n",
        "print(f\"Pidgin - Train: {len(pidgin_train)}, Val: {len(pidgin_val)}, Test: {len(pidgin_test)}\")"
      ]
    },
    {
      "cell_type": "code",
      "execution_count": null,
      "id": "498a6f13",
      "metadata": {
        "colab": {
          "base_uri": "https://localhost:8080/"
        },
        "id": "498a6f13",
        "outputId": "968b2fb6-250f-416f-b44f-cf8165418441"
      },
      "outputs": [
        {
          "output_type": "stream",
          "name": "stdout",
          "text": [
            "\n",
            "Train distribution:\n",
            "Sentiments\n",
            "negative    2169\n",
            "neutral      954\n",
            "positive     377\n",
            "Name: count, dtype: int64\n",
            "\n",
            "Validation distribution:\n",
            "Sentiments\n",
            "negative    465\n",
            "neutral     204\n",
            "positive     81\n",
            "Name: count, dtype: int64\n",
            "\n",
            "Test distribution:\n",
            "Sentiments\n",
            "negative    465\n",
            "neutral     204\n",
            "positive     81\n",
            "Name: count, dtype: int64\n"
          ]
        }
      ],
      "source": [
        "# Check class distribution in splits\n",
        "print(\"\\nTrain distribution:\")\n",
        "print(pidgin_train['Sentiments'].value_counts())\n",
        "print(\"\\nValidation distribution:\")\n",
        "print(pidgin_val['Sentiments'].value_counts())\n",
        "print(\"\\nTest distribution:\")\n",
        "print(pidgin_test['Sentiments'].value_counts())"
      ]
    },
    {
      "cell_type": "code",
      "execution_count": null,
      "id": "ccb5566f",
      "metadata": {
        "colab": {
          "base_uri": "https://localhost:8080/"
        },
        "id": "ccb5566f",
        "outputId": "699e1f8a-6646-4a1c-a25c-46254e8e7211"
      },
      "outputs": [
        {
          "output_type": "stream",
          "name": "stdout",
          "text": [
            "\n",
            "English test set size: 1500\n",
            "English test distribution:\n",
            "Sentiments\n",
            "positive    1149\n",
            "negative     347\n",
            "neutral        4\n",
            "Name: count, dtype: int64\n"
          ]
        }
      ],
      "source": [
        "# Sample English test data\n",
        "english_test = english_df.sample(1500, random_state=42)  # As specified in experiment design\n",
        "print(f\"\\nEnglish test set size: {len(english_test)}\")\n",
        "print(\"English test distribution:\")\n",
        "print(english_test['Sentiments'].value_counts())"
      ]
    },
    {
      "cell_type": "code",
      "execution_count": null,
      "id": "05afa788",
      "metadata": {
        "colab": {
          "base_uri": "https://localhost:8080/"
        },
        "id": "05afa788",
        "outputId": "ad76f13f-2cd7-4c6d-9613-7c1e88f129f9"
      },
      "outputs": [
        {
          "output_type": "stream",
          "name": "stdout",
          "text": [
            "\n",
            "Checking for class imbalance in Pidgin training data:\n",
            "Sentiments\n",
            "negative    61.971429\n",
            "neutral     27.257143\n",
            "positive    10.771429\n",
            "Name: proportion, dtype: float64\n"
          ]
        }
      ],
      "source": [
        "# ## 3. Address Class Imbalance\n",
        "\n",
        "# Check actual class distribution in Pidgin training data\n",
        "print(\"\\nChecking for class imbalance in Pidgin training data:\")\n",
        "print(pidgin_train['Sentiments'].value_counts(normalize=True) * 100)\n",
        "\n",
        "# Compute class weights\n",
        "def compute_class_weights(labels):\n",
        "    \"\"\"Compute class weights inversely proportional to class frequencies\"\"\"\n",
        "    class_counts = np.bincount(labels)\n",
        "    total_samples = len(labels)\n",
        "    class_weights = total_samples / (len(class_counts) * class_counts)\n",
        "\n",
        "    # Ensure we have weights for all 3 classes\n",
        "    if len(class_weights) < 3:\n",
        "        pad_length = 3 - len(class_weights)\n",
        "        class_weights = np.pad(class_weights, (0, pad_length), 'constant')\n",
        "\n",
        "    return torch.FloatTensor(class_weights)\n"
      ]
    },
    {
      "cell_type": "code",
      "execution_count": null,
      "id": "515ca152",
      "metadata": {
        "colab": {
          "base_uri": "https://localhost:8080/"
        },
        "id": "515ca152",
        "outputId": "54bf5ffb-6e72-4564-9e36-3734eee2318b"
      },
      "outputs": [
        {
          "output_type": "stream",
          "name": "stdout",
          "text": [
            "\n",
            "Actual class counts in training data:\n",
            "label\n",
            "0     377\n",
            "1    2169\n",
            "2     954\n",
            "Name: count, dtype: int64\n"
          ]
        }
      ],
      "source": [
        "# Print actual class counts for verification\n",
        "print(\"\\nActual class counts in training data:\")\n",
        "print(pidgin_train['label'].value_counts().sort_index())"
      ]
    },
    {
      "cell_type": "code",
      "execution_count": null,
      "id": "d5a64a62",
      "metadata": {
        "colab": {
          "base_uri": "https://localhost:8080/"
        },
        "id": "d5a64a62",
        "outputId": "a8dbb7e2-7014-44e7-df88-7fb07b529edf"
      },
      "outputs": [
        {
          "output_type": "stream",
          "name": "stdout",
          "text": [
            "\n",
            "Computed class weights for handling imbalance:\n",
            "Positive (0): 3.0946\n",
            "Negative (1): 0.5379\n",
            "Neutral (2): 1.2229\n"
          ]
        }
      ],
      "source": [
        "class_weights = compute_class_weights(pidgin_train['label'].values)\n",
        "print(\"\\nComputed class weights for handling imbalance:\")\n",
        "print(f\"Positive (0): {class_weights[0]:.4f}\")\n",
        "print(f\"Negative (1): {class_weights[1]:.4f}\")\n",
        "print(f\"Neutral (2): {class_weights[2]:.4f}\")"
      ]
    },
    {
      "cell_type": "code",
      "execution_count": null,
      "id": "c87add42",
      "metadata": {
        "colab": {
          "base_uri": "https://localhost:8080/",
          "height": 272,
          "referenced_widgets": [
            "aaad552c6fd94fee965235543c8b43c8",
            "abb1ec16171948ee95f67ea3303ba69d",
            "c049dd4a8f91401f925cc9ed80f48d6d",
            "5fd4a47feed64c3f9efe032b0e1ae0f0",
            "353a48f0254f4e87a2a90944a4d479e2",
            "a675a8eb3da146569ec60d290f6bd695",
            "9bd375993ad045bab67ad6776a98cf0e",
            "c95252c893a24888b76c8ec1f3706615",
            "c64e9f7ede48416cba24197f3b483eb8",
            "c2658c4573c1496382ae8f71342fc3ce",
            "17f8bfe98e1c418690bceb451baa1f98",
            "dc16a046b36f410d986490aab56cac27",
            "94c06fa7bb5a490ea10aa218dfffc1ef",
            "c7df67397326455f9ef14035c2478479",
            "41ddbe0af91d44c2b5e484f62a7e1652",
            "06c290f1674c47b4bed1f089f139e934",
            "aa3553ce096348c3a67ae509840fec78",
            "98541ee4a3ae420da53a4260b0752576",
            "b7e708aa0f1140bfafdb26031bce14c2",
            "e47ef2fd5ce04adc9203d4bb465d19cb",
            "e86ac6215e6d40a3abf74ebba1a488a7",
            "196b94aef116445c8ad44e650e60a3d9",
            "1a9e4d8a3c034ce9be483b327de3cf76",
            "994f5715b3e440d694657b4284e5258d",
            "e20f9a0b08f746cda33029dfc7141dc5",
            "7839cc1c8dd545b6bcd6c032faed5d34",
            "0aefa5d3e4ad4afcba109b189582ba3e",
            "b5471fef15c44e8e83608860ea0e3313",
            "587592988f914ea4945aced8c1f1b7fe",
            "609f0c481ea34bc0b56e2f558af87062",
            "c51479ee42eb41109ca3b498975bbe9c",
            "94bd26d5aa454cb8bc5c171375ab4c98",
            "f4cbed5bfc014aaa862bc965b2820b0c"
          ]
        },
        "id": "c87add42",
        "outputId": "4a131240-3390-4386-a60f-a56b6344f63e"
      },
      "outputs": [
        {
          "output_type": "stream",
          "name": "stdout",
          "text": [
            "\n",
            "Initializing Naija-BERT tokenizer...\n"
          ]
        },
        {
          "output_type": "stream",
          "name": "stderr",
          "text": [
            "/usr/local/lib/python3.11/dist-packages/huggingface_hub/utils/_auth.py:94: UserWarning: \n",
            "The secret `HF_TOKEN` does not exist in your Colab secrets.\n",
            "To authenticate with the Hugging Face Hub, create a token in your settings tab (https://huggingface.co/settings/tokens), set it as secret in your Google Colab and restart your session.\n",
            "You will be able to reuse this secret in all of your notebooks.\n",
            "Please note that authentication is recommended but still optional to access public models or datasets.\n",
            "  warnings.warn(\n"
          ]
        },
        {
          "output_type": "display_data",
          "data": {
            "text/plain": [
              "tokenizer_config.json:   0%|          | 0.00/83.0 [00:00<?, ?B/s]"
            ]
          },
          "metadata": {}
        },
        {
          "output_type": "display_data",
          "data": {
            "text/plain": [
              "config.json:   0%|          | 0.00/589 [00:00<?, ?B/s]"
            ]
          },
          "metadata": {}
        },
        {
          "output_type": "display_data",
          "data": {
            "text/plain": [
              "vocab.txt:   0%|          | 0.00/498k [00:00<?, ?B/s]"
            ]
          },
          "metadata": {}
        }
      ],
      "source": [
        "# ## 4. Initialize Tokenizer\n",
        "\n",
        "# Initialize the Naija-BERT tokenizer\n",
        "print(\"\\nInitializing Naija-BERT tokenizer...\")\n",
        "tokenizer = AutoTokenizer.from_pretrained('Davlan/naija-bert-base')\n",
        "\n",
        "# Determine optimal sequence length\n",
        "def analyze_token_lengths(texts, tokenizer, percentile=95):\n",
        "    \"\"\"Analyze token length distribution and determine max length\"\"\"\n",
        "    token_lengths = []\n",
        "    for text in tqdm(texts, desc=\"Analyzing token lengths\"):\n",
        "        if isinstance(text, str) and text.strip():\n",
        "            tokens = tokenizer.tokenize(text)\n",
        "            token_lengths.append(len(tokens))\n",
        "\n",
        "    # Calculate statistics\n",
        "    mean_len = np.mean(token_lengths)\n",
        "    median_len = np.median(token_lengths)\n",
        "    p95 = np.percentile(token_lengths, percentile)\n",
        "    max_len = np.max(token_lengths)\n",
        "\n",
        "    # Round up to nearest multiple of 8 for efficiency\n",
        "    recommended_length = ((int(p95) + 7) // 8) * 8\n",
        "\n",
        "    print(f\"Token length statistics:\")\n",
        "    print(f\"Mean: {mean_len:.1f}\")\n",
        "    print(f\"Median: {median_len:.1f}\")\n",
        "    print(f\"95th percentile: {p95:.1f}\")\n",
        "    print(f\"Max: {max_len}\")\n",
        "    print(f\"Recommended max_length: {recommended_length}\")\n",
        "\n",
        "    return recommended_length, token_lengths\n"
      ]
    },
    {
      "cell_type": "code",
      "execution_count": null,
      "id": "de3e8fd2",
      "metadata": {
        "colab": {
          "base_uri": "https://localhost:8080/",
          "height": 188,
          "referenced_widgets": [
            "792ffa112913496ea59803faf15ebb3c",
            "e6c2b4da72964b189e163e479eddc98b",
            "104ddf87cc184c5899de6c8cc2462be0",
            "09a8e64c2f124e31b9118342a0bbbcfd",
            "5dd1b7a500b84014884425e506d3c098",
            "9fe7e878391d4e8b9ea954b8557f3bbd",
            "5b1d99e7c75348f8b465eab4534f2628",
            "6acae5b9e293486ba1ff578f3b0f09ad",
            "749e9a3928914224ab338d4271fc1e61",
            "efc240e13b5645db9cde02e3ee5b34dd",
            "3f3f76132a78492d8db508cf446ce546"
          ]
        },
        "id": "de3e8fd2",
        "outputId": "7d3989d0-ec03-4f12-f239-830acc682cd8"
      },
      "outputs": [
        {
          "output_type": "stream",
          "name": "stdout",
          "text": [
            "\n",
            "Analyzing Pidgin token lengths with Naija-BERT...\n"
          ]
        },
        {
          "output_type": "display_data",
          "data": {
            "text/plain": [
              "Analyzing token lengths:   0%|          | 0/500 [00:00<?, ?it/s]"
            ]
          },
          "metadata": {}
        },
        {
          "output_type": "stream",
          "name": "stdout",
          "text": [
            "Token length statistics:\n",
            "Mean: 39.9\n",
            "Median: 27.0\n",
            "95th percentile: 115.2\n",
            "Max: 414\n",
            "Recommended max_length: 120\n"
          ]
        }
      ],
      "source": [
        "# Analyze Pidgin and English token lengths\n",
        "print(\"\\nAnalyzing Pidgin token lengths with Naija-BERT...\")\n",
        "pidgin_sample = pidgin_train['cleaned_text'].sample(500, random_state=42).tolist()\n",
        "max_length_pidgin, pidgin_lengths = analyze_token_lengths(pidgin_sample, tokenizer)"
      ]
    },
    {
      "cell_type": "code",
      "execution_count": null,
      "id": "d4c47e30",
      "metadata": {
        "colab": {
          "base_uri": "https://localhost:8080/",
          "height": 188,
          "referenced_widgets": [
            "4b2bbee29de14671951de6e3cc481f3d",
            "8be29759ae49486998e73d8af5df70eb",
            "cc36ff1547924f38a2f7b7d1b5911bc7",
            "c9bac0a570c7476da70cae90c70a2772",
            "a13e253d4192408b93fd9c8180d7e17d",
            "7f856b7356634a04af8e961ae32f4303",
            "25187ee22c894159bdef78fc47fd6b3f",
            "7c7bca528e0d49a9b3f30c9efce64a23",
            "272e862c2ac344e8a0230684fe580ea8",
            "c92eebfd05b940e9ba9ab8241c03d879",
            "64dcab13b9f045babfabe3a1f1fc9e2b"
          ]
        },
        "id": "d4c47e30",
        "outputId": "c12b14dd-8a7d-4480-f03e-c4de15819e21"
      },
      "outputs": [
        {
          "output_type": "stream",
          "name": "stdout",
          "text": [
            "\n",
            "Analyzing English token lengths with Naija-BERT...\n"
          ]
        },
        {
          "output_type": "display_data",
          "data": {
            "text/plain": [
              "Analyzing token lengths:   0%|          | 0/500 [00:00<?, ?it/s]"
            ]
          },
          "metadata": {}
        },
        {
          "output_type": "stream",
          "name": "stdout",
          "text": [
            "Token length statistics:\n",
            "Mean: 34.0\n",
            "Median: 21.0\n",
            "95th percentile: 102.1\n",
            "Max: 448\n",
            "Recommended max_length: 104\n"
          ]
        }
      ],
      "source": [
        "print(\"\\nAnalyzing English token lengths with Naija-BERT...\")\n",
        "english_sample = english_test['cleaned_text'].sample(500, random_state=42).tolist()\n",
        "max_length_english, english_lengths = analyze_token_lengths(english_sample, tokenizer)\n",
        "\n",
        "# Use the maximum of both for test data to handle both languages\n",
        "max_length_test = max(max_length_english, max_length_pidgin)"
      ]
    },
    {
      "cell_type": "code",
      "execution_count": null,
      "id": "af6abe3e",
      "metadata": {
        "colab": {
          "base_uri": "https://localhost:8080/",
          "height": 581
        },
        "id": "af6abe3e",
        "outputId": "069428e6-612b-4e7a-a243-7830dcf98bce"
      },
      "outputs": [
        {
          "output_type": "execute_result",
          "data": {
            "text/plain": [
              "<matplotlib.legend.Legend at 0x7b7ec5325350>"
            ]
          },
          "metadata": {},
          "execution_count": 24
        },
        {
          "output_type": "display_data",
          "data": {
            "text/plain": [
              "<Figure size 1200x600 with 1 Axes>"
            ],
            "image/png": "[encoded data removed]"
          },
          "metadata": {}
        }
      ],
      "source": [
        "# Visualize token length distributions\n",
        "plt.figure(figsize=(12, 6))\n",
        "plt.subplot(1, 2, 1)\n",
        "sns.histplot(pidgin_lengths, bins=30)\n",
        "plt.axvline(x=max_length_pidgin, color='r', linestyle='--', label=f'Max length ({max_length_pidgin})')\n",
        "plt.title('Pidgin Token Length Distribution with Naija-BERT')\n",
        "plt.xlabel('Number of Tokens')\n",
        "plt.ylabel('Frequency')\n",
        "plt.legend()"
      ]
    },
    {
      "cell_type": "code",
      "execution_count": null,
      "id": "b502243b",
      "metadata": {
        "colab": {
          "base_uri": "https://localhost:8080/",
          "height": 487
        },
        "id": "b502243b",
        "outputId": "09a49208-8d28-4e98-ebc9-4df828147cb7"
      },
      "outputs": [
        {
          "output_type": "display_data",
          "data": {
            "text/plain": [
              "<Figure size 640x480 with 1 Axes>"
            ],
            "image/png": "[encoded data removed]"
          },
          "metadata": {}
        }
      ],
      "source": [
        "plt.subplot(1, 2, 2)\n",
        "sns.histplot(english_lengths, bins=30)\n",
        "plt.axvline(x=max_length_english, color='r', linestyle='--', label=f'Max length ({max_length_english})')\n",
        "plt.title('English Token Length Distribution with Naija-BERT')\n",
        "plt.xlabel('Number of Tokens')\n",
        "plt.ylabel('Frequency')\n",
        "plt.legend()\n",
        "\n",
        "plt.tight_layout()\n",
        "plt.show()"
      ]
    },
    {
      "cell_type": "code",
      "execution_count": null,
      "id": "ff3d295f",
      "metadata": {
        "colab": {
          "base_uri": "https://localhost:8080/"
        },
        "id": "ff3d295f",
        "outputId": "826a612d-c49d-4c33-b330-0ec0062c2135"
      },
      "outputs": [
        {
          "output_type": "stream",
          "name": "stdout",
          "text": [
            "Creating PyTorch datasets...\n"
          ]
        }
      ],
      "source": [
        "# ## 5. Create PyTorch Datasets\n",
        "\n",
        "# Prepare datasets\n",
        "print(\"Creating PyTorch datasets...\")\n",
        "\n",
        "# Training dataset\n",
        "train_dataset = SentimentDataset(\n",
        "    pidgin_train['cleaned_text'].tolist(),\n",
        "    pidgin_train['label'].tolist(),\n",
        "    tokenizer,\n",
        "    max_length=max_length_pidgin\n",
        ")\n",
        "\n",
        "# Validation dataset\n",
        "val_dataset = SentimentDataset(\n",
        "    pidgin_val['cleaned_text'].tolist(),\n",
        "    pidgin_val['label'].tolist(),\n",
        "    tokenizer,\n",
        "    max_length=max_length_pidgin\n",
        ")\n",
        "\n",
        "# Test datasets (separate for Pidgin and English for cross-lingual evaluation)\n",
        "pidgin_test_dataset = SentimentDataset(\n",
        "    pidgin_test['cleaned_text'].tolist(),\n",
        "    pidgin_test['label'].tolist(),\n",
        "    tokenizer,\n",
        "    max_length=max_length_test  # Use longer sequence length for test\n",
        ")\n",
        "\n",
        "english_test_dataset = SentimentDataset(\n",
        "    english_test['cleaned_text'].tolist(),\n",
        "    english_test['label'].tolist(),\n",
        "    tokenizer,\n",
        "    max_length=max_length_test  # Use longer sequence length for test\n",
        ")\n",
        "\n",
        "# Combined test dataset\n",
        "combined_test_texts = pidgin_test['cleaned_text'].tolist() + english_test['cleaned_text'].tolist()\n",
        "combined_test_labels = pidgin_test['label'].tolist() + english_test['label'].tolist()\n",
        "\n",
        "combined_test_dataset = SentimentDataset(\n",
        "    combined_test_texts,\n",
        "    combined_test_labels,\n",
        "    tokenizer,\n",
        "    max_length=max_length_test\n",
        ")\n"
      ]
    },
    {
      "cell_type": "code",
      "execution_count": null,
      "id": "baae2d04",
      "metadata": {
        "colab": {
          "base_uri": "https://localhost:8080/"
        },
        "id": "baae2d04",
        "outputId": "a238bdd6-64ab-4712-9cf1-28f305944841"
      },
      "outputs": [
        {
          "output_type": "stream",
          "name": "stdout",
          "text": [
            "Train dataset size: 3500\n",
            "Validation dataset size: 750\n",
            "Pidgin test dataset size: 750\n",
            "English test dataset size: 1500\n",
            "Combined test dataset size: 2250\n",
            "\n",
            "Example batch keys: dict_keys(['input_ids', 'token_type_ids', 'attention_mask', 'labels'])\n",
            "Input IDs shape: torch.Size([2, 120])\n",
            "Attention mask shape: torch.Size([2, 120])\n",
            "Labels: tensor([1, 1])\n"
          ]
        }
      ],
      "source": [
        "print(f\"Train dataset size: {len(train_dataset)}\")\n",
        "print(f\"Validation dataset size: {len(val_dataset)}\")\n",
        "print(f\"Pidgin test dataset size: {len(pidgin_test_dataset)}\")\n",
        "print(f\"English test dataset size: {len(english_test_dataset)}\")\n",
        "print(f\"Combined test dataset size: {len(combined_test_dataset)}\")\n",
        "\n",
        "# Check example batch\n",
        "train_batch = next(iter(DataLoader(train_dataset, batch_size=2)))\n",
        "print(\"\\nExample batch keys:\", train_batch.keys())\n",
        "print(f\"Input IDs shape: {train_batch['input_ids'].shape}\")\n",
        "print(f\"Attention mask shape: {train_batch['attention_mask'].shape}\")\n",
        "print(f\"Labels: {train_batch['labels']}\")"
      ]
    },
    {
      "cell_type": "code",
      "source": [
        "import os\n",
        "os.environ[\"WANDB_DISABLED\"] = \"true\""
      ],
      "metadata": {
        "id": "H1G5XLYhd3w-"
      },
      "id": "H1G5XLYhd3w-",
      "execution_count": null,
      "outputs": []
    },
    {
      "cell_type": "code",
      "execution_count": null,
      "id": "aae42190",
      "metadata": {
        "id": "aae42190"
      },
      "outputs": [],
      "source": [
        "# ## 6. Model Setup and Training\n",
        "\n",
        "# Define metrics function\n",
        "def compute_metrics(pred):\n",
        "    \"\"\"Compute metrics for evaluation\"\"\"\n",
        "    labels = pred.label_ids\n",
        "    preds = pred.predictions.argmax(-1)\n",
        "    precision, recall, f1, _ = precision_recall_fscore_support(labels, preds, average='weighted')\n",
        "    acc = accuracy_score(labels, preds)\n",
        "    return {\n",
        "        'accuracy': acc,\n",
        "        'f1': f1,\n",
        "        'precision': precision,\n",
        "        'recall': recall\n",
        "    }\n"
      ]
    },
    {
      "cell_type": "code",
      "execution_count": null,
      "id": "12695e1b",
      "metadata": {
        "id": "12695e1b"
      },
      "outputs": [],
      "source": [
        "# Define weighted trainer that applies class weights during loss computation\n",
        "class WeightedTrainer(Trainer):\n",
        "    def __init__(self, class_weights=None, *args, **kwargs):\n",
        "        super().__init__(*args, **kwargs)\n",
        "        self.class_weights = class_weights\n",
        "\n",
        "    def compute_loss(self, model, inputs, return_outputs=False, num_items_in_batch=None):\n",
        "        # Extract labels\n",
        "        labels = inputs.pop(\"labels\")\n",
        "\n",
        "        # Forward pass\n",
        "        outputs = model(**inputs)\n",
        "        logits = outputs.logits\n",
        "\n",
        "        # Apply weighted loss\n",
        "        if self.class_weights is not None:\n",
        "            loss_fct = torch.nn.CrossEntropyLoss(weight=self.class_weights.to(logits.device))\n",
        "            loss = loss_fct(logits.view(-1, model.config.num_labels), labels.view(-1))\n",
        "        else:\n",
        "            loss_fct = torch.nn.CrossEntropyLoss()\n",
        "            loss = loss_fct(logits.view(-1, model.config.num_labels), labels.view(-1))\n",
        "\n",
        "        # Add labels back to inputs for potential use elsewhere\n",
        "        inputs[\"labels\"] = labels\n",
        "\n",
        "        return (loss, outputs) if return_outputs else loss\n"
      ]
    },
    {
      "cell_type": "code",
      "execution_count": null,
      "id": "c6dc6afe",
      "metadata": {
        "colab": {
          "base_uri": "https://localhost:8080/",
          "height": 138,
          "referenced_widgets": [
            "93c30895f6b44bb3a0e58c3d2a72279c",
            "f809c69548074f9298f84b73b16ffb3d",
            "1ef33cb386664c5190e2a3cf4e59ff78",
            "3168e738dcc2405d8483d4d3dbc18521",
            "53d2402eeeaa49f586e4147338a36737",
            "082d41aed6c0434fb6fd8c98de540f87",
            "8232ebd65a76487ca2847b646a38b85f",
            "eed99e43535442c38ef4e6ded98bbaf3",
            "1d5d79e68e784e66b468e03bde8fcd2a",
            "649ac6020d1744bfbf565e6151ba1c3f",
            "2fd651154aee49de96868f82bb404618"
          ]
        },
        "id": "c6dc6afe",
        "outputId": "7f36f4cc-db94-4e79-ba25-909cac9febbf"
      },
      "outputs": [
        {
          "output_type": "stream",
          "name": "stdout",
          "text": [
            "\n",
            "Initializing Naija-BERT model...\n"
          ]
        },
        {
          "output_type": "display_data",
          "data": {
            "text/plain": [
              "pytorch_model.bin:   0%|          | 0.00/562M [00:00<?, ?B/s]"
            ]
          },
          "metadata": {}
        },
        {
          "output_type": "stream",
          "name": "stderr",
          "text": [
            "Some weights of BertForSequenceClassification were not initialized from the model checkpoint at Davlan/naija-bert-base and are newly initialized: ['classifier.bias', 'classifier.weight']\n",
            "You should probably TRAIN this model on a down-stream task to be able to use it for predictions and inference.\n"
          ]
        }
      ],
      "source": [
        "# Initialize model\n",
        "print(\"\\nInitializing Naija-BERT model...\")\n",
        "model = AutoModelForSequenceClassification.from_pretrained(\n",
        "    'Davlan/naija-bert-base',\n",
        "    num_labels=3,  # positive, negative, neutral\n",
        ")"
      ]
    },
    {
      "cell_type": "code",
      "execution_count": null,
      "id": "623c5641",
      "metadata": {
        "colab": {
          "base_uri": "https://localhost:8080/"
        },
        "id": "623c5641",
        "outputId": "7d0bda7b-9b92-41f1-fe24-8f977e7dabd0"
      },
      "outputs": [
        {
          "output_type": "execute_result",
          "data": {
            "text/plain": [
              "BertForSequenceClassification(\n",
              "  (bert): BertModel(\n",
              "    (embeddings): BertEmbeddings(\n",
              "      (word_embeddings): Embedding(70000, 768, padding_idx=0)\n",
              "      (position_embeddings): Embedding(512, 768)\n",
              "      (token_type_embeddings): Embedding(2, 768)\n",
              "      (LayerNorm): LayerNorm((768,), eps=1e-12, elementwise_affine=True)\n",
              "      (dropout): Dropout(p=0.1, inplace=False)\n",
              "    )\n",
              "    (encoder): BertEncoder(\n",
              "      (layer): ModuleList(\n",
              "        (0-11): 12 x BertLayer(\n",
              "          (attention): BertAttention(\n",
              "            (self): BertSdpaSelfAttention(\n",
              "              (query): Linear(in_features=768, out_features=768, bias=True)\n",
              "              (key): Linear(in_features=768, out_features=768, bias=True)\n",
              "              (value): Linear(in_features=768, out_features=768, bias=True)\n",
              "              (dropout): Dropout(p=0.1, inplace=False)\n",
              "            )\n",
              "            (output): BertSelfOutput(\n",
              "              (dense): Linear(in_features=768, out_features=768, bias=True)\n",
              "              (LayerNorm): LayerNorm((768,), eps=1e-12, elementwise_affine=True)\n",
              "              (dropout): Dropout(p=0.1, inplace=False)\n",
              "            )\n",
              "          )\n",
              "          (intermediate): BertIntermediate(\n",
              "            (dense): Linear(in_features=768, out_features=3072, bias=True)\n",
              "            (intermediate_act_fn): GELUActivation()\n",
              "          )\n",
              "          (output): BertOutput(\n",
              "            (dense): Linear(in_features=3072, out_features=768, bias=True)\n",
              "            (LayerNorm): LayerNorm((768,), eps=1e-12, elementwise_affine=True)\n",
              "            (dropout): Dropout(p=0.1, inplace=False)\n",
              "          )\n",
              "        )\n",
              "      )\n",
              "    )\n",
              "    (pooler): BertPooler(\n",
              "      (dense): Linear(in_features=768, out_features=768, bias=True)\n",
              "      (activation): Tanh()\n",
              "    )\n",
              "  )\n",
              "  (dropout): Dropout(p=0.1, inplace=False)\n",
              "  (classifier): Linear(in_features=768, out_features=3, bias=True)\n",
              ")"
            ]
          },
          "metadata": {},
          "execution_count": 32
        }
      ],
      "source": [
        "# Move model to GPU if available\n",
        "model.to(device)"
      ]
    },
    {
      "cell_type": "code",
      "execution_count": null,
      "id": "4ff35728",
      "metadata": {
        "colab": {
          "base_uri": "https://localhost:8080/"
        },
        "id": "4ff35728",
        "outputId": "16b65e54-c6fc-4608-e2c2-17f2542c9ffd"
      },
      "outputs": [
        {
          "output_type": "stream",
          "name": "stderr",
          "text": [
            "/usr/local/lib/python3.11/dist-packages/transformers/training_args.py:1611: FutureWarning: `evaluation_strategy` is deprecated and will be removed in version 4.46 of \ud83e\udd17 Transformers. Use `eval_strategy` instead\n",
            "  warnings.warn(\n",
            "Using the `WANDB_DISABLED` environment variable is deprecated and will be removed in v5. Use the --report_to flag to control the integrations used for logging result (for instance --report_to none).\n"
          ]
        },
        {
          "output_type": "stream",
          "name": "stdout",
          "text": [
            "\n",
            "Setting up training arguments...\n"
          ]
        }
      ],
      "source": [
        "# Training arguments\n",
        "print(\"\\nSetting up training arguments...\")\n",
        "training_args = TrainingArguments(\n",
        "    output_dir=\"./results/exp4\",\n",
        "    num_train_epochs=5,\n",
        "    per_device_train_batch_size=16,\n",
        "    per_device_eval_batch_size=32,\n",
        "    warmup_steps=500,\n",
        "    weight_decay=0.01,\n",
        "    logging_dir=\"./logs/exp4\",\n",
        "    logging_steps=100,\n",
        "    evaluation_strategy=\"epoch\",\n",
        "    save_strategy=\"epoch\",\n",
        "    load_best_model_at_end=True,\n",
        "    metric_for_best_model=\"f1\",\n",
        "    push_to_hub=False,\n",
        "    fp16=torch.cuda.is_available(),  # Use mixed precision if GPU is available\n",
        ")"
      ]
    },
    {
      "cell_type": "code",
      "execution_count": null,
      "id": "4de39cae",
      "metadata": {
        "id": "4de39cae"
      },
      "outputs": [],
      "source": [
        "# Initialize Trainer with early stopping and class weights\n",
        "trainer = WeightedTrainer(\n",
        "    model=model,\n",
        "    args=training_args,\n",
        "    train_dataset=train_dataset,\n",
        "    eval_dataset=val_dataset,\n",
        "    compute_metrics=compute_metrics,\n",
        "    class_weights=class_weights,\n",
        "    callbacks=[EarlyStoppingCallback(early_stopping_patience=2)]\n",
        ")"
      ]
    },
    {
      "cell_type": "code",
      "execution_count": null,
      "id": "65d78e73",
      "metadata": {
        "colab": {
          "base_uri": "https://localhost:8080/",
          "height": 319
        },
        "id": "65d78e73",
        "outputId": "4386684d-e195-4875-ce48-63790087ad28"
      },
      "outputs": [
        {
          "output_type": "stream",
          "name": "stdout",
          "text": [
            "\n",
            "Training the model...\n"
          ]
        },
        {
          "output_type": "display_data",
          "data": {
            "text/plain": [
              "<IPython.core.display.HTML object>"
            ],
            "text/html": [
              "\n",
              "    <div>\n",
              "      \n",
              "      <progress value='1095' max='1095' style='width:300px; height:20px; vertical-align: middle;'></progress>\n",
              "      [1095/1095 02:55, Epoch 5/5]\n",
              "    </div>\n",
              "    <table border=\"1\" class=\"dataframe\">\n",
              "  <thead>\n",
              " <tr style=\"text-align: left;\">\n",
              "      <th>Epoch</th>\n",
              "      <th>Training Loss</th>\n",
              "      <th>Validation Loss</th>\n",
              "      <th>Accuracy</th>\n",
              "      <th>F1</th>\n",
              "      <th>Precision</th>\n",
              "      <th>Recall</th>\n",
              "    </tr>\n",
              "  </thead>\n",
              "  <tbody>\n",
              "    <tr>\n",
              "      <td>1</td>\n",
              "      <td>0.973800</td>\n",
              "      <td>0.853104</td>\n",
              "      <td>0.613333</td>\n",
              "      <td>0.649770</td>\n",
              "      <td>0.758502</td>\n",
              "      <td>0.613333</td>\n",
              "    </tr>\n",
              "    <tr>\n",
              "      <td>2</td>\n",
              "      <td>0.674800</td>\n",
              "      <td>0.580676</td>\n",
              "      <td>0.792000</td>\n",
              "      <td>0.805067</td>\n",
              "      <td>0.841535</td>\n",
              "      <td>0.792000</td>\n",
              "    </tr>\n",
              "    <tr>\n",
              "      <td>3</td>\n",
              "      <td>0.576700</td>\n",
              "      <td>0.868483</td>\n",
              "      <td>0.828000</td>\n",
              "      <td>0.821316</td>\n",
              "      <td>0.825611</td>\n",
              "      <td>0.828000</td>\n",
              "    </tr>\n",
              "    <tr>\n",
              "      <td>4</td>\n",
              "      <td>0.441300</td>\n",
              "      <td>0.776046</td>\n",
              "      <td>0.849333</td>\n",
              "      <td>0.844259</td>\n",
              "      <td>0.846467</td>\n",
              "      <td>0.849333</td>\n",
              "    </tr>\n",
              "    <tr>\n",
              "      <td>5</td>\n",
              "      <td>0.165700</td>\n",
              "      <td>0.770463</td>\n",
              "      <td>0.870667</td>\n",
              "      <td>0.868815</td>\n",
              "      <td>0.869422</td>\n",
              "      <td>0.870667</td>\n",
              "    </tr>\n",
              "  </tbody>\n",
              "</table><p>"
            ]
          },
          "metadata": {}
        },
        {
          "output_type": "execute_result",
          "data": {
            "text/plain": [
              "TrainOutput(global_step=1095, training_loss=0.5511655223968367, metrics={'train_runtime': 177.2486, 'train_samples_per_second': 98.731, 'train_steps_per_second': 6.178, 'total_flos': 1079176127400000.0, 'train_loss': 0.5511655223968367, 'epoch': 5.0})"
            ]
          },
          "metadata": {},
          "execution_count": 35
        }
      ],
      "source": [
        "# ## 7. Train Model\n",
        "\n",
        "# Train the model\n",
        "print(\"\\nTraining the model...\")\n",
        "trainer.train()"
      ]
    },
    {
      "cell_type": "code",
      "execution_count": null,
      "id": "8522c63b",
      "metadata": {
        "colab": {
          "base_uri": "https://localhost:8080/"
        },
        "id": "8522c63b",
        "outputId": "e7745dac-8f45-4089-8f0b-6f52004cc974"
      },
      "outputs": [
        {
          "output_type": "stream",
          "name": "stdout",
          "text": [
            "\n",
            "Saving the best model...\n"
          ]
        },
        {
          "output_type": "execute_result",
          "data": {
            "text/plain": [
              "('./results/exp4/tokenizer/tokenizer_config.json',\n",
              " './results/exp4/tokenizer/special_tokens_map.json',\n",
              " './results/exp4/tokenizer/vocab.txt',\n",
              " './results/exp4/tokenizer/added_tokens.json',\n",
              " './results/exp4/tokenizer/tokenizer.json')"
            ]
          },
          "metadata": {},
          "execution_count": 36
        }
      ],
      "source": [
        "# Save the final model\n",
        "print(\"\\nSaving the best model...\")\n",
        "trainer.save_model(\"./results/exp4/best_model\")\n",
        "tokenizer.save_pretrained(\"./results/exp4/tokenizer\")"
      ]
    },
    {
      "cell_type": "code",
      "execution_count": null,
      "id": "95d103af",
      "metadata": {
        "colab": {
          "base_uri": "https://localhost:8080/",
          "height": 265
        },
        "id": "95d103af",
        "outputId": "0fb237fe-a7b6-4157-ab23-0915e128f991"
      },
      "outputs": [
        {
          "output_type": "stream",
          "name": "stdout",
          "text": [
            "\n",
            "Evaluating on validation set...\n"
          ]
        },
        {
          "output_type": "display_data",
          "data": {
            "text/plain": [
              "<IPython.core.display.HTML object>"
            ],
            "text/html": [
              "\n",
              "    <div>\n",
              "      \n",
              "      <progress value='166' max='24' style='width:300px; height:20px; vertical-align: middle;'></progress>\n",
              "      [24/24 00:09]\n",
              "    </div>\n",
              "    "
            ]
          },
          "metadata": {}
        },
        {
          "output_type": "stream",
          "name": "stdout",
          "text": [
            "Validation results: {'eval_loss': 0.7704634070396423, 'eval_accuracy': 0.8706666666666667, 'eval_f1': 0.8688146075198253, 'eval_precision': 0.8694220510138397, 'eval_recall': 0.8706666666666667, 'eval_runtime': 1.3983, 'eval_samples_per_second': 536.374, 'eval_steps_per_second': 17.164, 'epoch': 5.0}\n",
            "\n",
            "Evaluating on Pidgin test set (in-language performance)...\n",
            "Pidgin test results: {'eval_loss': 0.8588423132896423, 'eval_accuracy': 0.8506666666666667, 'eval_f1': 0.8497255929510116, 'eval_precision': 0.8493825348472261, 'eval_recall': 0.8506666666666667, 'eval_runtime': 1.3104, 'eval_samples_per_second': 572.324, 'eval_steps_per_second': 18.314, 'epoch': 5.0}\n",
            "\n",
            "Evaluating on English test set (cross-lingual performance)...\n",
            "English test results: {'eval_loss': 1.5905932188034058, 'eval_accuracy': 0.562, 'eval_f1': 0.6721788909175321, 'eval_precision': 0.8495637421599205, 'eval_recall': 0.562, 'eval_runtime': 2.6044, 'eval_samples_per_second': 575.949, 'eval_steps_per_second': 18.046, 'epoch': 5.0}\n",
            "\n",
            "Evaluating on combined test set...\n",
            "Combined test results: {'eval_loss': 1.3444492816925049, 'eval_accuracy': 0.6582222222222223, 'eval_f1': 0.7074660352053055, 'eval_precision': 0.818190227324145, 'eval_recall': 0.6582222222222223, 'eval_runtime': 3.8306, 'eval_samples_per_second': 587.378, 'eval_steps_per_second': 18.535, 'epoch': 5.0}\n"
          ]
        }
      ],
      "source": [
        "# ## 8. Evaluation\n",
        "\n",
        "# Evaluate on validation set\n",
        "print(\"\\nEvaluating on validation set...\")\n",
        "val_results = trainer.evaluate(val_dataset)\n",
        "print(f\"Validation results: {val_results}\")\n",
        "\n",
        "# Evaluate on Pidgin test set\n",
        "print(\"\\nEvaluating on Pidgin test set (in-language performance)...\")\n",
        "pidgin_test_results = trainer.evaluate(pidgin_test_dataset)\n",
        "print(f\"Pidgin test results: {pidgin_test_results}\")\n",
        "\n",
        "# Evaluate on English test set\n",
        "print(\"\\nEvaluating on English test set (cross-lingual performance)...\")\n",
        "english_test_results = trainer.evaluate(english_test_dataset)\n",
        "print(f\"English test results: {english_test_results}\")\n",
        "\n",
        "# Evaluate on combined test set\n",
        "print(\"\\nEvaluating on combined test set...\")\n",
        "combined_test_results = trainer.evaluate(combined_test_dataset)\n",
        "print(f\"Combined test results: {combined_test_results}\")"
      ]
    },
    {
      "cell_type": "code",
      "execution_count": null,
      "id": "4e5127a0",
      "metadata": {
        "id": "4e5127a0"
      },
      "outputs": [],
      "source": [
        "# ## 9. Detailed Performance Analysis\n",
        "\n",
        "# Get predictions for the test sets\n",
        "def get_predictions(model, dataset, device):\n",
        "    \"\"\"Get model predictions for a dataset\"\"\"\n",
        "    dataloader = DataLoader(dataset, batch_size=16)\n",
        "    model.eval()\n",
        "    model.to(device)\n",
        "\n",
        "    all_preds = []\n",
        "    all_labels = []\n",
        "\n",
        "    with torch.no_grad():\n",
        "        for batch in tqdm(dataloader, desc=\"Getting predictions\"):\n",
        "            # Move batch to device\n",
        "            batch = {k: v.to(device) for k, v in batch.items()}\n",
        "            outputs = model(**{k: v for k, v in batch.items() if k != 'labels'})\n",
        "\n",
        "            logits = outputs.logits\n",
        "            predictions = torch.argmax(logits, dim=-1)\n",
        "\n",
        "            all_preds.extend(predictions.cpu().numpy())\n",
        "            all_labels.extend(batch['labels'].cpu().numpy())\n",
        "\n",
        "    return np.array(all_preds), np.array(all_labels)"
      ]
    },
    {
      "cell_type": "code",
      "execution_count": null,
      "id": "a71577a5",
      "metadata": {
        "colab": {
          "base_uri": "https://localhost:8080/",
          "height": 81,
          "referenced_widgets": [
            "29015dc73a3b46c5bd5460338dece17b",
            "30b2e5c7e57243baab3346af2752f865",
            "ef1a0d192a584fea9bd4095a781d83d2",
            "d8611a21b0fc4eb0a01ee4d876de13b5",
            "64fd5a76b4c6480598d7c243365b5cd4",
            "8f0984931ec149b7af52cf0d2b1916b9",
            "4978539d27014069bdac71e43d24eaac",
            "91cd8c8827254ffe8ed43ab011ca2ba3",
            "9434baa494da40abbdd7290253dd7688",
            "849a84dcf2f346ceae58fc625f6f0ffc",
            "367b10688dc447578ef6e0478ea9a2f0",
            "5ab70bf8b492472b805beeacea3e2f77",
            "8ee01ae557a84f84a5629dc1813500f1",
            "49bb163eab9848d48a00dbe43a204069",
            "c82c7e14c5514984b384222b79fbd181",
            "cdb13a806ab14e0895024ee17c4ce558",
            "589e23d3fef648e9b507eda93d8a0da0",
            "4e8653e9605b4db9bc5f1c5ca3914c93",
            "b3741b44dba74ae19c2db976829f2ec3",
            "61706eaa96944d189a436967d103e5bf",
            "4ef261ef2096446d97bd300c4ac31ad8",
            "84317723956940c792bbf8dc216d60a0"
          ]
        },
        "id": "a71577a5",
        "outputId": "52deacff-1814-4480-9392-67fd8d9fcbc6"
      },
      "outputs": [
        {
          "output_type": "display_data",
          "data": {
            "text/plain": [
              "Getting predictions:   0%|          | 0/47 [00:00<?, ?it/s]"
            ]
          },
          "metadata": {}
        },
        {
          "output_type": "display_data",
          "data": {
            "text/plain": [
              "Getting predictions:   0%|          | 0/94 [00:00<?, ?it/s]"
            ]
          },
          "metadata": {}
        }
      ],
      "source": [
        "# Get predictions\n",
        "pidgin_preds, pidgin_labels = get_predictions(model, pidgin_test_dataset, device)\n",
        "english_preds, english_labels = get_predictions(model, english_test_dataset, device)"
      ]
    },
    {
      "cell_type": "code",
      "execution_count": null,
      "id": "0a0d7170",
      "metadata": {
        "id": "0a0d7170"
      },
      "outputs": [],
      "source": [
        "# Detailed metrics\n",
        "def print_detailed_metrics(preds, labels, dataset_name):\n",
        "    \"\"\"Print detailed metrics for a dataset\"\"\"\n",
        "    acc = accuracy_score(labels, preds)\n",
        "    precision, recall, f1, _ = precision_recall_fscore_support(labels, preds, average='weighted')\n",
        "\n",
        "    print(f\"\\n{dataset_name} Detailed Metrics:\")\n",
        "    print(f\"Accuracy: {acc:.4f}\")\n",
        "    print(f\"F1 Score (weighted): {f1:.4f}\")\n",
        "    print(f\"Precision (weighted): {precision:.4f}\")\n",
        "    print(f\"Recall (weighted): {recall:.4f}\")\n",
        "\n",
        "    # Classification report\n",
        "    label_names = ['positive', 'negative', 'neutral']\n",
        "    print(\"\\nClassification Report:\")\n",
        "    print(classification_report(labels, preds, target_names=label_names))\n",
        "\n",
        "    # Confusion matrix\n",
        "    cm = confusion_matrix(labels, preds)\n",
        "    plt.figure(figsize=(8, 6))\n",
        "    sns.heatmap(cm, annot=True, fmt='d', cmap='Blues', xticklabels=label_names, yticklabels=label_names)\n",
        "    plt.title(f'{dataset_name} Confusion Matrix')\n",
        "    plt.ylabel('True Label')\n",
        "    plt.xlabel('Predicted Label')\n",
        "    plt.show()\n"
      ]
    },
    {
      "cell_type": "code",
      "execution_count": null,
      "id": "fea17e72",
      "metadata": {
        "colab": {
          "base_uri": "https://localhost:8080/",
          "height": 1000
        },
        "id": "fea17e72",
        "outputId": "0b32c4d9-d8d7-459e-d55c-44c2b89061ff"
      },
      "outputs": [
        {
          "output_type": "stream",
          "name": "stdout",
          "text": [
            "\n",
            "Pidgin Test Detailed Metrics:\n",
            "Accuracy: 0.8507\n",
            "F1 Score (weighted): 0.8497\n",
            "Precision (weighted): 0.8494\n",
            "Recall (weighted): 0.8507\n",
            "\n",
            "Classification Report:\n",
            "              precision    recall  f1-score   support\n",
            "\n",
            "    positive       0.75      0.67      0.71        81\n",
            "    negative       0.91      0.92      0.91       465\n",
            "     neutral       0.75      0.76      0.76       204\n",
            "\n",
            "    accuracy                           0.85       750\n",
            "   macro avg       0.80      0.78      0.79       750\n",
            "weighted avg       0.85      0.85      0.85       750\n",
            "\n"
          ]
        },
        {
          "output_type": "display_data",
          "data": {
            "text/plain": [
              "<Figure size 800x600 with 2 Axes>"
            ],
            "image/png": "[encoded data removed]"
          },
          "metadata": {}
        },
        {
          "output_type": "stream",
          "name": "stdout",
          "text": [
            "\n",
            "English Test (Cross-lingual) Detailed Metrics:\n",
            "Accuracy: 0.5620\n",
            "F1 Score (weighted): 0.6722\n",
            "Precision (weighted): 0.8496\n",
            "Recall (weighted): 0.5620\n",
            "\n",
            "Classification Report:\n",
            "              precision    recall  f1-score   support\n",
            "\n",
            "    positive       0.93      0.65      0.76      1149\n",
            "    negative       0.60      0.28      0.38       347\n",
            "     neutral       0.01      0.75      0.01         4\n",
            "\n",
            "    accuracy                           0.56      1500\n",
            "   macro avg       0.51      0.56      0.39      1500\n",
            "weighted avg       0.85      0.56      0.67      1500\n",
            "\n"
          ]
        },
        {
          "output_type": "display_data",
          "data": {
            "text/plain": [
              "<Figure size 800x600 with 2 Axes>"
            ],
            "image/png": "[encoded data removed]"
          },
          "metadata": {}
        }
      ],
      "source": [
        "# Print detailed metrics\n",
        "print_detailed_metrics(pidgin_preds, pidgin_labels, \"Pidgin Test\")\n",
        "print_detailed_metrics(english_preds, english_labels, \"English Test (Cross-lingual)\")"
      ]
    },
    {
      "cell_type": "code",
      "execution_count": null,
      "id": "b7813e34",
      "metadata": {
        "id": "b7813e34"
      },
      "outputs": [],
      "source": [
        "# ## 10. Analyze Error Cases\n",
        "\n",
        "# Function to analyze error cases\n",
        "def analyze_errors(texts, preds, labels, dataset_name, max_examples=10):\n",
        "    \"\"\"Analyze and display error cases\"\"\"\n",
        "    errors = []\n",
        "    for i in range(len(texts)):\n",
        "        if preds[i] != labels[i]:\n",
        "            errors.append({\n",
        "                'text': texts[i],\n",
        "                'true_label': labels[i],\n",
        "                'pred_label': preds[i]\n",
        "            })\n",
        "\n",
        "    print(f\"\\n{dataset_name} Error Analysis ({len(errors)} errors out of {len(texts)} samples):\")\n",
        "    print(f\"Error rate: {len(errors)/len(texts):.2%}\")\n",
        "\n",
        "    # Group errors by type\n",
        "    error_types = {}\n",
        "    for error in errors:\n",
        "        key = f\"{error['true_label']} -> {error['pred_label']}\"\n",
        "        if key not in error_types:\n",
        "            error_types[key] = []\n",
        "        error_types[key].append(error)\n",
        "\n",
        "    # Print error distribution\n",
        "    print(\"\\nError distribution:\")\n",
        "    for error_type, examples in error_types.items():\n",
        "        true_label, pred_label = error_type.split(' -> ')\n",
        "        label_map_inv = {0: 'positive', 1: 'negative', 2: 'neutral'}\n",
        "        true_name = label_map_inv[int(true_label)]\n",
        "        pred_name = label_map_inv[int(pred_label)]\n",
        "        print(f\"  {true_name} predicted as {pred_name}: {len(examples)} cases ({len(examples)/len(errors):.2%} of errors)\")\n",
        "\n",
        "    # Show examples of each error type\n",
        "    print(\"\\nExample errors by type:\")\n",
        "    for error_type, examples in error_types.items():\n",
        "        true_label, pred_label = error_type.split(' -> ')\n",
        "        label_map_inv = {0: 'positive', 1: 'negative', 2: 'neutral'}\n",
        "        true_name = label_map_inv[int(true_label)]\n",
        "        pred_name = label_map_inv[int(pred_label)]\n",
        "\n",
        "        print(f\"\\n{true_name} predicted as {pred_name}:\")\n",
        "        for i, error in enumerate(examples[:max_examples]):\n",
        "            print(f\"  Example {i+1}: {error['text']}\")\n"
      ]
    },
    {
      "cell_type": "code",
      "execution_count": null,
      "id": "1b0e3d2b",
      "metadata": {
        "colab": {
          "base_uri": "https://localhost:8080/"
        },
        "id": "1b0e3d2b",
        "outputId": "cdec279c-a3db-4b09-9a3c-7c8bacd88d49"
      },
      "outputs": [
        {
          "output_type": "stream",
          "name": "stdout",
          "text": [
            "\n",
            "Pidgin Test Error Analysis (112 errors out of 750 samples):\n",
            "Error rate: 14.93%\n",
            "\n",
            "Error distribution:\n",
            "  positive predicted as negative: 7 cases (6.25% of errors)\n",
            "  neutral predicted as negative: 36 cases (32.14% of errors)\n",
            "  negative predicted as neutral: 31 cases (27.68% of errors)\n",
            "  negative predicted as positive: 6 cases (5.36% of errors)\n",
            "  positive predicted as neutral: 20 cases (17.86% of errors)\n",
            "  neutral predicted as positive: 12 cases (10.71% of errors)\n",
            "\n",
            "Example errors by type:\n",
            "\n",
            "positive predicted as negative:\n",
            "  Example 1: awesome news kudos to oga jide bia na only lagos dey this country the remaining 35 states wetin dey sup i know you can't match lagos developmentally but some of you no just dey try at all not even to fix potholes\n",
            "  Example 2: 1 you mean kind of like how oyinbo dey wear bathing suit dey swim with their kids while africans feel they need to cover it all up in the name of modesty yet their children are just as hypersexualized from a young age 2 i have to disagree with this notion that it is wrong or right i believe it is of great importance to raise children who are very very comfortable with their body and that of others so long as the parents are not having sex in front of their kids i don't see anything wrong with it even though i would not go for it myself\n",
            "  Example 3: i m looking forward to that tournament saudi of all places i wan see how things go unfold kudos to mbs tho forget scandal and western propaganda the man dey try in another news we are still the world champions\n",
            "  Example 4: well since you're a nigerian of what use living since you can't amount to something good you go just dey type nonsense without reasoning\n",
            "  Example 5: to gimme your better code nii been dey wait u sincejust dey gimme anything u play abeg\n",
            "  Example 6: the mumu man na e dey even record the thing no shamefor me she made a very good decision\n",
            "  Example 7: no wahala if money dey involved i go do bounty hunter pass django unchained\n",
            "\n",
            "neutral predicted as negative:\n",
            "  Example 1: obidient is full of thiefs yahoo boys olosho and igbos make them leak the videos on his phone make we see the agulu lizard biting his iips to the nudity his olosho supporters dey send to am\n",
            "  Example 2: they live the most luxurious lifestyle while complaining there's no money and then urging nigerians to be patient with them gullible masses dey believe them this life just have money and power and your god\n",
            "  Example 3: a man wey woman go dey control\n",
            "  Example 4: na only 2 of us well for this country d other man wey well don die yesterday so na only me remain how u go dey find mercury for inside person body\n",
            "  Example 5: the guy just dey hustle if you want him service just pay am well he is really good at what he does making noise i don't take him seriously the more money you give him the more noise he'll make and he only makes noise about who you pay him to talk about he was paid to make noise about peter obi that's why no matter what atiku does he only talks about peter obi you have to pay him another money to make noise about atiku if you want him to the hustle legit sha the photo above was taken when his target was tinubu when tinubu understood he was into the business of making noise he made him an offer he couldn't refuse\n",
            "  Example 6: hope na better people do this stats sha cos we no want wetin one person go dey claim stolen mandate because them use stats deceive am well let's sha hope bayelsa go get better persin wen go fit use the wealth of the state properly\n",
            "  Example 7: audio revenue mago mago lets hear the percentage of those benefitting from the igr less than 15 monkeys dey work baboon they chop olorun ma se wa ni abawon waye ka sise bi eru ko da nkan small scale entreapreneurs are groaning from overtaxations while omo onile's agbero's are making free monies using gestapo's style owomida approach to rough handle people take their hard earned capital talkless of gains\n",
            "  Example 8: his eye no cover like this immediately after the beating nah his face no go swell up instantly you no know as human body dey do\n",
            "  Example 9: you would have called him out on social media if it was true the dead cannot speak do you even have proof abi you and police dey fabricate lies against him\n",
            "  Example 10: ecowas no need stress our gallant troops just call on amotekun and civil defence trust me them go collect plus all those bifrans we dey hail dem\n",
            "\n",
            "negative predicted as neutral:\n",
            "  Example 1: omo this guy no 'rest' when him dey alive in death too they dont want to let him 'rest' even people who never gave a fvck\n",
            "  Example 2: EMOJI EMOJI EMOJI EMOJI EMOJI EMOJI waiting go make me stop loving toto i dey look for aaam bunch of useless males\n",
            "  Example 3: democracy wins as apc is sacked now the judiciary is okay we dey hear obi and atiku but never their vps where's datti where's okowa\n",
            "  Example 4: atiku wey dey wine EMOJI\n",
            "  Example 5: i saw the thin werey at amsterdam yesterday baba wear hoodie dey disguise i called his name and he increased his pace i increased mine too before i knew it he took to his heels i chased after him till he boarded a getaway taxi i would have extradited him by myself\n",
            "  Example 6: but benin republic nd some neighboring countries we claim we are supplying power hv 24hrs light nd dey don't even pay much as we do i hv friends 4rm both benin republic nd cameroun our problem is just corruption in every sector\n",
            "  Example 7: we dey rep well if you see how we dey hype our country here you wouldn't believe it there's no yoruba or hausa or igbo here if you belittle yourself as some people do back home oyibo go finish you\n",
            "  Example 8: who dey give this guy voice self na this guy and wike connived to rigged rivers state votes for tinubu you go learn the hard way\n",
            "  Example 9: who be d werey wey dey talk inside this video\n",
            "  Example 10: nothing new naija politicians dey like there counterpart niaja hookup girls the both of them dey useless\n",
            "\n",
            "negative predicted as positive:\n",
            "  Example 1: we go come be like switzerland for agbadeux republic citizens them EMOJI them go dey write exams tire for embassy just to get our visa anyone wey genuinely repent we grant am the visa isolate and disinfect am for airport facilities for 2 weeks to eliminate any traces of the corn demic virus\n",
            "  Example 2: lol thieves dey always sabi each other\n",
            "  Example 3: pep guardiola EMOJI the fastest coach to reach 100 pl wins EMOJI the fastest coach to reach 150 pl wins EMOJI the fastest coach to reach 200 pl winsthe greatest manager of all times premier league fantoys said epl was gonna be hard nut to crack it was even easier than bundesliga baba turn epl to farmers league EMOJI them say na money e dey take win whereas manurefc outspent city and have nothing to show for it\n",
            "  Example 4: bloody waste of time when e be say the process wey you president use take attain excellency nor dey excellent abegi 2nd base jaaaare EMOJI EMOJI\n",
            "  Example 5: e be like say them dey act movie EMOJI i don't know who funny pass between them and these guys just imagine the mockery fuckery URL\n",
            "  Example 6: so during yersternite's duty this lexus es300 uber bolt driver carrying 3 girls drove to my pump for fuel of 3 000 5 litres requesting to pay via card which the pos machine declined i think it's zenith card on letting him know he pleaded with me to try again normally i don't try a declined card twice on my pos to avoid 'debit without approval' a situation where a card is debited but isn't approved by the pos transaction customer wahala i do tell them to check another pump if they can't make transfer but i had pity on him due to the way he was pleading so decided to help out as he wasn't having cash neither could he do transfer due to the rush in my pump i gave him the pos machine to hold while it's connecting so i could attend to other customers brethren that was my second biggest regret this month first one was someone that did transfer of 6 000 to my first bank from opay because access bank transfer wasn't going throughout that day up till now i'm yet to see that one cos some moments later this dude legit looked me eyeball to eyeball and told me approved to which i asked again approved which he repeated loud and clear yes approved bro but it was a big fat lie it had declined again my motive of asking was to confirm because i had ran out of paper roll so i couldn't print it out and dude was in a hurry begging me to sale for him first when i insisted to go and get a paper roll so i didn't bother to verify if it really approved by going back to 'reprint' to check the status of the transaction i just swallowed his words hook line and sinker it pains me most from the bottom of my heart EMOJI because this is money that i was supposed to add and pay my faculty fees deadline is tomorrow i was lucky enough to borrow from a colleague but this dude and several others effortlessly scammed me and put me in huge debt which would be debited from my salary because i decided to trust my fellow county men i still have the failed transaction receipt and will keep it well i will upload the pics when i get home in the morning though i don't think i can recall the guy's face if i should see him again but then miracle no dey tire jesus my advise to you all is 'in all your doings never trust a nigerian dead or alive i have learnt my lessons albeit the hard way thanks for your time\n",
            "\n",
            "positive predicted as neutral:\n",
            "  Example 1: well at a pointthis might seem like the best idea but thenif he responds to every bashing with a backdown he won't achieve much successmost people would say it's the club but thenhow did the club respond to such criticism from the handler of the club's social mediaosimhen should better be taking that penalties edo no dey carry lasthe wan come carry last for herewell thoughi hope he gets his motivation backcuz criticism is part of the game\n",
            "  Example 2: we know the forge master has been buying lobbyist all over the world to launder his image his image is in tatters the man said if this result is released it will cause him irreparable damage dumb followers are online shouting nothing dey happenit will be interesting when he travels next for the next world leaders meeting he will be avoided like plague\n",
            "  Example 3: na abroad den dey import electricity too i thought nigeria is generating electricity by themselves once you hear news like this just expect the news of increase in electricity tariff in few days time\n",
            "  Example 4: is this some kind of joke or what on the other hand nan things like this dey make oyibo looks very special compared to blaq people\n",
            "  Example 5: it's simple nobody dey gree say e get money until something happen before you go begin see money come out that's the simple truth\n",
            "  Example 6: igbo amakathe great developerschristmas don dey come guy man wan show say him don arrive\n",
            "  Example 7: na why i dey like everything about oyibo be this with the recent scandals flying here and there about dangote non profitable independent journalists fbi l cia and all their agencies for don dey do intense secret investigation ontop hin head already but our half baked journalists here go dey wait make insta blogger hudeiyin or others to post before them sef go lift am begin spread without verification\n",
            "  Example 8: congratulations to him my like for sadio mane no b here dude dey ball EMOJI weller the guy really pepper algerians defenders during the 2019 afcon final i read of how he sneaked out from the village he grew up with just little clothes inside nylon in search of greener pasture very inspiring story\n",
            "  Example 9: read wetin you write again and ask yourself if e make sense to you you go just dey yarn akpatha anyhow\n",
            "  Example 10: but it dey end up in unah pockets nah\n",
            "\n",
            "neutral predicted as positive:\n",
            "  Example 1: wetin dey cyprus na school and yahoo boys dey there not really a good country to make money\n",
            "  Example 2: you dey praise am wow why nigeria is nigeria tho well don leave sha enjoy let s me proud of nigeria from afar\n",
            "  Example 3: abacha and idi amin go still dey alive\n",
            "  Example 4: lol abeg which direction naija dey go like this\n",
            "  Example 5: omoh nah my angel u dey lovepeddler\n",
            "  Example 6: like d way someone always ask yahoo boyz dey use corolla\n",
            "  Example 7: what is he waiting for let him send his military to show full support for the palestinians mbok anybody wey the thin dey pepper knows road to gaza\n",
            "  Example 8: i didn't want to mention what he does because he might be a member here or someone that knows him could be here secondly because what he does is seasonal drops by luck na that one family man supposed fold hands dey wait for for how long ok sha i've heard you\n",
            "  Example 9: ok dey are doing a fine job renovating our very much working refinery ok done praising them wat next\n",
            "  Example 10: i was th one living with my brother and his wife and three children my girl visitedthe story long but i dey come make i burn this grass finish\n"
          ]
        }
      ],
      "source": [
        "# Analyze Pidgin errors\n",
        "analyze_errors(\n",
        "    pidgin_test['cleaned_text'].tolist(),\n",
        "    pidgin_preds,\n",
        "    pidgin_labels,\n",
        "    \"Pidgin Test\"\n",
        ")"
      ]
    },
    {
      "cell_type": "code",
      "execution_count": null,
      "id": "97e1b3ba",
      "metadata": {
        "colab": {
          "base_uri": "https://localhost:8080/"
        },
        "id": "97e1b3ba",
        "outputId": "0fac9610-1453-4376-9fa3-ed56e581ab68"
      },
      "outputs": [
        {
          "output_type": "stream",
          "name": "stdout",
          "text": [
            "\n",
            "English Test Error Analysis (657 errors out of 1500 samples):\n",
            "Error rate: 43.80%\n",
            "\n",
            "Error distribution:\n",
            "  positive predicted as neutral: 343 cases (52.21% of errors)\n",
            "  positive predicted as negative: 64 cases (9.74% of errors)\n",
            "  negative predicted as neutral: 191 cases (29.07% of errors)\n",
            "  negative predicted as positive: 58 cases (8.83% of errors)\n",
            "  neutral predicted as negative: 1 cases (0.15% of errors)\n",
            "\n",
            "Example errors by type:\n",
            "\n",
            "positive predicted as neutral:\n",
            "  Example 1: we liked everything about the product it was devoured quickly at the christmas even smorgasbord\n",
            "  Example 2: this is good honey it has a good strong flavor i am not one who likes a mild honey and i always prefer a raw unfiltered honey this is delicious and i will buy again\n",
            "  Example 3: these had an odd taste to them kind of like when you leave a food item close to another in the fridge and it absorbs the flavor of something closeby i had intended to keep this item on a subscription but due to the odd taste i ve cancelled and ordered from wal mart\n",
            "  Example 4: this one is the only truly sugar free pancake keto mix on the market\n",
            "  Example 5: you cant say where's the beef with these beefsticks smallest most satisfying meat stick your ever stuff in your mouth you will want for your next face meat stuffing\n",
            "  Example 6: it's satisfactory price could be lower\n",
            "  Example 7: i rave about how amazing this ghee is to everyone other brands do not compare the smell and texture is nearly flawless i have converted many family and friends to buying this ghee and using it over other saturated fats the cost along with prime shipping makes it affordable for anyone to be healthy using this ghee many of my family members and even my medical doctors who practice ayurvedic healing are now recommending and purchasing this themselves i hope the quality quantity and price never changes because this is something i can be very loyal to the packaging of this product when shipped is beyond phenomenal it really does seem like it's packed with love it's in a glass jar which is a huge plus since i don't use plastic anything i never do reviews but i just needed to express my love for this company they truly know what they're doing\n",
            "  Example 8: liked that it was all milk chocolate\n",
            "  Example 9: bold and tasty dark roast one of the smoothest cup of coffee i have ever had i also love the fact that it is organic and is free of pesticides thank you lifeboost and amazon for providing such a fine product i will definitely keep some of this one in the house\n",
            "  Example 10: this is great for movie theater flavor i add in as the corn is popping a little goes a long way i did not find it useful as a topper after the fact but rather with the oil prior to\n",
            "\n",
            "positive predicted as negative:\n",
            "  Example 1: to die for\n",
            "  Example 2: the seeds were not included in the box the packet was empty\n",
            "  Example 3: item sold by traders joe i read criticism but seller said it had to do with packing etc i was happy to be able to buy this product as there is no trader joes in this area\n",
            "  Example 4: my fave sports drink i never drink the other bread and ordering this here is so easy\n",
            "  Example 5: nothing wrong with a little hair stop in the morning keeps the nose clear and any mail as you feel in your throat or lungs and pretty much sue's it out and it's nice and relaxing and it's great and i will be ordering\n",
            "  Example 6: i dislike the fact that it s a fake one\n",
            "  Example 7: need this 1 box not enough in this house\n",
            "  Example 8: my friend takes chemotherapy and this candy helps him with the bad mouth taste he get\n",
            "  Example 9: can not find them anywhere else i ve looked at every store i ve gone to and not sold there the most delicious jelly beans i have ever tastes\n",
            "  Example 10: amazon sells these for less than the price printed on the package i buy these r 4 bags at a time and often eat my way through a bag in a day's time no shame though since they're one of the healthier snacks on the shelf\n",
            "\n",
            "negative predicted as neutral:\n",
            "  Example 1: french brew was bitter and tasted like it was scorched if this is what it is supposed to taste likekevin it is not for me i'll finish what i bought but never again i went so far as asking a friend to try and he agreed it tasted scorched burned\n",
            "  Example 2: dry crispy did trick\n",
            "  Example 3: arrived expired expired well before i ordered\n",
            "  Example 4: not much flavor\n",
            "  Example 5: always a favorite but this shipment was hard and stale and went right in the garbage disposal no wonder it was an add on item don't waste your money for stale candy boxes even looked old\n",
            "  Example 6: way over priced EMOJI\n",
            "  Example 7: it is a bbq kind of taste but is as thick as water so you cannot cook anything in it\n",
            "  Example 8: i made this cake and thought it would taste great and rise just like a regular cake does this was not the case this cake did not taste like cake taste to me anyway it seemed really spongy to me i would not recomend this product\n",
            "  Example 9: i was under the assumption i was buying 6 bottles not 1 bottle for 10 90 i feel like this was a very high price for 1 bottle never again\n",
            "  Example 10: the new and so called improved wraps smell rancid almost like paint and taste nearly as bad i can't believe this is what they chose to replace an already perfect product leave well enough alone the original recipe was delicious if they really felt the need to sell this product it should have been an additional new product not a replacement i hope they bring back the original recipe\n",
            "\n",
            "negative predicted as positive:\n",
            "  Example 1: did not dissolve well in any liquids thank your\n",
            "  Example 2: doesn't smell or taste like freshly baked bread mostly it just smells sweet i wouldn't buy it again and am not sure what to do with the rest of the bottle i have\n",
            "  Example 3: i did not like it\n",
            "  Example 4: why starwest botanical why change to china this was the best tea ever this pic shows my last bag and it is almost gone i'll be happy to buy it again once it's produced processed packaged in the us\n",
            "  Example 5: extremely sweet ok for adding in to a recipe like as a sweetener flavor to cranberry sause but way too sweet for any other use there's other products that taste better\n",
            "  Example 6: i use to love healthy choices split pea soup but they took it off the market i've tried campbells chunky version horrific nasty smokey taste like i'm licking a burnt wood log off out of a fireplace whatever artificial smoke flavor they got going it has got to cause cancer artificial smoke is disgustingthen i've tried this amy's soup version of spilt pea well it was green and it was soup but veeeeeery b l a n d i couldn't even taste the peas if i were blindfolded i'd be guessing at what i was eating very little pea taste i then tried amy's soup vegetable soup same thing b l a n d no robust taste tasted like a lot of flavor was missing i don't get it how amy's soups can charge 2 59 a can for something so bland if i were at a restaurant and had the same soup i would send it back and ask that the price of the soup be taken off my bill sorry amy your soups don't taste like anything it's all flavorless paste\n",
            "  Example 7: the only true description of this item is the baby part these ribs must have come from a newborn pig they are the tiniest i've ever seen they're still sitting in my freezer waiting for when i need a toothpick with some meat on it total and complete waste of money unbelievable\n",
            "  Example 8: having these once every blue moon is fine but this is not something i would want to eat often it tastes just like described its just not good\n",
            "  Example 9: gipped piad for six got two botles not a good deal watch out\n",
            "  Example 10: the taste is the most important thing to me wanted old fashioned christmas candy\n",
            "\n",
            "neutral predicted as negative:\n",
            "  Example 1: 67 for my books no complaints 67 more than i had plus i m on book voucher\n"
          ]
        }
      ],
      "source": [
        "# Analyze English errors\n",
        "analyze_errors(\n",
        "    english_test['cleaned_text'].tolist(),\n",
        "    english_preds,\n",
        "    english_labels,\n",
        "    \"English Test\"\n",
        ")\n"
      ]
    },
    {
      "cell_type": "code",
      "execution_count": null,
      "id": "9ed1638e",
      "metadata": {
        "id": "9ed1638e"
      },
      "outputs": [],
      "source": [
        "# ## 11. Compare Performance Across Languages\n",
        "\n",
        "# Plot comparison of in-language (Pidgin) vs cross-lingual (English) performance\n",
        "def plot_performance_comparison(pidgin_metrics, english_metrics):\n",
        "    \"\"\"Plot performance comparison between languages\"\"\"\n",
        "    metrics = ['accuracy', 'f1', 'precision', 'recall']\n",
        "    pidgin_scores = [pidgin_metrics[f'eval_{m}'] for m in metrics]\n",
        "    english_scores = [english_metrics[f'eval_{m}'] for m in metrics]\n",
        "\n",
        "    x = np.arange(len(metrics))\n",
        "    width = 0.35\n",
        "\n",
        "    fig, ax = plt.subplots(figsize=(10, 6))\n",
        "    rects1 = ax.bar(x - width/2, pidgin_scores, width, label='Pidgin (In-language)')\n",
        "    rects2 = ax.bar(x + width/2, english_scores, width, label='English (Cross-lingual)')\n",
        "\n",
        "    ax.set_ylabel('Score')\n",
        "    ax.set_title('Performance Comparison: Pidgin vs. English')\n",
        "    ax.set_xticks(x)\n",
        "    ax.set_xticklabels(metrics)\n",
        "    ax.legend()\n",
        "\n",
        "    # Add value labels\n",
        "    def autolabel(rects):\n",
        "        for rect in rects:\n",
        "            height = rect.get_height()\n",
        "            ax.annotate(f'{height:.3f}',\n",
        "                        xy=(rect.get_x() + rect.get_width() / 2, height),\n",
        "                        xytext=(0, 3),\n",
        "                        textcoords=\"offset points\",\n",
        "                        ha='center', va='bottom')\n",
        "\n",
        "    autolabel(rects1)\n",
        "    autolabel(rects2)\n",
        "\n",
        "    fig.tight_layout()\n",
        "    plt.show()"
      ]
    },
    {
      "cell_type": "code",
      "execution_count": null,
      "id": "fc8eb3da",
      "metadata": {
        "colab": {
          "base_uri": "https://localhost:8080/",
          "height": 528
        },
        "id": "fc8eb3da",
        "outputId": "5f7c7197-3111-4291-e744-f5128b40d8cf"
      },
      "outputs": [
        {
          "output_type": "display_data",
          "data": {
            "text/plain": [
              "<Figure size 1000x600 with 1 Axes>"
            ],
            "image/png": "[encoded data removed]"
          },
          "metadata": {}
        }
      ],
      "source": [
        "# Plot performance comparison\n",
        "plot_performance_comparison(pidgin_test_results, english_test_results)\n"
      ]
    },
    {
      "cell_type": "code",
      "execution_count": null,
      "id": "cdf30e70",
      "metadata": {
        "colab": {
          "base_uri": "https://localhost:8080/",
          "height": 552
        },
        "id": "cdf30e70",
        "outputId": "8a314673-beab-49f5-a049-17e0cb9800f9"
      },
      "outputs": [
        {
          "output_type": "execute_result",
          "data": {
            "text/plain": [
              "<matplotlib.legend.Legend at 0x7b7e84537290>"
            ]
          },
          "metadata": {},
          "execution_count": 47
        },
        {
          "output_type": "display_data",
          "data": {
            "text/plain": [
              "<Figure size 1200x700 with 1 Axes>"
            ],
            "image/png": "[encoded data removed]"
          },
          "metadata": {}
        }
      ],
      "source": [
        "# ## 12. Compare to Previous Experiments\n",
        "\n",
        "# Previous experiment results\n",
        "exp1_english_accuracy = 0.9693  # From Experiment 1 results\n",
        "exp1_pidgin_accuracy = 0.5493   # From Experiment 1 results\n",
        "exp2_english_accuracy = 0.516   # From Experiment 2 results\n",
        "exp2_pidgin_accuracy = 0.848    # From Experiment 2 results\n",
        "exp3_english_accuracy = 0.9533  # From Experiment 3 results\n",
        "exp3_pidgin_accuracy = 0.3987   # From Experiment 3 results\n",
        "exp4_english_accuracy = english_test_results['eval_accuracy']\n",
        "exp4_pidgin_accuracy = pidgin_test_results['eval_accuracy']\n",
        "\n",
        "# Create comparison chart for all experiments\n",
        "labels = ['English Test Data', 'Pidgin Test Data']\n",
        "exp1_scores = [exp1_english_accuracy, exp1_pidgin_accuracy]\n",
        "exp2_scores = [exp2_english_accuracy, exp2_pidgin_accuracy]\n",
        "exp3_scores = [exp3_english_accuracy, exp3_pidgin_accuracy]\n",
        "exp4_scores = [exp4_english_accuracy, exp4_pidgin_accuracy]\n",
        "\n",
        "x = np.arange(len(labels))\n",
        "width = 0.2\n",
        "\n",
        "fig, ax = plt.subplots(figsize=(12, 7))\n",
        "rects1 = ax.bar(x - 1.5*width, exp1_scores, width, label='Exp 1: BERT on English')\n",
        "rects2 = ax.bar(x - 0.5*width, exp2_scores, width, label='Exp 2: BERT on Pidgin')\n",
        "rects3 = ax.bar(x + 0.5*width, exp3_scores, width, label='Exp 3: Naija-BERT on English')\n",
        "rects4 = ax.bar(x + 1.5*width, exp4_scores, width, label='Exp 4: Naija-BERT on Pidgin')\n",
        "\n",
        "ax.set_ylabel('Accuracy')\n",
        "ax.set_title('Comparison Across All Experiments')\n",
        "ax.set_xticks(x)\n",
        "ax.set_xticklabels(labels)\n",
        "ax.legend()\n"
      ]
    },
    {
      "cell_type": "code",
      "execution_count": null,
      "id": "f0ece810",
      "metadata": {
        "id": "f0ece810"
      },
      "outputs": [],
      "source": [
        "# Add value labels\n",
        "def autolabel(rects):\n",
        "    for rect in rects:\n",
        "        height = rect.get_height()\n",
        "        ax.annotate(f'{height:.3f}',\n",
        "                    xy=(rect.get_x() + rect.get_width() / 2, height),\n",
        "                    xytext=(0, 3),\n",
        "                    textcoords=\"offset points\",\n",
        "                    ha='center', va='bottom')\n",
        "\n",
        "autolabel(rects1)\n",
        "autolabel(rects2)\n",
        "autolabel(rects3)\n",
        "autolabel(rects4)\n",
        "\n",
        "fig.tight_layout()\n",
        "plt.show()"
      ]
    },
    {
      "cell_type": "code",
      "execution_count": null,
      "id": "0f5a23cb",
      "metadata": {
        "colab": {
          "base_uri": "https://localhost:8080/",
          "height": 562
        },
        "id": "0f5a23cb",
        "outputId": "f5026014-1aaf-440e-b13d-765f45b5690b"
      },
      "outputs": [
        {
          "output_type": "execute_result",
          "data": {
            "text/plain": [
              "<matplotlib.legend.Legend at 0x7b7e84583dd0>"
            ]
          },
          "metadata": {},
          "execution_count": 49
        },
        {
          "output_type": "display_data",
          "data": {
            "text/plain": [
              "<Figure size 1000x600 with 1 Axes>"
            ],
            "image/png": "[encoded data removed]"
          },
          "metadata": {}
        }
      ],
      "source": [
        "# Cross-Lingual Transfer Analysis\n",
        "transfer_labels = ['English\u2192Pidgin Transfer', 'Pidgin\u2192English Transfer']\n",
        "bert_transfer = [exp1_pidgin_accuracy, exp2_english_accuracy]  # BERT\n",
        "naija_transfer = [exp3_pidgin_accuracy, exp4_english_accuracy]  # Naija-BERT\n",
        "\n",
        "x = np.arange(len(transfer_labels))\n",
        "width = 0.35\n",
        "\n",
        "fig, ax = plt.subplots(figsize=(10, 6))\n",
        "rects1 = ax.bar(x - width/2, bert_transfer, width, label='BERT-base-uncased')\n",
        "rects2 = ax.bar(x + width/2, naija_transfer, width, label='Naija-BERT')\n",
        "\n",
        "ax.set_ylabel('Cross-Lingual Transfer Accuracy')\n",
        "ax.set_title('Cross-Lingual Transfer Effectiveness by Model')\n",
        "ax.set_xticks(x)\n",
        "ax.set_xticklabels(transfer_labels)\n",
        "ax.legend()"
      ]
    },
    {
      "cell_type": "code",
      "execution_count": null,
      "id": "58d87e70",
      "metadata": {
        "id": "58d87e70"
      },
      "outputs": [],
      "source": [
        "# Add value labels\n",
        "def autolabel(rects):\n",
        "    for rect in rects:\n",
        "        height = rect.get_height()\n",
        "        ax.annotate(f'{height:.3f}',\n",
        "                    xy=(rect.get_x() + rect.get_width() / 2, height),\n",
        "                    xytext=(0, 3),\n",
        "                    textcoords=\"offset points\",\n",
        "                    ha='center', va='bottom')\n",
        "\n",
        "autolabel(rects1)\n",
        "autolabel(rects2)\n",
        "\n",
        "fig.tight_layout()\n",
        "plt.show()"
      ]
    },
    {
      "cell_type": "code",
      "execution_count": null,
      "id": "84391b7e",
      "metadata": {
        "colab": {
          "base_uri": "https://localhost:8080/",
          "height": 562
        },
        "id": "84391b7e",
        "outputId": "ed82bf0c-0637-4019-ee93-db989f7c0dc3"
      },
      "outputs": [
        {
          "output_type": "execute_result",
          "data": {
            "text/plain": [
              "<matplotlib.legend.Legend at 0x7b7e844b61d0>"
            ]
          },
          "metadata": {},
          "execution_count": 51
        },
        {
          "output_type": "display_data",
          "data": {
            "text/plain": [
              "<Figure size 1000x600 with 1 Axes>"
            ],
            "image/png": "[encoded data removed]"
          },
          "metadata": {}
        }
      ],
      "source": [
        "# In-language Performance Analysis\n",
        "in_language_labels = ['English In-language', 'Pidgin In-language']\n",
        "bert_in_language = [exp1_english_accuracy, exp2_pidgin_accuracy]  # BERT\n",
        "naija_in_language = [exp3_english_accuracy, exp4_pidgin_accuracy]  # Naija-BERT\n",
        "\n",
        "x = np.arange(len(in_language_labels))\n",
        "width = 0.35\n",
        "\n",
        "fig, ax = plt.subplots(figsize=(10, 6))\n",
        "rects1 = ax.bar(x - width/2, bert_in_language, width, label='BERT-base-uncased')\n",
        "rects2 = ax.bar(x + width/2, naija_in_language, width, label='Naija-BERT')\n",
        "\n",
        "ax.set_ylabel('In-language Accuracy')\n",
        "ax.set_title('In-language Performance by Model')\n",
        "ax.set_xticks(x)\n",
        "ax.set_xticklabels(in_language_labels)\n",
        "ax.legend()"
      ]
    },
    {
      "cell_type": "code",
      "execution_count": null,
      "id": "688667a9",
      "metadata": {
        "id": "688667a9"
      },
      "outputs": [],
      "source": [
        "# Add value labels\n",
        "def autolabel(rects):\n",
        "    for rect in rects:\n",
        "        height = rect.get_height()\n",
        "        ax.annotate(f'{height:.3f}',\n",
        "                    xy=(rect.get_x() + rect.get_width() / 2, height),\n",
        "                    xytext=(0, 3),\n",
        "                    textcoords=\"offset points\",\n",
        "                    ha='center', va='bottom')\n",
        "\n",
        "autolabel(rects1)\n",
        "autolabel(rects2)\n",
        "\n",
        "fig.tight_layout()\n",
        "plt.show()"
      ]
    },
    {
      "cell_type": "code",
      "execution_count": null,
      "id": "75e4248b",
      "metadata": {
        "colab": {
          "base_uri": "https://localhost:8080/",
          "height": 736
        },
        "id": "75e4248b",
        "outputId": "dee0ccb3-5c7a-410f-a987-68b0ab0fe9da"
      },
      "outputs": [
        {
          "output_type": "stream",
          "name": "stdout",
          "text": [
            "Comprehensive Results Across All Experiments:\n",
            "                   Model  English Accuracy  Pidgin Accuracy  In-language  \\\n",
            "0        BERT on English            0.9693         0.549300     0.969300   \n",
            "1         BERT on Pidgin            0.5160         0.848000     0.848000   \n",
            "2  Naija-BERT on English            0.9533         0.398700     0.953300   \n",
            "3   Naija-BERT on Pidgin            0.5620         0.850667     0.850667   \n",
            "\n",
            "   Cross-lingual  Transfer Gap  \n",
            "0         0.5493      0.420000  \n",
            "1         0.5160      0.332000  \n",
            "2         0.3987      0.554600  \n",
            "3         0.5620      0.288667  \n"
          ]
        },
        {
          "output_type": "display_data",
          "data": {
            "text/plain": [
              "<Figure size 1000x600 with 1 Axes>"
            ],
            "image/png": "[encoded data removed]"
          },
          "metadata": {}
        }
      ],
      "source": [
        "# ## 13. Comprehensive Analysis Across All Experiments\n",
        "\n",
        "# Create a table of all results\n",
        "results_table = pd.DataFrame({\n",
        "    'Model': ['BERT on English', 'BERT on Pidgin', 'Naija-BERT on English', 'Naija-BERT on Pidgin'],\n",
        "    'English Accuracy': [exp1_english_accuracy, exp2_english_accuracy, exp3_english_accuracy, exp4_english_accuracy],\n",
        "    'Pidgin Accuracy': [exp1_pidgin_accuracy, exp2_pidgin_accuracy, exp3_pidgin_accuracy, exp4_pidgin_accuracy]\n",
        "})\n",
        "\n",
        "# Calculate cross-lingual transfer gap\n",
        "results_table['In-language'] = [results_table.loc[0, 'English Accuracy'],\n",
        "                               results_table.loc[1, 'Pidgin Accuracy'],\n",
        "                               results_table.loc[2, 'English Accuracy'],\n",
        "                               results_table.loc[3, 'Pidgin Accuracy']]\n",
        "\n",
        "results_table['Cross-lingual'] = [results_table.loc[0, 'Pidgin Accuracy'],\n",
        "                                 results_table.loc[1, 'English Accuracy'],\n",
        "                                 results_table.loc[2, 'Pidgin Accuracy'],\n",
        "                                 results_table.loc[3, 'English Accuracy']]\n",
        "\n",
        "results_table['Transfer Gap'] = results_table['In-language'] - results_table['Cross-lingual']\n",
        "\n",
        "print(\"Comprehensive Results Across All Experiments:\")\n",
        "print(results_table[['Model', 'English Accuracy', 'Pidgin Accuracy', 'In-language', 'Cross-lingual', 'Transfer Gap']])\n",
        "\n",
        "# Visualize the transfer gap\n",
        "plt.figure(figsize=(10, 6))\n",
        "bars = plt.bar(results_table['Model'], results_table['Transfer Gap'], color=['blue', 'green', 'red', 'purple'])\n",
        "\n",
        "# Add labels on top of bars\n",
        "for bar in bars:\n",
        "    height = bar.get_height()\n",
        "    plt.text(bar.get_x() + bar.get_width()/2., height + 0.01,\n",
        "            f'{height:.3f}', ha='center', va='bottom')\n",
        "\n",
        "plt.title('Cross-lingual Transfer Gap by Model')\n",
        "plt.ylabel('Accuracy Gap (In-language - Cross-lingual)')\n",
        "plt.xlabel('Model')\n",
        "plt.xticks(rotation=45, ha='right')\n",
        "plt.tight_layout()\n",
        "plt.show()\n"
      ]
    },
    {
      "cell_type": "code",
      "execution_count": null,
      "id": "d93e9445",
      "metadata": {
        "id": "d93e9445"
      },
      "outputs": [],
      "source": [
        "# ## 14. Save Results and Summary\n",
        "\n",
        "# Create output directory if it doesn't exist\n",
        "os.makedirs(\"./results/exp4\", exist_ok=True)\n",
        "\n",
        "# Save all results\n",
        "results_summary = {\n",
        "    'validation': val_results,\n",
        "    'pidgin_test': pidgin_test_results,\n",
        "    'english_test': english_test_results,\n",
        "    'combined_test': combined_test_results\n",
        "}\n"
      ]
    },
    {
      "cell_type": "code",
      "execution_count": null,
      "id": "4e8f0726",
      "metadata": {
        "colab": {
          "base_uri": "https://localhost:8080/"
        },
        "id": "4e8f0726",
        "outputId": "cc860db4-7689-47e8-ea75-7627e9fba630"
      },
      "outputs": [
        {
          "output_type": "stream",
          "name": "stdout",
          "text": [
            "\n",
            "Experiment completed! Results saved to ./results/exp4/results_summary.txt\n"
          ]
        }
      ],
      "source": [
        "# Write results to file\n",
        "with open(\"./results/exp4/results_summary.txt\", \"w\") as f:\n",
        "    f.write(\"Experiment 4: Naija-BERT fine-tuned on Nigerian Pidgin\\n\")\n",
        "    f.write(\"=============================================\\n\\n\")\n",
        "\n",
        "    f.write(\"Model: Davlan/naija-bert-base with class weights\\n\")\n",
        "    f.write(f\"Train dataset size: {len(train_dataset)}\\n\")\n",
        "    f.write(f\"Validation dataset size: {len(val_dataset)}\\n\")\n",
        "    f.write(f\"Pidgin test dataset size: {len(pidgin_test_dataset)}\\n\")\n",
        "    f.write(f\"English test dataset size: {len(english_test_dataset)}\\n\")\n",
        "    f.write(f\"Combined test dataset size: {len(combined_test_dataset)}\\n\\n\")\n",
        "\n",
        "    f.write(\"Results:\\n\")\n",
        "    for dataset_name, results in results_summary.items():\n",
        "        f.write(f\"\\n{dataset_name.upper()} RESULTS:\\n\")\n",
        "        for metric, value in results.items():\n",
        "            f.write(f\"  {metric}: {value}\\n\")\n",
        "\n",
        "    # Compare with previous experiments\n",
        "    f.write(\"\\nCOMPARISON WITH ALL EXPERIMENTS:\\n\")\n",
        "    f.write(f\"  Exp1 (BERT on English) - English: {exp1_english_accuracy:.4f}, Pidgin: {exp1_pidgin_accuracy:.4f}\\n\")\n",
        "    f.write(f\"  Exp2 (BERT on Pidgin) - English: {exp2_english_accuracy:.4f}, Pidgin: {exp2_pidgin_accuracy:.4f}\\n\")\n",
        "    f.write(f\"  Exp3 (Naija-BERT on English) - English: {exp3_english_accuracy:.4f}, Pidgin: {exp3_pidgin_accuracy:.4f}\\n\")\n",
        "    f.write(f\"  Exp4 (Naija-BERT on Pidgin) - English: {exp4_english_accuracy:.4f}, Pidgin: {exp4_pidgin_accuracy:.4f}\\n\\n\")\n",
        "\n",
        "    # Add table\n",
        "    f.write(\"COMPREHENSIVE RESULTS TABLE:\\n\")\n",
        "    f.write(results_table.to_string(index=False))\n",
        "\n",
        "print(\"\\nExperiment completed! Results saved to ./results/exp4/results_summary.txt\")"
      ]
    },
    {
      "cell_type": "code",
      "execution_count": null,
      "id": "da70537d",
      "metadata": {
        "colab": {
          "base_uri": "https://localhost:8080/"
        },
        "id": "da70537d",
        "outputId": "dee5b721-8194-4312-d407-30f9d8973ab1"
      },
      "outputs": [
        {
          "output_type": "stream",
          "name": "stdout",
          "text": [
            "\n",
            "Final Observations:\n",
            "1. In-language Performance:\n",
            "   - BERT on English: 0.9693\n",
            "   - BERT on Pidgin: 0.8480\n",
            "   - Naija-BERT on English: 0.9533\n",
            "   - Naija-BERT on Pidgin: 0.8507\n"
          ]
        }
      ],
      "source": [
        "# ## 15. Final Observations\n",
        "\n",
        "print(\"\\nFinal Observations:\")\n",
        "print(\"1. In-language Performance:\")\n",
        "print(f\"   - BERT on English: {exp1_english_accuracy:.4f}\")\n",
        "print(f\"   - BERT on Pidgin: {exp2_pidgin_accuracy:.4f}\")\n",
        "print(f\"   - Naija-BERT on English: {exp3_english_accuracy:.4f}\")\n",
        "print(f\"   - Naija-BERT on Pidgin: {exp4_pidgin_accuracy:.4f}\")\n"
      ]
    },
    {
      "cell_type": "code",
      "execution_count": null,
      "id": "00a0a251",
      "metadata": {
        "colab": {
          "base_uri": "https://localhost:8080/"
        },
        "id": "00a0a251",
        "outputId": "e05e2425-8de8-46ac-a20e-2e17f161ba21"
      },
      "outputs": [
        {
          "output_type": "stream",
          "name": "stdout",
          "text": [
            "\n",
            "2. Cross-lingual Transfer:\n",
            "   - English to Pidgin (BERT): 0.5493\n",
            "   - Pidgin to English (BERT): 0.5160\n",
            "   - English to Pidgin (Naija-BERT): 0.3987\n",
            "   - Pidgin to English (Naija-BERT): 0.5620\n"
          ]
        }
      ],
      "source": [
        "print(\"\\n2. Cross-lingual Transfer:\")\n",
        "print(f\"   - English to Pidgin (BERT): {exp1_pidgin_accuracy:.4f}\")\n",
        "print(f\"   - Pidgin to English (BERT): {exp2_english_accuracy:.4f}\")\n",
        "print(f\"   - English to Pidgin (Naija-BERT): {exp3_pidgin_accuracy:.4f}\")\n",
        "print(f\"   - Pidgin to English (Naija-BERT): {exp4_english_accuracy:.4f}\")\n"
      ]
    },
    {
      "cell_type": "code",
      "execution_count": null,
      "id": "8e0ba8e5",
      "metadata": {
        "colab": {
          "base_uri": "https://localhost:8080/"
        },
        "id": "8e0ba8e5",
        "outputId": "0df170b9-7959-4995-faa8-66a06bb368ef"
      },
      "outputs": [
        {
          "output_type": "stream",
          "name": "stdout",
          "text": [
            "\n",
            "3. Transfer Gaps:\n"
          ]
        }
      ],
      "source": [
        "print(\"\\n3. Transfer Gaps:\")\n",
        "best_model_idx = results_table['Transfer Gap'].idxmin()\n",
        "best_model = results_table.loc[best_model_idx, 'Model']\n",
        "best_gap = results_table.loc[best_model_idx, 'Transfer Gap']\n"
      ]
    },
    {
      "cell_type": "code",
      "execution_count": null,
      "id": "2ec3ed9f",
      "metadata": {
        "colab": {
          "base_uri": "https://localhost:8080/"
        },
        "id": "2ec3ed9f",
        "outputId": "bcb8ba5f-38c4-4a28-92ad-1738e95b48c9"
      },
      "outputs": [
        {
          "output_type": "stream",
          "name": "stdout",
          "text": [
            "   - BERT (English\u2192Pidgin): 0.4200\n",
            "   - BERT (Pidgin\u2192English): 0.3320\n",
            "   - Naija-BERT (English\u2192Pidgin): 0.5546\n",
            "   - Naija-BERT (Pidgin\u2192English): 0.2887\n",
            "   - Best model for cross-lingual transfer: Naija-BERT on Pidgin (Gap: 0.2887)\n"
          ]
        }
      ],
      "source": [
        "print(f\"   - BERT (English\u2192Pidgin): {exp1_english_accuracy - exp1_pidgin_accuracy:.4f}\")\n",
        "print(f\"   - BERT (Pidgin\u2192English): {exp2_pidgin_accuracy - exp2_english_accuracy:.4f}\")\n",
        "print(f\"   - Naija-BERT (English\u2192Pidgin): {exp3_english_accuracy - exp3_pidgin_accuracy:.4f}\")\n",
        "print(f\"   - Naija-BERT (Pidgin\u2192English): {exp4_pidgin_accuracy - exp4_english_accuracy:.4f}\")\n",
        "print(f\"   - Best model for cross-lingual transfer: {best_model} (Gap: {best_gap:.4f})\")"
      ]
    },
    {
      "cell_type": "code",
      "execution_count": null,
      "id": "d2a1cd90",
      "metadata": {
        "colab": {
          "base_uri": "https://localhost:8080/"
        },
        "id": "d2a1cd90",
        "outputId": "ce736304-21bd-4dc1-980d-57940a5d98f8"
      },
      "outputs": [
        {
          "output_type": "stream",
          "name": "stdout",
          "text": [
            "\n",
            "4. Best Cross-lingual Models:\n",
            "   - English to Pidgin: BERT (0.5493)\n",
            "   - Pidgin to English: Naija-BERT (0.5620)\n"
          ]
        }
      ],
      "source": [
        "# Check which model has the best cross-lingual performance in each direction\n",
        "best_eng_to_pidgin = max(exp1_pidgin_accuracy, exp3_pidgin_accuracy)\n",
        "best_pidgin_to_eng = max(exp2_english_accuracy, exp4_english_accuracy)\n",
        "\n",
        "print(\"\\n4. Best Cross-lingual Models:\")\n",
        "print(f\"   - English to Pidgin: {'BERT' if best_eng_to_pidgin == exp1_pidgin_accuracy else 'Naija-BERT'} ({best_eng_to_pidgin:.4f})\")\n",
        "print(f\"   - Pidgin to English: {'BERT' if best_pidgin_to_eng == exp2_english_accuracy else 'Naija-BERT'} ({best_pidgin_to_eng:.4f})\")"
      ]
    },
    {
      "cell_type": "code",
      "execution_count": null,
      "id": "26b2db01",
      "metadata": {
        "colab": {
          "base_uri": "https://localhost:8080/"
        },
        "id": "26b2db01",
        "outputId": "576633a4-1e29-40ce-c71c-32c0396f4ee4"
      },
      "outputs": [
        {
          "output_type": "stream",
          "name": "stdout",
          "text": [
            "\n",
            "5. Overall Best Model for Sentiment Analysis:\n",
            "   - Best overall model: BERT on English (Avg. Accuracy: 0.7593)\n"
          ]
        }
      ],
      "source": [
        "print(\"\\n5. Overall Best Model for Sentiment Analysis:\")\n",
        "# Calculate average performance across both languages\n",
        "avg_performance = results_table[['English Accuracy', 'Pidgin Accuracy']].mean(axis=1)\n",
        "best_avg_idx = avg_performance.idxmax()\n",
        "best_avg_model = results_table.loc[best_avg_idx, 'Model']\n",
        "print(f\"   - Best overall model: {best_avg_model} (Avg. Accuracy: {avg_performance[best_avg_idx]:.4f})\")\n"
      ]
    }
  ],
  "metadata": {
    "language_info": {
      "name": "python"
    },
    "colab": {
      "provenance": [],
      "machine_shape": "hm",
      "gpuType": "T4"
    },
    "accelerator": "GPU",
    "kernelspec": {
      "name": "python3",
      "display_name": "Python 3"
    }
  },
  "nbformat": 4,
  "nbformat_minor": 5
}