{
  "cells": [
    {
      "cell_type": "code",
      "execution_count": null,
      "metadata": {
        "id": "dz7DWJNuKyUL"
      },
      "outputs": [],
      "source": [
        "# Experiment 1: Fine-tuning BERT-base-uncased on English Sentiment Dataset\n",
        "# This notebook implements the training procedure for the first experiment in our cross-lingual sentiment analysis project\n",
        "\n",
        "import torch\n",
        "import pandas as pd\n",
        "import numpy as np\n",
        "import matplotlib.pyplot as plt\n",
        "import seaborn as sns\n",
        "from sklearn.metrics import accuracy_score, precision_recall_fscore_support, confusion_matrix, classification_report\n",
        "from torch.utils.data import Dataset, DataLoader"
      ]
    },
    {
      "cell_type": "code",
      "execution_count": null,
      "metadata": {
        "id": "2feE_i1FKyUN"
      },
      "outputs": [],
      "source": [
        "from transformers import (\n",
        "    BertTokenizer,\n",
        "    BertForSequenceClassification,\n",
        "    get_linear_schedule_with_warmup,\n",
        "    TrainingArguments,\n",
        "    Trainer,\n",
        "    EarlyStoppingCallback\n",
        ")"
      ]
    },
    {
      "cell_type": "code",
      "execution_count": null,
      "metadata": {
        "colab": {
          "base_uri": "https://localhost:8080/"
        },
        "id": "qvkhLyrTKyUN",
        "outputId": "fcff30dd-a533-4af6-f9a1-1fa7215da55d"
      },
      "outputs": [
        {
          "name": "stdout",
          "output_type": "stream",
          "text": [
            "Collecting emoji\n",
            "  Downloading emoji-2.14.1-py3-none-any.whl.metadata (5.7 kB)\n",
            "Downloading emoji-2.14.1-py3-none-any.whl (590 kB)\n",
            "\u001b[2K   \u001b[90m\u2501\u2501\u2501\u2501\u2501\u2501\u2501\u2501\u2501\u2501\u2501\u2501\u2501\u2501\u2501\u2501\u2501\u2501\u2501\u2501\u2501\u2501\u2501\u2501\u2501\u2501\u2501\u2501\u2501\u2501\u2501\u2501\u2501\u2501\u2501\u2501\u2501\u2501\u2501\u2501\u001b[0m \u001b[32m590.6/590.6 kB\u001b[0m \u001b[31m7.4 MB/s\u001b[0m eta \u001b[36m0:00:00\u001b[0m\n",
            "\u001b[?25hInstalling collected packages: emoji\n",
            "Successfully installed emoji-2.14.1\n"
          ]
        }
      ],
      "source": [
        "import os\n",
        "import random\n",
        "import re\n",
        "!pip install emoji\n",
        "import emoji\n",
        "from tqdm.notebook import tqdm"
      ]
    },
    {
      "cell_type": "code",
      "execution_count": null,
      "metadata": {
        "id": "pIB27dFwKyUO"
      },
      "outputs": [],
      "source": [
        "# Set random seeds for reproducibility\n",
        "seed = 42\n",
        "torch.manual_seed(seed)\n",
        "random.seed(seed)\n",
        "np.random.seed(seed)\n",
        "if torch.cuda.is_available():\n",
        "    torch.cuda.manual_seed_all(seed)"
      ]
    },
    {
      "cell_type": "code",
      "execution_count": null,
      "metadata": {
        "colab": {
          "base_uri": "https://localhost:8080/"
        },
        "id": "chSr5118KyUO",
        "outputId": "6e8a6cac-c33b-414f-c6e2-c49ef8d988f5"
      },
      "outputs": [
        {
          "name": "stdout",
          "output_type": "stream",
          "text": [
            "Using device: cuda\n"
          ]
        }
      ],
      "source": [
        "# Check for GPU\n",
        "device = torch.device(\"cuda\" if torch.cuda.is_available() else \"cpu\")\n",
        "print(f\"Using device: {device}\")"
      ]
    },
    {
      "cell_type": "code",
      "execution_count": null,
      "metadata": {
        "id": "P_UgABNlKyUO"
      },
      "outputs": [],
      "source": [
        "# ## 1. Data Preparation\n",
        "\n",
        "# Function to clean and normalize text\n",
        "def clean_text(text, is_pidgin=False):\n",
        "    \"\"\"\n",
        "    Clean and normalize text data\n",
        "\n",
        "    Args:\n",
        "        text (str): Input text\n",
        "        is_pidgin (bool): Whether the text is Nigerian Pidgin\n",
        "\n",
        "    Returns:\n",
        "        str: Cleaned text\n",
        "    \"\"\"\n",
        "    if not isinstance(text, str):\n",
        "        return \"\"\n",
        "\n",
        "    # Convert to lowercase\n",
        "    text = text.lower()\n",
        "\n",
        "    # Remove URLs\n",
        "    text = re.sub(r'https?://\\S+|www\\.\\S+', ' [URL] ', text)\n",
        "\n",
        "    # Remove user mentions (@username)\n",
        "    text = re.sub(r'@\\w+', ' [USER] ', text)\n",
        "\n",
        "    # Handle hashtags - keep the text but remove the # symbol\n",
        "    text = re.sub(r'#(\\w+)', r'\\1', text)\n",
        "\n",
        "    # Convert emojis to text (alternatively, you can remove them)\n",
        "    text = emoji.demojize(text)\n",
        "    text = re.sub(r':[a-z_]+:', ' [EMOJI] ', text)  # replace with token or remove\n",
        "\n",
        "    # Remove special characters but keep apostrophes (important for contractions)\n",
        "    text = re.sub(r'[^a-zA-Z0-9\\'\\s]', ' ', text)\n",
        "\n",
        "    # Normalize apostrophes\n",
        "    text = text.replace(\"'\", \"'\")\n",
        "\n",
        "    # Replace multiple spaces with single space\n",
        "    text = re.sub(r'\\s+', ' ', text)\n",
        "\n",
        "    # For Pidgin-specific normalization\n",
        "    if is_pidgin:\n",
        "        # Define common Pidgin expressions to preserve\n",
        "        pidgin_normalizations = {\n",
        "            # Common variations\n",
        "            \" de \": \" dey \",\n",
        "            \" sey \": \" say \",\n",
        "            \" dem \": \" them \",\n",
        "            \" una \": \" you \",\n",
        "            \" dis \": \" this \",\n",
        "            \" dat \": \" that \",\n",
        "            # Common expressions (keep intact)\n",
        "            \"abeg\": \"abeg\",  # please\n",
        "            \"wetin\": \"wetin\",  # what\n",
        "            \"na \": \"na \",  # is/it is\n",
        "            \"abi\": \"abi\",  # right?/isn't it?\n",
        "            \"shey\": \"shey\",  # is it that\n",
        "            \"sha\": \"sha\",  # anyway/though\n",
        "            \"wahala\": \"wahala\",  # trouble\n",
        "            \"japa\": \"japa\",  # run away/leave\n",
        "            \"gats\": \"gats\",  # must/have to\n",
        "        }\n",
        "\n",
        "        for old, new in pidgin_normalizations.items():\n",
        "            text = text.replace(old, new)\n",
        "\n",
        "    return text.strip()\n"
      ]
    },
    {
      "cell_type": "code",
      "execution_count": null,
      "metadata": {
        "id": "-ysgz9eCKyUP"
      },
      "outputs": [],
      "source": [
        "# Custom dataset class\n",
        "class SentimentDataset(Dataset):\n",
        "    \"\"\"PyTorch dataset for sentiment analysis\"\"\"\n",
        "    def __init__(self, texts, labels, tokenizer, max_length=128):\n",
        "        self.texts = texts\n",
        "        self.labels = labels\n",
        "        self.tokenizer = tokenizer\n",
        "        self.max_length = max_length\n",
        "\n",
        "    def __len__(self):\n",
        "        return len(self.texts)\n",
        "\n",
        "    def __getitem__(self, idx):\n",
        "        text = self.texts[idx]\n",
        "        label = self.labels[idx]\n",
        "\n",
        "        encoding = self.tokenizer(\n",
        "            text,\n",
        "            truncation=True,\n",
        "            padding='max_length',\n",
        "            max_length=self.max_length,\n",
        "            return_tensors='pt'\n",
        "        )\n",
        "\n",
        "        # Remove the batch dimension which tokenizer adds by default\n",
        "        encoding = {k: v.squeeze(0) for k, v in encoding.items()}\n",
        "        encoding['labels'] = torch.tensor(label)\n",
        "\n",
        "        return encoding"
      ]
    },
    {
      "cell_type": "code",
      "execution_count": null,
      "metadata": {
        "colab": {
          "base_uri": "https://localhost:8080/"
        },
        "id": "RD1LjSQkKyUP",
        "outputId": "0446a0d6-7d85-4b80-ed9d-697ab8f06c6a"
      },
      "outputs": [
        {
          "name": "stdout",
          "output_type": "stream",
          "text": [
            "Loading datasets...\n"
          ]
        }
      ],
      "source": [
        "# Load and prepare datasets\n",
        "print(\"Loading datasets...\")"
      ]
    },
    {
      "cell_type": "code",
      "execution_count": null,
      "metadata": {
        "colab": {
          "base_uri": "https://localhost:8080/"
        },
        "id": "4eyIxuGdKyUP",
        "outputId": "48569284-cfca-492d-8a8a-7570311059d7"
      },
      "outputs": [
        {
          "name": "stdout",
          "output_type": "stream",
          "text": [
            "English dataset shape: (10000, 2)\n"
          ]
        }
      ],
      "source": [
        "# Load English dataset\n",
        "english_df = pd.read_csv('English_dataset.csv')\n",
        "print(f\"English dataset shape: {english_df.shape}\")"
      ]
    },
    {
      "cell_type": "code",
      "execution_count": null,
      "metadata": {
        "id": "fY5UrrohKyUP"
      },
      "outputs": [],
      "source": [
        "# Map sentiments to numeric values\n",
        "sentiment_map = {'positive': 0, 'negative': 1, 'neutral': 2}\n",
        "english_df['label'] = english_df['Sentiments'].map(sentiment_map)"
      ]
    },
    {
      "cell_type": "code",
      "execution_count": null,
      "metadata": {
        "colab": {
          "base_uri": "https://localhost:8080/"
        },
        "id": "5CozHf5bKyUQ",
        "outputId": "dd04fc6e-d847-4d2a-bd4e-a6622abc3563"
      },
      "outputs": [
        {
          "name": "stdout",
          "output_type": "stream",
          "text": [
            "\n",
            "Sentiment distribution:\n",
            "Sentiments\n",
            "positive    7663\n",
            "negative    2317\n",
            "neutral       20\n",
            "Name: count, dtype: int64\n",
            "Percentages: Sentiments\n",
            "positive    76.63\n",
            "negative    23.17\n",
            "neutral      0.20\n",
            "Name: count, dtype: float64\n"
          ]
        }
      ],
      "source": [
        "# Check sentiment distribution\n",
        "sentiment_counts = english_df['Sentiments'].value_counts()\n",
        "print(\"\\nSentiment distribution:\")\n",
        "print(sentiment_counts)\n",
        "print(f\"Percentages: {sentiment_counts / len(english_df) * 100}\")"
      ]
    },
    {
      "cell_type": "code",
      "execution_count": null,
      "metadata": {
        "id": "0lmVWt2cKyUQ"
      },
      "outputs": [],
      "source": [
        "# Clean text\n",
        "english_df['cleaned_text'] = english_df['text'].apply(lambda x: clean_text(x, is_pidgin=False))"
      ]
    },
    {
      "cell_type": "code",
      "execution_count": null,
      "metadata": {
        "colab": {
          "base_uri": "https://localhost:8080/"
        },
        "id": "7po2xOwjKyUQ",
        "outputId": "46a8f95e-d2bb-43ac-efec-e1726829266b"
      },
      "outputs": [
        {
          "name": "stdout",
          "output_type": "stream",
          "text": [
            "\n",
            "Pidgin dataset shape: (5000, 2)\n"
          ]
        }
      ],
      "source": [
        "# Load Pidgin dataset for testing\n",
        "pidgin_df = pd.read_csv('new_annotated_pidgin.csv')\n",
        "print(f\"\\nPidgin dataset shape: {pidgin_df.shape}\")\n",
        "pidgin_df['label'] = pidgin_df['sentiments'].map(sentiment_map)\n",
        "pidgin_df['cleaned_text'] = pidgin_df['Comments'].apply(lambda x: clean_text(x, is_pidgin=True))"
      ]
    },
    {
      "cell_type": "code",
      "execution_count": null,
      "metadata": {
        "colab": {
          "base_uri": "https://localhost:8080/",
          "height": 562
        },
        "id": "GRw1QzfSKyUQ",
        "outputId": "4eb1ebd4-a204-45dd-eec8-86f0dd81ea9f"
      },
      "outputs": [
        {
          "data": {
            "image/png": "[encoded data removed]",
            "text/plain": [
              "<Figure size 1000x600 with 1 Axes>"
            ]
          },
          "metadata": {},
          "output_type": "display_data"
        }
      ],
      "source": [
        "# Visualize sentiment distribution\n",
        "plt.figure(figsize=(10, 6))\n",
        "sns.countplot(x='Sentiments', data=english_df)\n",
        "plt.title('English Dataset Sentiment Distribution')\n",
        "plt.show()"
      ]
    },
    {
      "cell_type": "code",
      "execution_count": null,
      "metadata": {
        "id": "Y40_QnZFKyUQ"
      },
      "outputs": [],
      "source": [
        "# ## 2. Split Datasets\n",
        "\n",
        "from sklearn.model_selection import train_test_split\n",
        "\n",
        "# Split into train, validation, and test sets\n",
        "def split_dataset(df, train_size=0.7, val_size=0.15, test_size=0.15, random_state=42):\n",
        "    \"\"\"\n",
        "    Split dataset into train, validation, and test sets with stratification\n",
        "    \"\"\"\n",
        "    # First split: train + validation and test\n",
        "    train_val, test = train_test_split(\n",
        "        df, test_size=test_size, random_state=random_state, stratify=df['label']\n",
        "    )\n",
        "\n",
        "    # Second split: train and validation\n",
        "    # Adjust validation size relative to train_val\n",
        "    relative_val_size = val_size / (train_size + val_size)\n",
        "    train, val = train_test_split(\n",
        "        train_val, test_size=relative_val_size, random_state=random_state,\n",
        "        stratify=train_val['label']\n",
        "    )\n",
        "\n",
        "    return train, val, test"
      ]
    },
    {
      "cell_type": "code",
      "execution_count": null,
      "metadata": {
        "id": "2i8d4QQjKyUQ"
      },
      "outputs": [],
      "source": [
        "# Split English dataset\n",
        "english_train, english_val, english_test = split_dataset(english_df)"
      ]
    },
    {
      "cell_type": "code",
      "execution_count": null,
      "metadata": {
        "colab": {
          "base_uri": "https://localhost:8080/"
        },
        "id": "tD1uJLmdKyUR",
        "outputId": "6c80c664-b94a-4c26-b507-07d85050c91c"
      },
      "outputs": [
        {
          "name": "stdout",
          "output_type": "stream",
          "text": [
            "\n",
            "Dataset splits:\n",
            "English - Train: 7000, Val: 1500, Test: 1500\n"
          ]
        }
      ],
      "source": [
        "# Display split sizes\n",
        "print(\"\\nDataset splits:\")\n",
        "print(f\"English - Train: {len(english_train)}, Val: {len(english_val)}, Test: {len(english_test)}\")"
      ]
    },
    {
      "cell_type": "code",
      "execution_count": null,
      "metadata": {
        "colab": {
          "base_uri": "https://localhost:8080/"
        },
        "id": "7V1cJ4lDKyUR",
        "outputId": "a3b10b9a-c6f6-4c6f-d4f5-727ff7baad6c"
      },
      "outputs": [
        {
          "name": "stdout",
          "output_type": "stream",
          "text": [
            "\n",
            "Train distribution:\n",
            "Sentiments\n",
            "positive    5364\n",
            "negative    1622\n",
            "neutral       14\n",
            "Name: count, dtype: int64\n",
            "\n",
            "Validation distribution:\n",
            "Sentiments\n",
            "positive    1150\n",
            "negative     347\n",
            "neutral        3\n",
            "Name: count, dtype: int64\n",
            "\n",
            "Test distribution:\n",
            "Sentiments\n",
            "positive    1149\n",
            "negative     348\n",
            "neutral        3\n",
            "Name: count, dtype: int64\n"
          ]
        }
      ],
      "source": [
        "# Check class distribution in splits\n",
        "print(\"\\nTrain distribution:\")\n",
        "print(english_train['Sentiments'].value_counts())\n",
        "print(\"\\nValidation distribution:\")\n",
        "print(english_val['Sentiments'].value_counts())\n",
        "print(\"\\nTest distribution:\")\n",
        "print(english_test['Sentiments'].value_counts())"
      ]
    },
    {
      "cell_type": "code",
      "execution_count": null,
      "metadata": {
        "colab": {
          "base_uri": "https://localhost:8080/"
        },
        "id": "RjaYAt4mKyUR",
        "outputId": "1853e278-74dc-401f-aaa7-2a24ab202465"
      },
      "outputs": [
        {
          "name": "stdout",
          "output_type": "stream",
          "text": [
            "\n",
            "Pidgin test set size: 750\n",
            "Pidgin test distribution:\n",
            "sentiments\n",
            "negative    469\n",
            "neutral     203\n",
            "positive     78\n",
            "Name: count, dtype: int64\n"
          ]
        }
      ],
      "source": [
        "# Sample pidgin test data\n",
        "pidgin_test = pidgin_df.sample(750, random_state=42)  # As specified in experiment design\n",
        "print(f\"\\nPidgin test set size: {len(pidgin_test)}\")\n",
        "print(\"Pidgin test distribution:\")\n",
        "print(pidgin_test['sentiments'].value_counts())"
      ]
    },
    {
      "cell_type": "code",
      "execution_count": null,
      "metadata": {
        "id": "c3VLX6O7KyUR"
      },
      "outputs": [],
      "source": [
        "# ## 3. Initialize Tokenizer\n",
        "\n",
        "# Initialize and enhance BERT tokenizer for better Pidgin handling\n",
        "def enhance_tokenizer_for_pidgin(tokenizer):\n",
        "    \"\"\"Enhance tokenizer with Nigerian Pidgin specific tokens\"\"\"\n",
        "    # Common Pidgin expressions to add as special tokens\n",
        "    pidgin_special_tokens = {\n",
        "        'additional_special_tokens': [\n",
        "            '[ABEG]', '[WETIN]', '[DEY]', '[NA]', '[SHEY]', '[ABI]',\n",
        "            '[WAHALA]', '[SHA]', '[SABI]', '[JAPA]', '[GATS]'\n",
        "        ]\n",
        "    }\n",
        "\n",
        "    # Add special tokens\n",
        "    num_added = tokenizer.add_special_tokens(pidgin_special_tokens)\n",
        "    print(f\"Added {num_added} special tokens to tokenizer\")\n",
        "\n",
        "    return tokenizer"
      ]
    },
    {
      "cell_type": "code",
      "execution_count": null,
      "metadata": {
        "colab": {
          "base_uri": "https://localhost:8080/",
          "height": 304,
          "referenced_widgets": [
            "3c6d000378c1412eaf336a345b429732",
            "0f47a77ca036486e9fb1865729161d2c",
            "bb67f8719c904543927c25b76b2531c6",
            "9fab8c46a8cb4cb4a9b3a6cb48e26033",
            "6866c24dedc74c14ae71ea8a7f9a1b5d",
            "5b6e2f8b80964802be5f8a2a15d55e3c",
            "206d49f442e549949144e87a92b4bbfa",
            "f515cd4d54474ca0b6587fe4f93f5f94",
            "73e65f156e164616b7b2208c4324b367",
            "4fe431c9c1ab454e886dd0faba531e28",
            "4129ba5db016402a85a1fc66bed30394",
            "a1e0eec400ae4f4b8478029bf3624309",
            "0af8032442bb4781a658180a7116dbf8",
            "0af128d6455c4d7db167007299e9aa23",
            "fc47f90e71c642668bcb0811e5fb2e3b",
            "ce09bee678214ddc90b9204e3aa4b89f",
            "e2d778525bae4cf0971dedccff8775d3",
            "0b90e84252734932b58dc61281f98e30",
            "5a5985ccdd9b4355851dd323048c951e",
            "68b30862485248cbb6ebc9ad120aa487",
            "104cd284834349f6945a4c4366431748",
            "fa72a3601aa0410686a9711d09b2159e",
            "b0a11ca63f724f4d99657cb3d46ca4e8",
            "341c17c560354fe89495d5bf1994bb6c",
            "0dcd9483181c4954b887aaef20a6ba80",
            "6190e9b3a77e4fc2bebad021085e072a",
            "d7cf56d722d447d2845874c3a7258fd6",
            "505190e9422541858793abbef6056d7e",
            "782f7aec808642d3b47585e2f0a649be",
            "42adc5bf986940eabbaf8ed43cf4e7d4",
            "8b3b1796dd054f51ac028fc9fc81cdbf",
            "afe786b3b28a4e579ce8e0ec5e6aff55",
            "84fd883e619c4e4eaa250a98cae24cca",
            "007c72024bd74553a836499c4f09ce43",
            "283e102a802946baa4365513ae39b199",
            "ae518ee379f445b4b18820d1b635bb0c",
            "ef8cceab936a48f8a152cbb1e36fc789",
            "00e2a1b4437a4820b63f94d2ad442b6e",
            "315dc32391d1444f9862c4edee1dd456",
            "f09769afe77648f39d8aad0be682b5ee",
            "4b86263189ee4c64a96415219fc4af47",
            "f5a1fc5f8aa8493fba87779e944d3e49",
            "d08cdd6e46f64f5aa10368ab49352193",
            "cd83d3699a1a4c75b0ce0e4318b1abd2"
          ]
        },
        "id": "9FzI35Q4KyUS",
        "outputId": "429b9b4d-7021-4685-eaa4-5466aa80690e"
      },
      "outputs": [
        {
          "name": "stdout",
          "output_type": "stream",
          "text": [
            "Initializing tokenizer...\n"
          ]
        },
        {
          "name": "stderr",
          "output_type": "stream",
          "text": [
            "/usr/local/lib/python3.11/dist-packages/huggingface_hub/utils/_auth.py:94: UserWarning: \n",
            "The secret `HF_TOKEN` does not exist in your Colab secrets.\n",
            "To authenticate with the Hugging Face Hub, create a token in your settings tab (https://huggingface.co/settings/tokens), set it as secret in your Google Colab and restart your session.\n",
            "You will be able to reuse this secret in all of your notebooks.\n",
            "Please note that authentication is recommended but still optional to access public models or datasets.\n",
            "  warnings.warn(\n"
          ]
        },
        {
          "data": {
            "text/plain": [
              "tokenizer_config.json:   0%|          | 0.00/48.0 [00:00<?, ?B/s]"
            ]
          },
          "metadata": {},
          "output_type": "display_data"
        },
        {
          "data": {
            "text/plain": [
              "vocab.txt:   0%|          | 0.00/232k [00:00<?, ?B/s]"
            ]
          },
          "metadata": {},
          "output_type": "display_data"
        },
        {
          "data": {
            "text/plain": [
              "tokenizer.json:   0%|          | 0.00/466k [00:00<?, ?B/s]"
            ]
          },
          "metadata": {},
          "output_type": "display_data"
        },
        {
          "data": {
            "text/plain": [
              "config.json:   0%|          | 0.00/570 [00:00<?, ?B/s]"
            ]
          },
          "metadata": {},
          "output_type": "display_data"
        },
        {
          "name": "stdout",
          "output_type": "stream",
          "text": [
            "Added 11 special tokens to tokenizer\n"
          ]
        }
      ],
      "source": [
        "# Initialize the tokenizer\n",
        "print(\"Initializing tokenizer...\")\n",
        "tokenizer = BertTokenizer.from_pretrained('bert-base-uncased')\n",
        "tokenizer = enhance_tokenizer_for_pidgin(tokenizer)"
      ]
    },
    {
      "cell_type": "code",
      "execution_count": null,
      "metadata": {
        "id": "OHg4lBdwKyUS"
      },
      "outputs": [],
      "source": [
        "# Determine optimal sequence length\n",
        "def analyze_token_lengths(texts, tokenizer, percentile=95):\n",
        "    \"\"\"Analyze token length distribution and determine max length\"\"\"\n",
        "    token_lengths = []\n",
        "    for text in tqdm(texts, desc=\"Analyzing token lengths\"):\n",
        "        if isinstance(text, str) and text.strip():\n",
        "            tokens = tokenizer.tokenize(text)\n",
        "            token_lengths.append(len(tokens))\n",
        "\n",
        "    # Calculate statistics\n",
        "    mean_len = np.mean(token_lengths)\n",
        "    median_len = np.median(token_lengths)\n",
        "    p95 = np.percentile(token_lengths, percentile)\n",
        "    max_len = np.max(token_lengths)\n",
        "\n",
        "    # Round up to nearest multiple of 8 for efficiency\n",
        "    recommended_length = ((int(p95) + 7) // 8) * 8\n",
        "\n",
        "    print(f\"Token length statistics:\")\n",
        "    print(f\"Mean: {mean_len:.1f}\")\n",
        "    print(f\"Median: {median_len:.1f}\")\n",
        "    print(f\"95th percentile: {p95:.1f}\")\n",
        "    print(f\"Max: {max_len}\")\n",
        "    print(f\"Recommended max_length: {recommended_length}\")\n",
        "\n",
        "    return recommended_length, token_lengths"
      ]
    },
    {
      "cell_type": "code",
      "execution_count": null,
      "metadata": {
        "colab": {
          "base_uri": "https://localhost:8080/",
          "height": 359,
          "referenced_widgets": [
            "091b763ca2a0441396189b5299876123",
            "5e4f2ecad58c4b7a812132cf02571f1f",
            "42f66dfbf89e41e1a02a474f90ec3458",
            "dc0dd97b95794b34a2c5d6a6209aa980",
            "8cd794a791364006b12bb422a218c363",
            "82461f3593c747c9a23e52126d0ab20a",
            "6629d9c0b98e43519dc8fbc18d7a78d6",
            "fae0312c27314c38a18597e66a955bda",
            "8afc07ae258d47bba41f2b1e6250e43f",
            "2330df6a3db840be8f61bec81b6ac3c9",
            "fbb7421373574a87971a614f6ca8f7a6",
            "354413c8c4a848379a873ba288a453e0",
            "d074caa6f0dd4d74bbd0e0a2270bc925",
            "23682784fa054ec887c7e10a958c6ebe",
            "c16dad7537424b60a811b4db25d6d042",
            "374e93c1271f488a8bac5a5a7cd3ae84",
            "bf3ecee7a90445408b3872ae65ddbf20",
            "76b9147b191744b8b4a99aeca7113842",
            "54e9c8161fe54e3f92cbe1e85c0bcccb",
            "05b3de98ef434de7bd7e43d3f0be142b",
            "1ea96333f5e34f7585a3f042836d7752",
            "09365bc9833f4a56a4c54d4d37228a54"
          ]
        },
        "id": "z6BXaKpWKyUS",
        "outputId": "25848e75-2598-4021-b678-a8226253ac9d"
      },
      "outputs": [
        {
          "name": "stdout",
          "output_type": "stream",
          "text": [
            "\n",
            "Analyzing English token lengths...\n"
          ]
        },
        {
          "data": {
            "text/plain": [
              "Analyzing token lengths:   0%|          | 0/500 [00:00<?, ?it/s]"
            ]
          },
          "metadata": {},
          "output_type": "display_data"
        },
        {
          "name": "stdout",
          "output_type": "stream",
          "text": [
            "Token length statistics:\n",
            "Mean: 38.4\n",
            "Median: 22.0\n",
            "95th percentile: 126.3\n",
            "Max: 819\n",
            "Recommended max_length: 128\n",
            "\n",
            "Analyzing Pidgin token lengths...\n"
          ]
        },
        {
          "data": {
            "text/plain": [
              "Analyzing token lengths:   0%|          | 0/500 [00:00<?, ?it/s]"
            ]
          },
          "metadata": {},
          "output_type": "display_data"
        },
        {
          "name": "stdout",
          "output_type": "stream",
          "text": [
            "Token length statistics:\n",
            "Mean: 51.1\n",
            "Median: 31.0\n",
            "95th percentile: 161.2\n",
            "Max: 929\n",
            "Recommended max_length: 168\n"
          ]
        }
      ],
      "source": [
        "# Analyze English and Pidgin token lengths\n",
        "print(\"\\nAnalyzing English token lengths...\")\n",
        "english_sample = english_df['cleaned_text'].sample(500, random_state=42).tolist()\n",
        "max_length_english, english_lengths = analyze_token_lengths(english_sample, tokenizer)\n",
        "\n",
        "print(\"\\nAnalyzing Pidgin token lengths...\")\n",
        "pidgin_sample = pidgin_df['cleaned_text'].sample(500, random_state=42).tolist()\n",
        "max_length_pidgin, pidgin_lengths = analyze_token_lengths(pidgin_sample, tokenizer)"
      ]
    },
    {
      "cell_type": "code",
      "execution_count": null,
      "metadata": {
        "id": "1EZCSu8DKyUS"
      },
      "outputs": [],
      "source": [
        "# Use the maximum of both for test data to handle both languages\n",
        "max_length_test = max(max_length_english, max_length_pidgin)"
      ]
    },
    {
      "cell_type": "code",
      "execution_count": null,
      "metadata": {
        "colab": {
          "base_uri": "https://localhost:8080/",
          "height": 442
        },
        "id": "npudwYZHKyUS",
        "outputId": "73f5f086-e1b4-4c94-c95b-498fdb654c02"
      },
      "outputs": [
        {
          "data": {
            "image/png": "[encoded data removed]",
            "text/plain": [
              "<Figure size 1200x600 with 2 Axes>"
            ]
          },
          "metadata": {},
          "output_type": "display_data"
        }
      ],
      "source": [
        "# Visualize token length distributions\n",
        "plt.figure(figsize=(12, 6))\n",
        "plt.subplot(1, 2, 1)\n",
        "sns.histplot(english_lengths, bins=30)\n",
        "plt.axvline(x=max_length_english, color='r', linestyle='--', label=f'Max length ({max_length_english})')\n",
        "plt.title('English Token Length Distribution')\n",
        "plt.xlabel('Number of Tokens')\n",
        "plt.ylabel('Frequency')\n",
        "plt.legend()\n",
        "\n",
        "plt.subplot(1, 2, 2)\n",
        "sns.histplot(pidgin_lengths, bins=30)\n",
        "plt.axvline(x=max_length_pidgin, color='r', linestyle='--', label=f'Max length ({max_length_pidgin})')\n",
        "plt.title('Pidgin Token Length Distribution')\n",
        "plt.xlabel('Number of Tokens')\n",
        "plt.ylabel('Frequency')\n",
        "plt.legend()\n",
        "\n",
        "plt.tight_layout()\n",
        "plt.show()"
      ]
    },
    {
      "cell_type": "code",
      "execution_count": null,
      "metadata": {
        "colab": {
          "base_uri": "https://localhost:8080/"
        },
        "id": "lSLv-OVuKyUT",
        "outputId": "a9e2fcbd-7386-4ca7-e3e3-01661eb6c180"
      },
      "outputs": [
        {
          "name": "stdout",
          "output_type": "stream",
          "text": [
            "Creating PyTorch datasets...\n"
          ]
        }
      ],
      "source": [
        "# ## 4. Create PyTorch Datasets\n",
        "\n",
        "# Prepare datasets\n",
        "print(\"Creating PyTorch datasets...\")\n",
        "\n",
        "# Training dataset\n",
        "train_dataset = SentimentDataset(\n",
        "    english_train['cleaned_text'].tolist(),\n",
        "    english_train['label'].tolist(),\n",
        "    tokenizer,\n",
        "    max_length=max_length_english\n",
        ")\n",
        "\n",
        "# Validation dataset\n",
        "val_dataset = SentimentDataset(\n",
        "    english_val['cleaned_text'].tolist(),\n",
        "    english_val['label'].tolist(),\n",
        "    tokenizer,\n",
        "    max_length=max_length_english\n",
        ")\n",
        "\n",
        "# Test datasets (separate for English and Pidgin for cross-lingual evaluation)\n",
        "english_test_dataset = SentimentDataset(\n",
        "    english_test['cleaned_text'].tolist(),\n",
        "    english_test['label'].tolist(),\n",
        "    tokenizer,\n",
        "    max_length=max_length_test  # Use longer sequence length for test\n",
        ")\n",
        "\n",
        "pidgin_test_dataset = SentimentDataset(\n",
        "    pidgin_test['cleaned_text'].tolist(),\n",
        "    pidgin_test['label'].tolist(),\n",
        "    tokenizer,\n",
        "    max_length=max_length_test  # Use longer sequence length for test\n",
        ")\n"
      ]
    },
    {
      "cell_type": "code",
      "execution_count": null,
      "metadata": {
        "id": "UkaCU83gKyUT"
      },
      "outputs": [],
      "source": [
        "# Combined test dataset\n",
        "combined_test_texts = english_test['cleaned_text'].tolist() + pidgin_test['cleaned_text'].tolist()\n",
        "combined_test_labels = english_test['label'].tolist() + pidgin_test['label'].tolist()\n",
        "\n",
        "combined_test_dataset = SentimentDataset(\n",
        "    combined_test_texts,\n",
        "    combined_test_labels,\n",
        "    tokenizer,\n",
        "    max_length=max_length_test\n",
        ")"
      ]
    },
    {
      "cell_type": "code",
      "execution_count": null,
      "metadata": {
        "colab": {
          "base_uri": "https://localhost:8080/"
        },
        "id": "o9MM_GMOKyUT",
        "outputId": "39b93171-2c39-4ebb-ec42-3385bc8bd39a"
      },
      "outputs": [
        {
          "name": "stdout",
          "output_type": "stream",
          "text": [
            "Train dataset size: 7000\n",
            "Validation dataset size: 1500\n",
            "English test dataset size: 1500\n",
            "Pidgin test dataset size: 750\n",
            "Combined test dataset size: 2250\n",
            "\n",
            "Example batch keys: dict_keys(['input_ids', 'token_type_ids', 'attention_mask', 'labels'])\n",
            "Input IDs shape: torch.Size([2, 128])\n",
            "Attention mask shape: torch.Size([2, 128])\n",
            "Labels: tensor([0, 0])\n"
          ]
        }
      ],
      "source": [
        "print(f\"Train dataset size: {len(train_dataset)}\")\n",
        "print(f\"Validation dataset size: {len(val_dataset)}\")\n",
        "print(f\"English test dataset size: {len(english_test_dataset)}\")\n",
        "print(f\"Pidgin test dataset size: {len(pidgin_test_dataset)}\")\n",
        "print(f\"Combined test dataset size: {len(combined_test_dataset)}\")\n",
        "\n",
        "# Check example batch\n",
        "train_batch = next(iter(DataLoader(train_dataset, batch_size=2)))\n",
        "print(\"\\nExample batch keys:\", train_batch.keys())\n",
        "print(f\"Input IDs shape: {train_batch['input_ids'].shape}\")\n",
        "print(f\"Attention mask shape: {train_batch['attention_mask'].shape}\")\n",
        "print(f\"Labels: {train_batch['labels']}\")\n"
      ]
    },
    {
      "cell_type": "code",
      "execution_count": null,
      "metadata": {
        "id": "kE0XCht5Q0Ux"
      },
      "outputs": [],
      "source": [
        "import os\n",
        "os.environ[\"WANDB_DISABLED\"] = \"true\"\n"
      ]
    },
    {
      "cell_type": "code",
      "execution_count": null,
      "metadata": {
        "colab": {
          "base_uri": "https://localhost:8080/",
          "height": 173,
          "referenced_widgets": [
            "c9c8f517f255438eaa320b1d3c827726",
            "d9b83bc5d7ea423eb02f5f6c4c007590",
            "e9be428844504ffba5f5fd8bf0783628",
            "fe0c36eb7983410a9dce4184e9636245",
            "d279ca849efe4c789904d0d691d2c33d",
            "36239e7dd3f941d4b439771fd59181ef",
            "5337c2e712e7475ea296f1efab42886a",
            "daa8c51813b347188bc2c674b856671c",
            "2963cbc15e564271991aeaa7933f4e84",
            "621e7babd0c34928bd7240d909c2d030",
            "9c06a4d28433480297b6b97e6168bd36"
          ]
        },
        "id": "45C4iS1BKyUT",
        "outputId": "9ae0228f-a0a3-4e4b-be14-b04def6873bb"
      },
      "outputs": [
        {
          "name": "stdout",
          "output_type": "stream",
          "text": [
            "\n",
            "Initializing model...\n"
          ]
        },
        {
          "name": "stderr",
          "output_type": "stream",
          "text": [
            "Xet Storage is enabled for this repo, but the 'hf_xet' package is not installed. Falling back to regular HTTP download. For better performance, install the package with: `pip install huggingface_hub[hf_xet]` or `pip install hf_xet`\n",
            "WARNING:huggingface_hub.file_download:Xet Storage is enabled for this repo, but the 'hf_xet' package is not installed. Falling back to regular HTTP download. For better performance, install the package with: `pip install huggingface_hub[hf_xet]` or `pip install hf_xet`\n"
          ]
        },
        {
          "data": {
            "text/plain": [
              "model.safetensors:   0%|          | 0.00/440M [00:00<?, ?B/s]"
            ]
          },
          "metadata": {},
          "output_type": "display_data"
        },
        {
          "name": "stderr",
          "output_type": "stream",
          "text": [
            "Some weights of BertForSequenceClassification were not initialized from the model checkpoint at bert-base-uncased and are newly initialized: ['classifier.bias', 'classifier.weight']\n",
            "You should probably TRAIN this model on a down-stream task to be able to use it for predictions and inference.\n"
          ]
        }
      ],
      "source": [
        "# ## 5. Model Setup and Training\n",
        "\n",
        "# Define metrics function\n",
        "def compute_metrics(pred):\n",
        "    \"\"\"Compute metrics for evaluation\"\"\"\n",
        "    labels = pred.label_ids\n",
        "    preds = pred.predictions.argmax(-1)\n",
        "    precision, recall, f1, _ = precision_recall_fscore_support(labels, preds, average='weighted')\n",
        "    acc = accuracy_score(labels, preds)\n",
        "    return {\n",
        "        'accuracy': acc,\n",
        "        'f1': f1,\n",
        "        'precision': precision,\n",
        "        'recall': recall\n",
        "    }\n",
        "\n",
        "# Initialize model\n",
        "print(\"\\nInitializing model...\")\n",
        "model = BertForSequenceClassification.from_pretrained(\n",
        "    'bert-base-uncased',\n",
        "    num_labels=3,  # positive, negative, neutral\n",
        ")\n"
      ]
    },
    {
      "cell_type": "code",
      "execution_count": null,
      "metadata": {
        "colab": {
          "base_uri": "https://localhost:8080/"
        },
        "id": "jPmwS1n-KyUT",
        "outputId": "ba643995-98bb-4962-bed9-badcbb21ae82"
      },
      "outputs": [
        {
          "name": "stderr",
          "output_type": "stream",
          "text": [
            "The new embeddings will be initialized from a multivariate normal distribution that has old embeddings' mean and covariance. As described in this article: https://nlp.stanford.edu/~johnhew/vocab-expansion.html. To disable this, use `mean_resizing=False`\n"
          ]
        },
        {
          "data": {
            "text/plain": [
              "Embedding(30533, 768, padding_idx=0)"
            ]
          },
          "execution_count": 31,
          "metadata": {},
          "output_type": "execute_result"
        }
      ],
      "source": [
        "# Resize token embeddings to account for new tokens\n",
        "model.resize_token_embeddings(len(tokenizer))"
      ]
    },
    {
      "cell_type": "code",
      "execution_count": null,
      "metadata": {
        "colab": {
          "base_uri": "https://localhost:8080/"
        },
        "id": "fJcV0spdKyUT",
        "outputId": "c10b2fac-017a-4bc5-8439-e8a86b61b484"
      },
      "outputs": [
        {
          "name": "stderr",
          "output_type": "stream",
          "text": [
            "/usr/local/lib/python3.11/dist-packages/transformers/training_args.py:1611: FutureWarning: `evaluation_strategy` is deprecated and will be removed in version 4.46 of \ud83e\udd17 Transformers. Use `eval_strategy` instead\n",
            "  warnings.warn(\n",
            "Using the `WANDB_DISABLED` environment variable is deprecated and will be removed in v5. Use the --report_to flag to control the integrations used for logging result (for instance --report_to none).\n"
          ]
        },
        {
          "name": "stdout",
          "output_type": "stream",
          "text": [
            "\n",
            "Setting up training arguments...\n"
          ]
        }
      ],
      "source": [
        "# Training arguments\n",
        "print(\"\\nSetting up training arguments...\")\n",
        "training_args = TrainingArguments(\n",
        "    output_dir=\"./results/exp1\",\n",
        "    num_train_epochs=5,\n",
        "    per_device_train_batch_size=16,  # Adjust based on GPU memory\n",
        "    per_device_eval_batch_size=64,\n",
        "    warmup_steps=500,\n",
        "    weight_decay=0.01,\n",
        "    logging_dir=\"./logs/exp1\",\n",
        "    logging_steps=100,\n",
        "    evaluation_strategy=\"epoch\",\n",
        "    save_strategy=\"epoch\",\n",
        "    load_best_model_at_end=True,\n",
        "    metric_for_best_model=\"f1\",\n",
        "    push_to_hub=False,\n",
        ")\n",
        "\n",
        "# Initialize Trainer with early stopping\n",
        "trainer = Trainer(\n",
        "    model=model,\n",
        "    args=training_args,\n",
        "    train_dataset=train_dataset,\n",
        "    eval_dataset=val_dataset,\n",
        "    compute_metrics=compute_metrics,\n",
        "    callbacks=[EarlyStoppingCallback(early_stopping_patience=2)]\n",
        ")\n"
      ]
    },
    {
      "cell_type": "code",
      "execution_count": null,
      "metadata": {
        "colab": {
          "base_uri": "https://localhost:8080/",
          "height": 443
        },
        "id": "wEN1e_zQKyUT",
        "outputId": "70ae16c5-becd-460b-9a06-60cfa7929009"
      },
      "outputs": [
        {
          "name": "stdout",
          "output_type": "stream",
          "text": [
            "\n",
            "Training the model...\n"
          ]
        },
        {
          "data": {
            "text/html": [
              "\n",
              "    <div>\n",
              "      \n",
              "      <progress value='2190' max='2190' style='width:300px; height:20px; vertical-align: middle;'></progress>\n",
              "      [2190/2190 14:09, Epoch 5/5]\n",
              "    </div>\n",
              "    <table border=\"1\" class=\"dataframe\">\n",
              "  <thead>\n",
              " <tr style=\"text-align: left;\">\n",
              "      <th>Epoch</th>\n",
              "      <th>Training Loss</th>\n",
              "      <th>Validation Loss</th>\n",
              "      <th>Accuracy</th>\n",
              "      <th>F1</th>\n",
              "      <th>Precision</th>\n",
              "      <th>Recall</th>\n",
              "    </tr>\n",
              "  </thead>\n",
              "  <tbody>\n",
              "    <tr>\n",
              "      <td>1</td>\n",
              "      <td>0.228100</td>\n",
              "      <td>0.235547</td>\n",
              "      <td>0.934000</td>\n",
              "      <td>0.930769</td>\n",
              "      <td>0.932287</td>\n",
              "      <td>0.934000</td>\n",
              "    </tr>\n",
              "    <tr>\n",
              "      <td>2</td>\n",
              "      <td>0.166100</td>\n",
              "      <td>0.198500</td>\n",
              "      <td>0.946667</td>\n",
              "      <td>0.946087</td>\n",
              "      <td>0.945733</td>\n",
              "      <td>0.946667</td>\n",
              "    </tr>\n",
              "    <tr>\n",
              "      <td>3</td>\n",
              "      <td>0.067100</td>\n",
              "      <td>0.243461</td>\n",
              "      <td>0.946000</td>\n",
              "      <td>0.943718</td>\n",
              "      <td>0.944141</td>\n",
              "      <td>0.946000</td>\n",
              "    </tr>\n",
              "    <tr>\n",
              "      <td>4</td>\n",
              "      <td>0.037200</td>\n",
              "      <td>0.244130</td>\n",
              "      <td>0.952000</td>\n",
              "      <td>0.951661</td>\n",
              "      <td>0.951552</td>\n",
              "      <td>0.952000</td>\n",
              "    </tr>\n",
              "    <tr>\n",
              "      <td>5</td>\n",
              "      <td>0.018800</td>\n",
              "      <td>0.259495</td>\n",
              "      <td>0.953333</td>\n",
              "      <td>0.953241</td>\n",
              "      <td>0.953168</td>\n",
              "      <td>0.953333</td>\n",
              "    </tr>\n",
              "  </tbody>\n",
              "</table><p>"
            ],
            "text/plain": [
              "<IPython.core.display.HTML object>"
            ]
          },
          "metadata": {},
          "output_type": "display_data"
        },
        {
          "name": "stderr",
          "output_type": "stream",
          "text": [
            "/usr/local/lib/python3.11/dist-packages/sklearn/metrics/_classification.py:1565: UndefinedMetricWarning: Precision is ill-defined and being set to 0.0 in labels with no predicted samples. Use `zero_division` parameter to control this behavior.\n",
            "  _warn_prf(average, modifier, f\"{metric.capitalize()} is\", len(result))\n",
            "/usr/local/lib/python3.11/dist-packages/sklearn/metrics/_classification.py:1565: UndefinedMetricWarning: Precision is ill-defined and being set to 0.0 in labels with no predicted samples. Use `zero_division` parameter to control this behavior.\n",
            "  _warn_prf(average, modifier, f\"{metric.capitalize()} is\", len(result))\n",
            "/usr/local/lib/python3.11/dist-packages/sklearn/metrics/_classification.py:1565: UndefinedMetricWarning: Precision is ill-defined and being set to 0.0 in labels with no predicted samples. Use `zero_division` parameter to control this behavior.\n",
            "  _warn_prf(average, modifier, f\"{metric.capitalize()} is\", len(result))\n"
          ]
        },
        {
          "data": {
            "text/plain": [
              "TrainOutput(global_step=2190, training_loss=0.13035552000890585, metrics={'train_runtime': 851.2647, 'train_samples_per_second': 41.115, 'train_steps_per_second': 2.573, 'total_flos': 2302242405120000.0, 'train_loss': 0.13035552000890585, 'epoch': 5.0})"
            ]
          },
          "execution_count": 33,
          "metadata": {},
          "output_type": "execute_result"
        }
      ],
      "source": [
        "# ## 6. Train Model\n",
        "\n",
        "# Train the model\n",
        "print(\"\\nTraining the model...\")\n",
        "trainer.train()"
      ]
    },
    {
      "cell_type": "code",
      "execution_count": null,
      "metadata": {
        "colab": {
          "base_uri": "https://localhost:8080/"
        },
        "id": "BIb-H_SVKyUU",
        "outputId": "53f711a9-7a21-4a1b-beaf-24e7d0b38708"
      },
      "outputs": [
        {
          "name": "stdout",
          "output_type": "stream",
          "text": [
            "\n",
            "Saving the best model...\n"
          ]
        },
        {
          "data": {
            "text/plain": [
              "('./results/exp1/tokenizer/tokenizer_config.json',\n",
              " './results/exp1/tokenizer/special_tokens_map.json',\n",
              " './results/exp1/tokenizer/vocab.txt',\n",
              " './results/exp1/tokenizer/added_tokens.json')"
            ]
          },
          "execution_count": 34,
          "metadata": {},
          "output_type": "execute_result"
        }
      ],
      "source": [
        "# Save the final model\n",
        "print(\"\\nSaving the best model...\")\n",
        "trainer.save_model(\"./results/exp1/best_model\")\n",
        "tokenizer.save_pretrained(\"./results/exp1/tokenizer\")\n"
      ]
    },
    {
      "cell_type": "code",
      "execution_count": null,
      "metadata": {
        "colab": {
          "base_uri": "https://localhost:8080/"
        },
        "id": "EiGpexqRVkHv",
        "outputId": "f0d39103-01a6-4062-d4c0-f347d14de8f1"
      },
      "outputs": [
        {
          "name": "stdout",
          "output_type": "stream",
          "text": [
            "  adding: content/results/exp1/ (stored 0%)\n",
            "  adding: content/results/exp1/checkpoint-438/ (stored 0%)\n",
            "  adding: content/results/exp1/checkpoint-438/training_args.bin (deflated 52%)\n",
            "  adding: content/results/exp1/checkpoint-438/trainer_state.json (deflated 64%)\n",
            "  adding: content/results/exp1/checkpoint-438/rng_state.pth (deflated 25%)\n",
            "  adding: content/results/exp1/checkpoint-438/scheduler.pt (deflated 55%)\n",
            "  adding: content/results/exp1/checkpoint-438/optimizer.pt (deflated 22%)\n",
            "  adding: content/results/exp1/checkpoint-438/config.json (deflated 51%)\n",
            "  adding: content/results/exp1/checkpoint-438/model.safetensors (deflated 7%)\n",
            "  adding: content/results/exp1/checkpoint-1752/ (stored 0%)\n",
            "  adding: content/results/exp1/checkpoint-1752/training_args.bin (deflated 52%)\n",
            "  adding: content/results/exp1/checkpoint-1752/trainer_state.json (deflated 73%)\n",
            "  adding: content/results/exp1/checkpoint-1752/rng_state.pth (deflated 25%)\n",
            "  adding: content/results/exp1/checkpoint-1752/scheduler.pt (deflated 55%)\n",
            "  adding: content/results/exp1/checkpoint-1752/optimizer.pt (deflated 22%)\n",
            "  adding: content/results/exp1/checkpoint-1752/config.json (deflated 51%)\n",
            "  adding: content/results/exp1/checkpoint-1752/model.safetensors (deflated 7%)\n",
            "  adding: content/results/exp1/tokenizer/ (stored 0%)\n",
            "  adding: content/results/exp1/tokenizer/special_tokens_map.json (deflated 87%)\n",
            "  adding: content/results/exp1/tokenizer/added_tokens.json (deflated 53%)\n",
            "  adding: content/results/exp1/tokenizer/tokenizer_config.json (deflated 86%)\n",
            "  adding: content/results/exp1/tokenizer/vocab.txt (deflated 53%)\n",
            "  adding: content/results/exp1/checkpoint-1314/ (stored 0%)\n",
            "  adding: content/results/exp1/checkpoint-1314/training_args.bin (deflated 52%)\n",
            "  adding: content/results/exp1/checkpoint-1314/trainer_state.json (deflated 71%)\n",
            "  adding: content/results/exp1/checkpoint-1314/rng_state.pth (deflated 25%)\n",
            "  adding: content/results/exp1/checkpoint-1314/scheduler.pt (deflated 55%)\n",
            "  adding: content/results/exp1/checkpoint-1314/optimizer.pt (deflated 22%)\n",
            "  adding: content/results/exp1/checkpoint-1314/config.json (deflated 51%)\n",
            "  adding: content/results/exp1/checkpoint-1314/model.safetensors (deflated 7%)\n",
            "  adding: content/results/exp1/checkpoint-876/ (stored 0%)\n",
            "  adding: content/results/exp1/checkpoint-876/training_args.bin (deflated 52%)\n",
            "  adding: content/results/exp1/checkpoint-876/trainer_state.json (deflated 69%)\n",
            "  adding: content/results/exp1/checkpoint-876/rng_state.pth (deflated 25%)\n",
            "  adding: content/results/exp1/checkpoint-876/scheduler.pt (deflated 56%)\n",
            "  adding: content/results/exp1/checkpoint-876/optimizer.pt (deflated 22%)\n",
            "  adding: content/results/exp1/checkpoint-876/config.json (deflated 51%)\n",
            "  adding: content/results/exp1/checkpoint-876/model.safetensors (deflated 7%)\n",
            "  adding: content/results/exp1/best_model/ (stored 0%)\n",
            "  adding: content/results/exp1/best_model/training_args.bin (deflated 52%)\n",
            "  adding: content/results/exp1/best_model/config.json (deflated 51%)\n",
            "  adding: content/results/exp1/best_model/model.safetensors (deflated 7%)\n"
          ]
        }
      ],
      "source": [
        "!zip -r /content/exp1_model.zip /content/results/exp1\n"
      ]
    },
    {
      "cell_type": "code",
      "execution_count": null,
      "metadata": {
        "colab": {
          "base_uri": "https://localhost:8080/",
          "height": 265
        },
        "id": "PFsflyd0KyUU",
        "outputId": "c6ab1bf5-46b2-4f9e-f924-78a294c1882c"
      },
      "outputs": [
        {
          "name": "stdout",
          "output_type": "stream",
          "text": [
            "\n",
            "Evaluating on validation set...\n"
          ]
        },
        {
          "data": {
            "text/html": [
              "\n",
              "    <div>\n",
              "      \n",
              "      <progress value='96' max='24' style='width:300px; height:20px; vertical-align: middle;'></progress>\n",
              "      [24/24 00:57]\n",
              "    </div>\n",
              "    "
            ],
            "text/plain": [
              "<IPython.core.display.HTML object>"
            ]
          },
          "metadata": {},
          "output_type": "display_data"
        },
        {
          "name": "stdout",
          "output_type": "stream",
          "text": [
            "Validation results: {'eval_loss': 0.2594946026802063, 'eval_accuracy': 0.9533333333333334, 'eval_f1': 0.9532412842190017, 'eval_precision': 0.953167737013102, 'eval_recall': 0.9533333333333334, 'eval_runtime': 11.6185, 'eval_samples_per_second': 129.104, 'eval_steps_per_second': 2.066, 'epoch': 5.0}\n",
            "\n",
            "Evaluating on English test set...\n",
            "English test results: {'eval_loss': 0.20535697042942047, 'eval_accuracy': 0.9693333333333334, 'eval_f1': 0.9686529643437483, 'eval_precision': 0.9679807488882985, 'eval_recall': 0.9693333333333334, 'eval_runtime': 16.252, 'eval_samples_per_second': 92.296, 'eval_steps_per_second': 1.477, 'epoch': 5.0}\n",
            "\n",
            "Evaluating on Pidgin test set (cross-lingual performance)...\n",
            "Pidgin test results: {'eval_loss': 2.6151723861694336, 'eval_accuracy': 0.5493333333333333, 'eval_f1': 0.5388800041566, 'eval_precision': 0.653384894398139, 'eval_recall': 0.5493333333333333, 'eval_runtime': 7.9355, 'eval_samples_per_second': 94.512, 'eval_steps_per_second': 1.512, 'epoch': 5.0}\n",
            "\n",
            "Evaluating on combined test set...\n",
            "Combined test results: {'eval_loss': 1.0086287260055542, 'eval_accuracy': 0.8293333333333334, 'eval_f1': 0.8014599595747602, 'eval_precision': 0.8117388716699909, 'eval_recall': 0.8293333333333334, 'eval_runtime': 22.6169, 'eval_samples_per_second': 99.483, 'eval_steps_per_second': 1.592, 'epoch': 5.0}\n"
          ]
        }
      ],
      "source": [
        "# ## 7. Evaluation\n",
        "\n",
        "# Evaluate on validation set\n",
        "print(\"\\nEvaluating on validation set...\")\n",
        "val_results = trainer.evaluate(val_dataset)\n",
        "print(f\"Validation results: {val_results}\")\n",
        "\n",
        "# Evaluate on English test set\n",
        "print(\"\\nEvaluating on English test set...\")\n",
        "english_test_results = trainer.evaluate(english_test_dataset)\n",
        "print(f\"English test results: {english_test_results}\")\n",
        "\n",
        "# Evaluate on Pidgin test set\n",
        "print(\"\\nEvaluating on Pidgin test set (cross-lingual performance)...\")\n",
        "pidgin_test_results = trainer.evaluate(pidgin_test_dataset)\n",
        "print(f\"Pidgin test results: {pidgin_test_results}\")\n",
        "\n",
        "# Evaluate on combined test set\n",
        "print(\"\\nEvaluating on combined test set...\")\n",
        "combined_test_results = trainer.evaluate(combined_test_dataset)\n",
        "print(f\"Combined test results: {combined_test_results}\")"
      ]
    },
    {
      "cell_type": "code",
      "execution_count": null,
      "metadata": {
        "id": "wXnShA3xKyUU"
      },
      "outputs": [],
      "source": [
        "# ## 8. Detailed Performance Analysis\n",
        "\n",
        "# Get predictions for the test sets\n",
        "def get_predictions(model, dataset, device):\n",
        "    \"\"\"Get model predictions for a dataset\"\"\"\n",
        "    dataloader = DataLoader(dataset, batch_size=16)\n",
        "    model.eval()\n",
        "    model.to(device)\n",
        "\n",
        "    all_preds = []\n",
        "    all_labels = []\n",
        "\n",
        "    with torch.no_grad():\n",
        "        for batch in tqdm(dataloader, desc=\"Getting predictions\"):\n",
        "            # Move batch to device\n",
        "            batch = {k: v.to(device) for k, v in batch.items()}\n",
        "            outputs = model(**{k: v for k, v in batch.items() if k != 'labels'})\n",
        "\n",
        "            logits = outputs.logits\n",
        "            predictions = torch.argmax(logits, dim=-1)\n",
        "\n",
        "            all_preds.extend(predictions.cpu().numpy())\n",
        "            all_labels.extend(batch['labels'].cpu().numpy())\n",
        "\n",
        "    return np.array(all_preds), np.array(all_labels)"
      ]
    },
    {
      "cell_type": "code",
      "execution_count": null,
      "metadata": {
        "colab": {
          "base_uri": "https://localhost:8080/",
          "height": 81,
          "referenced_widgets": [
            "9d6e0a613a714292b379c90c14fc3951",
            "91afd4df3b9e4e9a9a4a1083b2b6bf6e",
            "2474efcd81aa4217be8a044d4cc2a65f",
            "0b83a5e653ff4fa09738594f9d291899",
            "5273a84c53d24d839cc3b95847c8103a",
            "329e60de57004d28870693739e6c748d",
            "0a92f731896a4f1599277bd24a5cd6b5",
            "56b52dc78f9b48d7bf60882025183ddf",
            "69b6f31bc9d54a74b88453cf628c119d",
            "6d1dc96d407245399ed285a82c8e5a59",
            "1073e8029b0e417486bdc38fc20fb1b4",
            "f875d2821ae8464bb1bb7cff4158bb2a",
            "c0ac6063572444a1bd7457599f4c2f00",
            "2a8176b1ac3e49bd800144d270e0bd91",
            "4de22ea18ef24c538969184af1d49331",
            "688fae637d344b1f9441c8d4b61a1165",
            "bc27a2d0493b454ba45af899a6515bc9",
            "beb62248a60b498ca440c4a9a890d8cc",
            "83a638a3a3964c7f884bef6f42dfcc65",
            "78968dd681124fdf8b8967c193d62b22",
            "1e215ff5d5da425483b33be38deb8e53",
            "88a3a445735440f095506552842a82a6"
          ]
        },
        "id": "jMLRBjqkKyUU",
        "outputId": "cacd262e-6944-4f93-a53c-dc51d84f9f6c"
      },
      "outputs": [
        {
          "data": {
            "text/plain": [
              "Getting predictions:   0%|          | 0/94 [00:00<?, ?it/s]"
            ]
          },
          "metadata": {},
          "output_type": "display_data"
        },
        {
          "data": {
            "text/plain": [
              "Getting predictions:   0%|          | 0/47 [00:00<?, ?it/s]"
            ]
          },
          "metadata": {},
          "output_type": "display_data"
        }
      ],
      "source": [
        "# Get predictions\n",
        "english_preds, english_labels = get_predictions(model, english_test_dataset, device)\n",
        "pidgin_preds, pidgin_labels = get_predictions(model, pidgin_test_dataset, device)"
      ]
    },
    {
      "cell_type": "code",
      "execution_count": null,
      "metadata": {
        "id": "9Qu6PXGSKyUU"
      },
      "outputs": [],
      "source": [
        "# Detailed metrics\n",
        "def print_detailed_metrics(preds, labels, dataset_name):\n",
        "    \"\"\"Print detailed metrics for a dataset\"\"\"\n",
        "    acc = accuracy_score(labels, preds)\n",
        "    precision, recall, f1, _ = precision_recall_fscore_support(labels, preds, average='weighted')\n",
        "\n",
        "    print(f\"\\n{dataset_name} Detailed Metrics:\")\n",
        "    print(f\"Accuracy: {acc:.4f}\")\n",
        "    print(f\"F1 Score (weighted): {f1:.4f}\")\n",
        "    print(f\"Precision (weighted): {precision:.4f}\")\n",
        "    print(f\"Recall (weighted): {recall:.4f}\")\n",
        "\n",
        "    # Classification report\n",
        "    label_names = ['positive', 'negative', 'neutral']\n",
        "    print(\"\\nClassification Report:\")\n",
        "    print(classification_report(labels, preds, target_names=label_names))\n",
        "\n",
        "    # Confusion matrix\n",
        "    cm = confusion_matrix(labels, preds)\n",
        "    plt.figure(figsize=(8, 6))\n",
        "    sns.heatmap(cm, annot=True, fmt='d', cmap='Blues', xticklabels=label_names, yticklabels=label_names)\n",
        "    plt.title(f'{dataset_name} Confusion Matrix')\n",
        "    plt.ylabel('True Label')\n",
        "    plt.xlabel('Predicted Label')\n",
        "    plt.show()"
      ]
    },
    {
      "cell_type": "code",
      "execution_count": null,
      "metadata": {
        "colab": {
          "base_uri": "https://localhost:8080/",
          "height": 1000
        },
        "id": "AyJJMoqPKyUU",
        "outputId": "55b705d7-7b2a-43fc-c3c4-76b2b9f0ed6d"
      },
      "outputs": [
        {
          "name": "stdout",
          "output_type": "stream",
          "text": [
            "\n",
            "English Test Detailed Metrics:\n",
            "Accuracy: 0.9693\n",
            "F1 Score (weighted): 0.9687\n",
            "Precision (weighted): 0.9680\n",
            "Recall (weighted): 0.9693\n",
            "\n",
            "Classification Report:\n",
            "              precision    recall  f1-score   support\n",
            "\n",
            "    positive       0.98      0.98      0.98      1149\n",
            "    negative       0.94      0.94      0.94       348\n",
            "     neutral       0.00      0.00      0.00         3\n",
            "\n",
            "    accuracy                           0.97      1500\n",
            "   macro avg       0.64      0.64      0.64      1500\n",
            "weighted avg       0.97      0.97      0.97      1500\n",
            "\n"
          ]
        },
        {
          "data": {
            "image/png": "[encoded data removed]",
            "text/plain": [
              "<Figure size 800x600 with 2 Axes>"
            ]
          },
          "metadata": {},
          "output_type": "display_data"
        },
        {
          "name": "stdout",
          "output_type": "stream",
          "text": [
            "\n",
            "Pidgin Test (Cross-lingual) Detailed Metrics:\n",
            "Accuracy: 0.5493\n",
            "F1 Score (weighted): 0.5389\n",
            "Precision (weighted): 0.6534\n",
            "Recall (weighted): 0.5493\n",
            "\n",
            "Classification Report:\n",
            "              precision    recall  f1-score   support\n",
            "\n",
            "    positive       0.18      0.56      0.27        78\n",
            "    negative       0.75      0.74      0.74       469\n",
            "     neutral       0.62      0.10      0.17       203\n",
            "\n",
            "    accuracy                           0.55       750\n",
            "   macro avg       0.52      0.47      0.39       750\n",
            "weighted avg       0.65      0.55      0.54       750\n",
            "\n"
          ]
        },
        {
          "data": {
            "image/png": "[encoded data removed]",
            "text/plain": [
              "<Figure size 800x600 with 2 Axes>"
            ]
          },
          "metadata": {},
          "output_type": "display_data"
        }
      ],
      "source": [
        "# Print detailed metrics\n",
        "print_detailed_metrics(english_preds, english_labels, \"English Test\")\n",
        "print_detailed_metrics(pidgin_preds, pidgin_labels, \"Pidgin Test (Cross-lingual)\")\n"
      ]
    },
    {
      "cell_type": "code",
      "execution_count": null,
      "metadata": {
        "id": "RATvWqNbKyUV"
      },
      "outputs": [],
      "source": [
        "# ## 9. Analyze Error Cases\n",
        "\n",
        "# Function to analyze error cases\n",
        "def analyze_errors(texts, preds, labels, dataset_name, max_examples=10):\n",
        "    \"\"\"Analyze and display error cases\"\"\"\n",
        "    errors = []\n",
        "    for i in range(len(texts)):\n",
        "        if preds[i] != labels[i]:\n",
        "            errors.append({\n",
        "                'text': texts[i],\n",
        "                'true_label': labels[i],\n",
        "                'pred_label': preds[i]\n",
        "            })\n",
        "\n",
        "    print(f\"\\n{dataset_name} Error Analysis ({len(errors)} errors out of {len(texts)} samples):\")\n",
        "    print(f\"Error rate: {len(errors)/len(texts):.2%}\")\n",
        "\n",
        "    # Group errors by type\n",
        "    error_types = {}\n",
        "    for error in errors:\n",
        "        key = f\"{error['true_label']} -> {error['pred_label']}\"\n",
        "        if key not in error_types:\n",
        "            error_types[key] = []\n",
        "        error_types[key].append(error)\n",
        "\n",
        "    # Print error distribution\n",
        "    print(\"\\nError distribution:\")\n",
        "    for error_type, examples in error_types.items():\n",
        "        true_label, pred_label = error_type.split(' -> ')\n",
        "        label_map_inv = {0: 'positive', 1: 'negative', 2: 'neutral'}\n",
        "        true_name = label_map_inv[int(true_label)]\n",
        "        pred_name = label_map_inv[int(pred_label)]\n",
        "        print(f\"  {true_name} predicted as {pred_name}: {len(examples)} cases ({len(examples)/len(errors):.2%} of errors)\")\n",
        "\n",
        "    # Show examples of each error type\n",
        "    print(\"\\nExample errors by type:\")\n",
        "    for error_type, examples in error_types.items():\n",
        "        true_label, pred_label = error_type.split(' -> ')\n",
        "        label_map_inv = {0: 'positive', 1: 'negative', 2: 'neutral'}\n",
        "        true_name = label_map_inv[int(true_label)]\n",
        "        pred_name = label_map_inv[int(pred_label)]\n",
        "\n",
        "        print(f\"\\n{true_name} predicted as {pred_name}:\")\n",
        "        for i, error in enumerate(examples[:max_examples]):\n",
        "            print(f\"  Example {i+1}: {error['text']}\")"
      ]
    },
    {
      "cell_type": "code",
      "execution_count": null,
      "metadata": {
        "colab": {
          "base_uri": "https://localhost:8080/"
        },
        "id": "dZRgaCuoKyUe",
        "outputId": "9fc44346-afee-44d7-dd9f-9bf547e63c30"
      },
      "outputs": [
        {
          "name": "stdout",
          "output_type": "stream",
          "text": [
            "\n",
            "English Test Error Analysis (46 errors out of 1500 samples):\n",
            "Error rate: 3.07%\n",
            "\n",
            "Error distribution:\n",
            "  negative predicted as positive: 22 cases (47.83% of errors)\n",
            "  positive predicted as negative: 20 cases (43.48% of errors)\n",
            "  neutral predicted as positive: 3 cases (6.52% of errors)\n",
            "  positive predicted as neutral: 1 cases (2.17% of errors)\n",
            "\n",
            "Example errors by type:\n",
            "\n",
            "negative predicted as positive:\n",
            "  Example 1: this is my go to coffee i love the flavor the price is reasonable for how many k cups you get definitely recommend it\n",
            "  Example 2: very good ristretto but you only get a fraction out of your investment the way the capsules are designed the problem they do not allow to release the pressure at the right moment coffee comes out of the top and spills all over your dolce gusto coffee makers i have three different coffee makers and they don t work with any of them all original nes caf capsules work it s no problem be careful buying other than original\n",
            "  Example 3: sorry to say this tea doe not work for me i'm used to drinking organic india tulsi tea but when i switched to this brand to save money it has given me severe arrhythmia pressure headache anxiety and high bp and hr even diluting it 90 it still causes me severe symptoms i have been able to tolerate 10 mg caffeine in green coffee bean extract so this really mystifies me as to why i am getting such a severe reaction to this tea have to send it back\n",
            "  Example 4: it was too runny for 18 year old balsamic i used it for my salads along with olive oil\n",
            "  Example 5: this was like for cup cakes\n",
            "  Example 6: well i bought this for my job and then they laid me off they refused to take requests but the sample i had was so good i wanted more the french roast and italian roast the company had tons of was giving me a headache and this helped had no idea i was gonna be canned the following week\n",
            "  Example 7: the taste is the most important thing to me wanted old fashioned christmas candy\n",
            "  Example 8: i don't care what anyone says but you can most definitely taste the difference between this and sugar this is vile sugar doesn't really have all that many calories per spoonful so i'll stick with that just like every other substitute i've tried this will find it's way to the trash\n",
            "  Example 9: i bought turbinado sugar 1 timel it was powdered and dissolved instantly with great flavor best coffeee i ever made i expected that this was sugar in the raw 2 different types\n",
            "  Example 10: do like the flavor of the now discontinued formula that is still pictured in the product description an accurate depiction would be of great help when deciding whether or not to purchase\n",
            "\n",
            "positive predicted as negative:\n",
            "  Example 1: hershey kisses never fail to make me happy this batch was a good value out of the seven orders i've placed this was the first to be discolored they taste fine and i understand the whiteish film on each piece is harmless i was just surprised i think my orders have been with several suppliers\n",
            "  Example 2: hello the peppermint bark was very good however the peppermint was very scarce and that was not a good thing the peppermint candy cane is precisely why i ordered this candy on the box it showed the bark being loaded with peppermint but in actuality it did not appear the way is was on the box some people may may prefer this small amount and not be alarmed by this and some may not to each its own overall the bark was good could be better with more peppermint thanks\n",
            "  Example 3: the flavor was really good but i would not buy it again due to the price i thought there was more than 1 box in the package\n",
            "  Example 4: it had all the beans and spices that they always had it is just way over priced in my opinion\n",
            "  Example 5: there wasn t really any flavor i was able to color it by using food dye a vegan way to use the gelatin\n",
            "  Example 6: once with eight o'clock can't drink anything else\n",
            "  Example 7: nothing better than coconut oil for popcorn\n",
            "  Example 8: arrived earlier than scheduled and frosty cold in a dry ice cooler thanks for feeding my snickers addiction\n",
            "  Example 9: bes t ever\n",
            "  Example 10: better buy more than one add some rotisserie chicken and don't plan on any leftovers\n",
            "\n",
            "neutral predicted as positive:\n",
            "  Example 1: 67 for my books no complaints 67 more than i had plus i m on book voucher\n",
            "  Example 2: anyone have some advice i need it\n",
            "  Example 3: me hice una maruchan\n",
            "\n",
            "positive predicted as neutral:\n",
            "  Example 1: ive always liked ranch dressing and blue cheese dressing and the flavor for both are magnificent\n"
          ]
        }
      ],
      "source": [
        "# Analyze English errors\n",
        "analyze_errors(\n",
        "    english_test['cleaned_text'].tolist(),\n",
        "    english_preds,\n",
        "    english_labels,\n",
        "    \"English Test\"\n",
        ")\n"
      ]
    },
    {
      "cell_type": "code",
      "execution_count": null,
      "metadata": {
        "colab": {
          "base_uri": "https://localhost:8080/"
        },
        "id": "a1o5HpgMKyUf",
        "outputId": "042bcf28-dbc0-459e-9e1e-3288a7735cd6"
      },
      "outputs": [
        {
          "name": "stdout",
          "output_type": "stream",
          "text": [
            "\n",
            "Pidgin Test Error Analysis (338 errors out of 750 samples):\n",
            "Error rate: 45.07%\n",
            "\n",
            "Error distribution:\n",
            "  neutral predicted as negative: 89 cases (26.33% of errors)\n",
            "  positive predicted as negative: 30 cases (8.88% of errors)\n",
            "  neutral predicted as positive: 94 cases (27.81% of errors)\n",
            "  negative predicted as positive: 113 cases (33.43% of errors)\n",
            "  negative predicted as neutral: 8 cases (2.37% of errors)\n",
            "  positive predicted as neutral: 4 cases (1.18% of errors)\n",
            "\n",
            "Example errors by type:\n",
            "\n",
            "neutral predicted as negative:\n",
            "  Example 1: all these thingsna on top radio we dey hear am we nor kuku dey see amabi na niger Niger i dey wey i dey hear nigeria Nigeria news EMOJI why is everything to help the poor under this administration audio while the one for the rich dey hit their account before it's even announced as token is buhari not better like this at least with him i saw people who benefited from npower tradermoni and school feeding till he handed it over to his gf niger ia which way\n",
            "  Example 2: even agbado people living in this slummy part of lagos go dey claim lagosians and asking people living in ikoyi and co to go back to their village chai poverty na bastard\n",
            "  Example 3: kolo dey kolo EMOJI why are they acting so shocked as if they're saint this is the order of the day\n",
            "  Example 4: alright aje ecowas should allow niger breath make them go talk to biya abi them dey wait make military strike first abeg\n",
            "  Example 5: lol if them wan shut am down mak them shut am at least we need a long break like covid even though this one na with sapa not like covid time wey money dey\n",
            "  Example 6: omo wetin dey happen loltinubu binu tan\n",
            "  Example 7: anyhow them wan dey do make them dey do dey go we are waiting for pept process to be concluded 1st\n",
            "  Example 8: different strokes for different folks we dey give groom money b4 d wedding\n",
            "  Example 9: e don dey happen\n",
            "  Example 10: baba abeg send me prayer to my mail box this men taking us for a ride akpabio dey fall my hand to think of it that he was a governor for 8yrs him dey miss cap\n",
            "\n",
            "positive predicted as negative:\n",
            "  Example 1: the next governor of edo state na better people dey join labour party and not touts like we have in apc\n",
            "  Example 2: you are always free to return home with your polythene bag lagos is too congested na this same ozuo dey always claim rivers statebursted\n",
            "  Example 3: hehehehewike the butcher of the pigs fugitives and cannibals who do not love staying in their region won't like this na them dey build illegal structures everywhere\n",
            "  Example 4: dey come be like say na only sanwolu be the only governor in nigeria other than governors just dey like statue while their citizens are busy abusing the president\n",
            "  Example 5: uss mayflower 1906 1929 was decommissioned as a result of economy measures just prior to the great depression uss potomac 1936 1945 uss williamsburg 1945 1953 the most recent presidential yacht was uss sequoia nigerians are currently passing through a great depression e dey touch most ppl\n",
            "  Example 6: oloriburuku say na self defence thank god say video evidence dey\n",
            "  Example 7: be like na why uniport dey hold certificate verification exercise\n",
            "  Example 8: we know the forge master has been buying lobbyist all over the world to launder his image his image is in tatters the man said if this result is released it will cause him irreparable damage dumb followers are online shouting nothing dey happenit will be interesting when he travels next for the next world leaders meeting he will be avoided like plague\n",
            "  Example 9: adamawa state dey hot as for the intimacy gadget senator abbo it serves him right he is a very immature ilresponsible arrogant and indiscipline senate\n",
            "  Example 10: that line really pained reno ofockery and his new subjects agbado munching gorillasgod bless david hundeyin the omoluabi proper\n",
            "\n",
            "neutral predicted as positive:\n",
            "  Example 1: i swear' when i see the writeup i just smile'' people dey sha''\n",
            "  Example 2: the guy dey speak english to italians he say na move back a bit EMOJI EMOJI EMOJI\n",
            "  Example 3: you dey vex oooo bro\n",
            "  Example 4: so who should i now have sex with there's special joy in having sex with any of these you mentioned here except underage and family so if i don't have sex with my gf how i wan take no say na borehole dey her waist how can i know she moans like a rabbit\n",
            "  Example 5: EMOJI EMOJI you dey vex o\n",
            "  Example 6: posted by david hundeyin on x formerly called twitter\n",
            "  Example 7: hahahakikikina the mod dey give them liver make mods go on holiday for just 2 months make we settle scores i'm very sure by the time they are back from their holidays them go meet peaceful nairaland because everybody go don know where them belong\n",
            "  Example 8: see who dey talk you wey\n",
            "  Example 9: yesterday i bought a small tin of powder milk 3 500 something that used to be 1109 before buhari took over this morning i bought me egg for 120 something that used to be 25 naira before buhari took over may thunder skater buhari's dey anus as for this boko haram grand patron we shall see\n",
            "  Example 10: only in south west councillors dey suspend lg chairman can governors suspend president the anyhowness in sw is tremendous\n",
            "\n",
            "negative predicted as positive:\n",
            "  Example 1: the fear of labour party is the begining of wisdom mind you i'm not labour but any wrong judgement will be widely rejected from presidential to state and nass we will packk up the judiciary in this country u dey hear revolution but think it is a joke\n",
            "  Example 2: they done dey cry EMOJI EMOJI EMOJI\n",
            "  Example 3: exactly she needs to learn to stand up to her father not necessarily disrespect him but he needed to know that their is life after wedding now na you dey collect sometimes our parents just want to massage their egos with all this wedding wahala if you check am during their time them fit no stress them abbbiii na belle then use join them self they will now want to kee somebody child the husband is yours now it's left for you to fix the damage your folks may have caused he will come around he can't stay mad forever but he and your folks may not see eye to eye forget going to visit for christmas and festivities him don buy her\n",
            "  Example 4: since may 29th na always negative and bad news i dey here about tinubu if it s not cocaine it will be certificate forging if it s not his age it will be his child hoodplease let s fast forward to his good and positive newsabi the werey no get good part\n",
            "  Example 5: i dedicate this space to all married women seeing shege in dia husband house god dey\n",
            "  Example 6: the only permanent solution is to leave the house for 6months if u come back them go don die because na u dey feed them on my part i use regular wash of clothes to kill them with washing machine\n",
            "  Example 7: i fear who no fear ipobidients EMOJI EMOJI EMOJI EMOJI EMOJI EMOJI atiku just dey use their cubicle heads to catch cruise EMOJI EMOJI EMOJI EMOJI EMOJI EMOJI EMOJI kingko say soo\n",
            "  Example 8: wait oo na who called lp for kogi matter this lp and fantasy na 5 n 6 better stay in your abia no state is given you their state so stay in your abia in peace we are talking of animal with horn snail too dey show face lp listen and listen good it's either pdp or apc know that and know peace f u c k lp i hate lp because of obi\n",
            "  Example 9: just dey play\n",
            "  Example 10: dey play ni the undisputed mother russia\n",
            "\n",
            "negative predicted as neutral:\n",
            "  Example 1: dey play oh if u dey miss am come back huz\n",
            "  Example 2: i pray he is found safe and sound the police should start their investigation from the family the person that sold him out is likely very close to him na rat wey dey house dey tell the one wey dey bush say fish dey for house\n",
            "  Example 3: omoh i dey normaly drink codein so that i fit sleep\n",
            "  Example 4: lol you guys are still talking about democracy under tinubu dey play\n",
            "  Example 5: mod you no dey sleep tinubu is getting ready i spoke to seyi yesterday he's ready to lead the war\n",
            "  Example 6: is that all dey should take the matter to court\n",
            "  Example 7: para boi say i too dey drop songnigba tin ya owo lapohish hish okay dey play anything lapo bikonu\n",
            "  Example 8: e no dey interestthem\n",
            "\n",
            "positive predicted as neutral:\n",
            "  Example 1: ha hope the bobo dey get update from my inlaw davido lewandoski\n",
            "  Example 2: to gimme your better code nii been dey wait u sincejust dey gimme anything u play abeg\n",
            "  Example 3: omoh nah the father i dey even suspect slf\n",
            "  Example 4: bros dey calm down na\n"
          ]
        }
      ],
      "source": [
        "# Analyze Pidgin errors\n",
        "analyze_errors(\n",
        "    pidgin_test['cleaned_text'].tolist(),\n",
        "    pidgin_preds,\n",
        "    pidgin_labels,\n",
        "    \"Pidgin Test\"\n",
        ")\n"
      ]
    },
    {
      "cell_type": "code",
      "execution_count": null,
      "metadata": {
        "id": "T36HOKycKyUf"
      },
      "outputs": [],
      "source": [
        "# ## 10. Compare Performance Across Languages\n",
        "\n",
        "# Comparison chart\n",
        "def plot_performance_comparison(english_metrics, pidgin_metrics):\n",
        "    \"\"\"Plot performance comparison between languages\"\"\"\n",
        "    metrics = ['accuracy', 'f1', 'precision', 'recall']\n",
        "    english_scores = [english_metrics[f'eval_{m}'] for m in metrics]\n",
        "    pidgin_scores = [pidgin_metrics[f'eval_{m}'] for m in metrics]\n",
        "\n",
        "    x = np.arange(len(metrics))\n",
        "    width = 0.35\n",
        "\n",
        "    fig, ax = plt.subplots(figsize=(10, 6))\n",
        "    rects1 = ax.bar(x - width/2, english_scores, width, label='English')\n",
        "    rects2 = ax.bar(x + width/2, pidgin_scores, width, label='Pidgin (Cross-lingual)')\n",
        "\n",
        "    ax.set_ylabel('Score')\n",
        "    ax.set_title('Performance Comparison: English vs. Pidgin')\n",
        "    ax.set_xticks(x)\n",
        "    ax.set_xticklabels(metrics)\n",
        "    ax.legend()\n",
        "\n",
        "    # Add value labels\n",
        "    def autolabel(rects):\n",
        "        for rect in rects:\n",
        "            height = rect.get_height()\n",
        "            ax.annotate(f'{height:.3f}',\n",
        "                        xy=(rect.get_x() + rect.get_width() / 2, height),\n",
        "                        xytext=(0, 3),\n",
        "                        textcoords=\"offset points\",\n",
        "                        ha='center', va='bottom')\n",
        "\n",
        "    autolabel(rects1)\n",
        "    autolabel(rects2)\n",
        "\n",
        "    fig.tight_layout()\n",
        "    plt.show()\n"
      ]
    },
    {
      "cell_type": "code",
      "execution_count": null,
      "metadata": {
        "colab": {
          "base_uri": "https://localhost:8080/",
          "height": 528
        },
        "id": "YDquth7pKyUf",
        "outputId": "b09d8092-f2a2-4a89-bb5a-c6da52b4c8a6"
      },
      "outputs": [
        {
          "data": {
            "image/png": "[encoded data removed]",
            "text/plain": [
              "<Figure size 1000x600 with 1 Axes>"
            ]
          },
          "metadata": {},
          "output_type": "display_data"
        }
      ],
      "source": [
        "# Plot performance comparison\n",
        "plot_performance_comparison(english_test_results, pidgin_test_results)"
      ]
    },
    {
      "cell_type": "code",
      "execution_count": null,
      "metadata": {
        "colab": {
          "base_uri": "https://localhost:8080/"
        },
        "id": "cEfOGpo2KyUf",
        "outputId": "6104ec4a-40b5-4a6b-8d82-c7c3e0cabaef"
      },
      "outputs": [
        {
          "name": "stdout",
          "output_type": "stream",
          "text": [
            "\n",
            "Experiment completed! Results saved to ./results/exp1/results_summary.txt\n"
          ]
        }
      ],
      "source": [
        "# ## 11. Save Results and Summary\n",
        "\n",
        "# Create output directory if it doesn't exist\n",
        "os.makedirs(\"./results/exp1\", exist_ok=True)\n",
        "\n",
        "# Save all results\n",
        "results_summary = {\n",
        "    'validation': val_results,\n",
        "    'english_test': english_test_results,\n",
        "    'pidgin_test': pidgin_test_results,\n",
        "    'combined_test': combined_test_results\n",
        "}\n",
        "\n",
        "# Write results to file\n",
        "with open(\"./results/exp1/results_summary.txt\", \"w\") as f:\n",
        "    f.write(\"Experiment 1: BERT-base-uncased fine-tuned on English\\n\")\n",
        "    f.write(\"=============================================\\n\\n\")\n",
        "\n",
        "    f.write(\"Model: bert-base-uncased\\n\")\n",
        "    f.write(f\"Train dataset size: {len(train_dataset)}\\n\")\n",
        "    f.write(f\"Validation dataset size: {len(val_dataset)}\\n\")\n",
        "    f.write(f\"English test dataset size: {len(english_test_dataset)}\\n\")\n",
        "    f.write(f\"Pidgin test dataset size: {len(pidgin_test_dataset)}\\n\")\n",
        "    f.write(f\"Combined test dataset size: {len(combined_test_dataset)}\\n\\n\")\n",
        "\n",
        "    f.write(\"Results:\\n\")\n",
        "    for dataset_name, results in results_summary.items():\n",
        "        f.write(f\"\\n{dataset_name.upper()} RESULTS:\\n\")\n",
        "        for metric, value in results.items():\n",
        "            f.write(f\"  {metric}: {value}\\n\")\n",
        "\n",
        "print(\"\\nExperiment completed! Results saved to ./results/exp1/results_summary.txt\")"
      ]
    }
  ],
  "metadata": {
    "accelerator": "GPU",
    "colab": {
      "gpuType": "T4",
      "machine_shape": "hm",
      "provenance": []
    },
    "kernelspec": {
      "display_name": "Python 3",
      "name": "python3"
    },
    "language_info": {
      "codemirror_mode": {
        "name": "ipython",
        "version": 3
      },
      "file_extension": ".py",
      "mimetype": "text/x-python",
      "name": "python",
      "nbconvert_exporter": "python",
      "pygments_lexer": "ipython3",
      "version": "3.10.10"
    }
  },
  "nbformat": 4,
  "nbformat_minor": 0
}