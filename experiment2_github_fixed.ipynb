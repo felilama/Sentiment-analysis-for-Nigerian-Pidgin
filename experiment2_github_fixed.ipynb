{
  "cells": [
    {
      "cell_type": "code",
      "execution_count": null,
      "id": "7899fe52",
      "metadata": {
        "id": "7899fe52"
      },
      "outputs": [],
      "source": [
        "# Experiment 2: Fine-tuning BERT-base-uncased on Nigerian Pidgin Sentiment Dataset (GPU Version)\n",
        "# This notebook implements the training procedure for the second experiment in our cross-lingual sentiment analysis project\n",
        "\n",
        "import torch\n",
        "import pandas as pd\n",
        "import numpy as np\n",
        "import matplotlib.pyplot as plt\n",
        "import seaborn as sns\n",
        "from sklearn.metrics import accuracy_score, precision_recall_fscore_support, confusion_matrix, classification_report\n",
        "from torch.utils.data import Dataset, DataLoader"
      ]
    },
    {
      "cell_type": "code",
      "execution_count": null,
      "id": "b838a28f",
      "metadata": {
        "id": "b838a28f"
      },
      "outputs": [],
      "source": [
        "from transformers import (\n",
        "    BertTokenizer,\n",
        "    BertForSequenceClassification,\n",
        "    get_linear_schedule_with_warmup,\n",
        "    TrainingArguments,\n",
        "    Trainer,\n",
        "    EarlyStoppingCallback\n",
        ")"
      ]
    },
    {
      "cell_type": "code",
      "execution_count": null,
      "id": "72b3e6ae",
      "metadata": {
        "id": "72b3e6ae",
        "colab": {
          "base_uri": "https://localhost:8080/"
        },
        "outputId": "5e37720b-760b-46d8-c2e4-010eb62dd884"
      },
      "outputs": [
        {
          "output_type": "stream",
          "name": "stdout",
          "text": [
            "Collecting emoji\n",
            "  Downloading emoji-2.14.1-py3-none-any.whl.metadata (5.7 kB)\n",
            "Downloading emoji-2.14.1-py3-none-any.whl (590 kB)\n",
            "\u001b[?25l   \u001b[90m\u2501\u2501\u2501\u2501\u2501\u2501\u2501\u2501\u2501\u2501\u2501\u2501\u2501\u2501\u2501\u2501\u2501\u2501\u2501\u2501\u2501\u2501\u2501\u2501\u2501\u2501\u2501\u2501\u2501\u2501\u2501\u2501\u2501\u2501\u2501\u2501\u2501\u2501\u2501\u2501\u001b[0m \u001b[32m0.0/590.6 kB\u001b[0m \u001b[31m?\u001b[0m eta \u001b[36m-:--:--\u001b[0m\r\u001b[2K   \u001b[90m\u2501\u2501\u2501\u2501\u2501\u2501\u2501\u2501\u2501\u2501\u2501\u2501\u2501\u2501\u2501\u2501\u2501\u2501\u2501\u2501\u2501\u2501\u2501\u2501\u2501\u2501\u2501\u2501\u2501\u2501\u2501\u2501\u2501\u2501\u2501\u2501\u2501\u2501\u2501\u2501\u001b[0m \u001b[32m590.6/590.6 kB\u001b[0m \u001b[31m35.4 MB/s\u001b[0m eta \u001b[36m0:00:00\u001b[0m\n",
            "\u001b[?25hInstalling collected packages: emoji\n",
            "Successfully installed emoji-2.14.1\n"
          ]
        }
      ],
      "source": [
        "import os\n",
        "import random\n",
        "import re\n",
        "!pip install emoji\n",
        "import emoji\n",
        "from tqdm.notebook import tqdm"
      ]
    },
    {
      "cell_type": "code",
      "execution_count": null,
      "id": "90773acc",
      "metadata": {
        "id": "90773acc"
      },
      "outputs": [],
      "source": [
        "# Set random seeds for reproducibility\n",
        "seed = 42\n",
        "torch.manual_seed(seed)\n",
        "random.seed(seed)\n",
        "np.random.seed(seed)\n",
        "if torch.cuda.is_available():\n",
        "    torch.cuda.manual_seed_all(seed)"
      ]
    },
    {
      "cell_type": "code",
      "execution_count": null,
      "id": "0f5f94a2",
      "metadata": {
        "id": "0f5f94a2",
        "colab": {
          "base_uri": "https://localhost:8080/"
        },
        "outputId": "d9ab1491-eb6a-48d6-9f37-cc5562cb4d16"
      },
      "outputs": [
        {
          "output_type": "stream",
          "name": "stdout",
          "text": [
            "Using device: cuda\n"
          ]
        }
      ],
      "source": [
        "# Check for GPU\n",
        "device = torch.device(\"cuda\" if torch.cuda.is_available() else \"cpu\")\n",
        "print(f\"Using device: {device}\")"
      ]
    },
    {
      "cell_type": "code",
      "execution_count": null,
      "id": "4a94ee7a",
      "metadata": {
        "id": "4a94ee7a"
      },
      "outputs": [],
      "source": [
        "# ## 1. Data Preparation\n",
        "\n",
        "# Function to clean and normalize text\n",
        "def clean_text(text, is_pidgin=False):\n",
        "    \"\"\"\n",
        "    Clean and normalize text data\n",
        "\n",
        "    Args:\n",
        "        text (str): Input text\n",
        "        is_pidgin (bool): Whether the text is Nigerian Pidgin\n",
        "\n",
        "    Returns:\n",
        "        str: Cleaned text\n",
        "    \"\"\"\n",
        "    if not isinstance(text, str):\n",
        "        return \"\"\n",
        "\n",
        "    # Convert to lowercase\n",
        "    text = text.lower()\n",
        "\n",
        "    # Remove URLs\n",
        "    text = re.sub(r'https?://\\S+|www\\.\\S+', ' [URL] ', text)\n",
        "\n",
        "    # Remove user mentions (@username)\n",
        "    text = re.sub(r'@\\w+', ' [USER] ', text)\n",
        "\n",
        "    # Handle hashtags - keep the text but remove the # symbol\n",
        "    text = re.sub(r'#(\\w+)', r'\\1', text)\n",
        "\n",
        "    # Convert emojis to text (alternatively, you can remove them)\n",
        "    text = emoji.demojize(text)\n",
        "    text = re.sub(r':[a-z_]+:', ' [EMOJI] ', text)  # replace with token or remove\n",
        "\n",
        "    # Remove special characters but keep apostrophes (important for contractions)\n",
        "    text = re.sub(r'[^a-zA-Z0-9\\'\\s]', ' ', text)\n",
        "\n",
        "    # Normalize apostrophes\n",
        "    text = text.replace(\"'\", \"'\")\n",
        "\n",
        "    # Replace multiple spaces with single space\n",
        "    text = re.sub(r'\\s+', ' ', text)\n",
        "\n",
        "    # For Pidgin-specific normalization\n",
        "    if is_pidgin:\n",
        "        # Define common Pidgin expressions to preserve\n",
        "        pidgin_normalizations = {\n",
        "            # Common variations\n",
        "            \" de \": \" dey \",\n",
        "            \" sey \": \" say \",\n",
        "            \" dem \": \" them \",\n",
        "            \" una \": \" you \",\n",
        "            \" dis \": \" this \",\n",
        "            \" dat \": \" that \",\n",
        "            # Common expressions (keep intact)\n",
        "            \"abeg\": \"abeg\",  # please\n",
        "            \"wetin\": \"wetin\",  # what\n",
        "            \"na \": \"na \",  # is/it is\n",
        "            \"abi\": \"abi\",  # right?/isn't it?\n",
        "            \"shey\": \"shey\",  # is it that\n",
        "            \"sha\": \"sha\",  # anyway/though\n",
        "            \"wahala\": \"wahala\",  # trouble\n",
        "            \"japa\": \"japa\",  # run away/leave\n",
        "            \"gats\": \"gats\",  # must/have to\n",
        "        }\n",
        "\n",
        "        for old, new in pidgin_normalizations.items():\n",
        "            text = text.replace(old, new)\n",
        "\n",
        "    return text.strip()\n"
      ]
    },
    {
      "cell_type": "code",
      "source": [
        "# Custom dataset class\n",
        "class SentimentDataset(Dataset):\n",
        "    \"\"\"PyTorch dataset for sentiment analysis\"\"\"\n",
        "    def __init__(self, texts, labels, tokenizer, max_length=128):\n",
        "        self.texts = texts\n",
        "        self.labels = labels\n",
        "        self.tokenizer = tokenizer\n",
        "        self.max_length = max_length\n",
        "\n",
        "    def __len__(self):\n",
        "        return len(self.texts)\n",
        "\n",
        "    def __getitem__(self, idx):\n",
        "        text = self.texts[idx]\n",
        "        label = self.labels[idx]\n",
        "\n",
        "        encoding = self.tokenizer(\n",
        "            text,\n",
        "            truncation=True,\n",
        "            padding='max_length',\n",
        "            max_length=self.max_length,\n",
        "            return_tensors='pt'\n",
        "        )\n",
        "\n",
        "        # Remove the batch dimension which tokenizer adds by default\n",
        "        encoding = {k: v.squeeze(0) for k, v in encoding.items()}\n",
        "        encoding['labels'] = torch.tensor(label)\n",
        "\n",
        "        return encoding\n"
      ],
      "metadata": {
        "id": "pvCzG5qJl-ZQ"
      },
      "id": "pvCzG5qJl-ZQ",
      "execution_count": null,
      "outputs": []
    },
    {
      "cell_type": "code",
      "execution_count": null,
      "id": "b19dff12",
      "metadata": {
        "id": "b19dff12",
        "colab": {
          "base_uri": "https://localhost:8080/"
        },
        "outputId": "7ffd8bff-7a5b-4974-a781-b37f5955abef"
      },
      "outputs": [
        {
          "output_type": "stream",
          "name": "stdout",
          "text": [
            "Loading datasets...\n"
          ]
        }
      ],
      "source": [
        "# Load and prepare datasets\n",
        "print(\"Loading datasets...\")"
      ]
    },
    {
      "cell_type": "code",
      "execution_count": null,
      "id": "bb8935ca",
      "metadata": {
        "id": "bb8935ca",
        "colab": {
          "base_uri": "https://localhost:8080/"
        },
        "outputId": "2c36b1ba-db18-4877-9b78-e6e804207d8d"
      },
      "outputs": [
        {
          "output_type": "stream",
          "name": "stdout",
          "text": [
            "Pidgin dataset shape: (5000, 2)\n"
          ]
        }
      ],
      "source": [
        "# Load Pidgin dataset as the primary training set for Experiment 2\n",
        "pidgin_df = pd.read_csv('new_annotated_pidgin.csv')\n",
        "print(f\"Pidgin dataset shape: {pidgin_df.shape}\")\n"
      ]
    },
    {
      "cell_type": "code",
      "execution_count": null,
      "id": "8c097971",
      "metadata": {
        "id": "8c097971"
      },
      "outputs": [],
      "source": [
        "# Map sentiments to numeric values\n",
        "sentiment_map = {'positive': 0, 'negative': 1, 'neutral': 2}\n",
        "pidgin_df['label'] = pidgin_df['sentiments'].map(sentiment_map)"
      ]
    },
    {
      "cell_type": "code",
      "execution_count": null,
      "id": "1b579f52",
      "metadata": {
        "id": "1b579f52"
      },
      "outputs": [],
      "source": [
        "# Clean text\n",
        "pidgin_df['cleaned_text'] = pidgin_df['Comments'].apply(lambda x: clean_text(x, is_pidgin=True))"
      ]
    },
    {
      "cell_type": "code",
      "execution_count": null,
      "id": "f871af0c",
      "metadata": {
        "id": "f871af0c",
        "colab": {
          "base_uri": "https://localhost:8080/"
        },
        "outputId": "4f188214-2b19-4359-8fea-bb710561700c"
      },
      "outputs": [
        {
          "output_type": "stream",
          "name": "stdout",
          "text": [
            "\n",
            "Pidgin sentiment distribution:\n",
            "sentiments\n",
            "negative    3099\n",
            "neutral     1362\n",
            "positive     539\n",
            "Name: count, dtype: int64\n",
            "Percentages: sentiments\n",
            "negative    61.98\n",
            "neutral     27.24\n",
            "positive    10.78\n",
            "Name: count, dtype: float64\n"
          ]
        }
      ],
      "source": [
        "# Check sentiment distribution\n",
        "sentiment_counts = pidgin_df['sentiments'].value_counts()\n",
        "print(\"\\nPidgin sentiment distribution:\")\n",
        "print(sentiment_counts)\n",
        "print(f\"Percentages: {sentiment_counts / len(pidgin_df) * 100}\")"
      ]
    },
    {
      "cell_type": "code",
      "execution_count": null,
      "id": "569198f1",
      "metadata": {
        "id": "569198f1",
        "colab": {
          "base_uri": "https://localhost:8080/"
        },
        "outputId": "3b6ad1be-e0f7-4489-e2b8-3a5eb5bc9b99"
      },
      "outputs": [
        {
          "output_type": "stream",
          "name": "stdout",
          "text": [
            "\n",
            "English dataset shape: (10000, 2)\n"
          ]
        }
      ],
      "source": [
        "# Load English dataset for testing\n",
        "english_df = pd.read_csv('English_dataset.csv')\n",
        "print(f\"\\nEnglish dataset shape: {english_df.shape}\")\n",
        "english_df['label'] = english_df['Sentiments'].map(sentiment_map)\n",
        "english_df['cleaned_text'] = english_df['text'].apply(lambda x: clean_text(x, is_pidgin=False))"
      ]
    },
    {
      "cell_type": "code",
      "execution_count": null,
      "id": "34d5059d",
      "metadata": {
        "id": "34d5059d",
        "colab": {
          "base_uri": "https://localhost:8080/",
          "height": 564
        },
        "outputId": "bb805f83-d0ab-4604-e6ac-5150a057e61f"
      },
      "outputs": [
        {
          "output_type": "display_data",
          "data": {
            "text/plain": [
              "<Figure size 1000x600 with 1 Axes>"
            ],
            "image/png": "[encoded data removed]"
          },
          "metadata": {}
        }
      ],
      "source": [
        "# Visualize sentiment distribution\n",
        "plt.figure(figsize=(10, 6))\n",
        "sns.countplot(x='sentiments', data=pidgin_df)\n",
        "plt.title('Nigerian Pidgin Dataset Sentiment Distribution')\n",
        "plt.show()"
      ]
    },
    {
      "cell_type": "code",
      "execution_count": null,
      "id": "9b2d58a2",
      "metadata": {
        "id": "9b2d58a2"
      },
      "outputs": [],
      "source": [
        "# ## 2. Split Datasets\n",
        "\n",
        "from sklearn.model_selection import train_test_split\n",
        "\n",
        "# Split into train, validation, and test sets\n",
        "def split_dataset(df, train_size=0.7, val_size=0.15, test_size=0.15, random_state=42):\n",
        "    \"\"\"\n",
        "    Split dataset into train, validation, and test sets with stratification\n",
        "    \"\"\"\n",
        "    # First split: train + validation and test\n",
        "    train_val, test = train_test_split(\n",
        "        df, test_size=test_size, random_state=random_state, stratify=df['label']\n",
        "    )\n",
        "\n",
        "    # Second split: train and validation\n",
        "    # Adjust validation size relative to train_val\n",
        "    relative_val_size = val_size / (train_size + val_size)\n",
        "    train, val = train_test_split(\n",
        "        train_val, test_size=relative_val_size, random_state=random_state,\n",
        "        stratify=train_val['label']\n",
        "    )\n",
        "\n",
        "    return train, val, test"
      ]
    },
    {
      "cell_type": "code",
      "execution_count": null,
      "id": "86349bd5",
      "metadata": {
        "id": "86349bd5"
      },
      "outputs": [],
      "source": [
        "# Split Pidgin dataset\n",
        "pidgin_train, pidgin_val, pidgin_test = split_dataset(pidgin_df)"
      ]
    },
    {
      "cell_type": "code",
      "execution_count": null,
      "id": "1595779b",
      "metadata": {
        "id": "1595779b",
        "colab": {
          "base_uri": "https://localhost:8080/"
        },
        "outputId": "1d14ae9b-a982-4756-e657-49f73e59e741"
      },
      "outputs": [
        {
          "output_type": "stream",
          "name": "stdout",
          "text": [
            "\n",
            "Dataset splits:\n",
            "Pidgin - Train: 3500, Val: 750, Test: 750\n"
          ]
        }
      ],
      "source": [
        "# Display split sizes\n",
        "print(\"\\nDataset splits:\")\n",
        "print(f\"Pidgin - Train: {len(pidgin_train)}, Val: {len(pidgin_val)}, Test: {len(pidgin_test)}\")"
      ]
    },
    {
      "cell_type": "code",
      "execution_count": null,
      "id": "cd024b2b",
      "metadata": {
        "id": "cd024b2b",
        "colab": {
          "base_uri": "https://localhost:8080/"
        },
        "outputId": "978e6e49-800f-428b-ba74-dc0881ae9a05"
      },
      "outputs": [
        {
          "output_type": "stream",
          "name": "stdout",
          "text": [
            "\n",
            "Train distribution:\n",
            "sentiments\n",
            "negative    2169\n",
            "neutral      954\n",
            "positive     377\n",
            "Name: count, dtype: int64\n",
            "\n",
            "Validation distribution:\n",
            "sentiments\n",
            "negative    465\n",
            "neutral     204\n",
            "positive     81\n",
            "Name: count, dtype: int64\n",
            "\n",
            "Test distribution:\n",
            "sentiments\n",
            "negative    465\n",
            "neutral     204\n",
            "positive     81\n",
            "Name: count, dtype: int64\n"
          ]
        }
      ],
      "source": [
        "# Check class distribution in splits\n",
        "print(\"\\nTrain distribution:\")\n",
        "print(pidgin_train['sentiments'].value_counts())\n",
        "print(\"\\nValidation distribution:\")\n",
        "print(pidgin_val['sentiments'].value_counts())\n",
        "print(\"\\nTest distribution:\")\n",
        "print(pidgin_test['sentiments'].value_counts())"
      ]
    },
    {
      "cell_type": "code",
      "execution_count": null,
      "id": "54f34175",
      "metadata": {
        "id": "54f34175",
        "colab": {
          "base_uri": "https://localhost:8080/"
        },
        "outputId": "a9f4fe4d-df9a-41a5-b311-09b2e4374d6f"
      },
      "outputs": [
        {
          "output_type": "stream",
          "name": "stdout",
          "text": [
            "\n",
            "English test set size: 1500\n",
            "English test distribution:\n",
            "Sentiments\n",
            "positive    1149\n",
            "negative     347\n",
            "neutral        4\n",
            "Name: count, dtype: int64\n"
          ]
        }
      ],
      "source": [
        "# Sample English test data\n",
        "english_test = english_df.sample(1500, random_state=42)  # As specified in experiment design\n",
        "print(f\"\\nEnglish test set size: {len(english_test)}\")\n",
        "print(\"English test distribution:\")\n",
        "print(english_test['Sentiments'].value_counts())"
      ]
    },
    {
      "cell_type": "code",
      "execution_count": null,
      "id": "7c4c662d",
      "metadata": {
        "id": "7c4c662d",
        "colab": {
          "base_uri": "https://localhost:8080/"
        },
        "outputId": "2a8b38fc-d8fe-4ff4-e7f5-b70a2f41243b"
      },
      "outputs": [
        {
          "output_type": "stream",
          "name": "stdout",
          "text": [
            "\n",
            "Checking for class imbalance in Pidgin training data:\n",
            "sentiments\n",
            "negative    61.971429\n",
            "neutral     27.257143\n",
            "positive    10.771429\n",
            "Name: proportion, dtype: float64\n"
          ]
        }
      ],
      "source": [
        "# Check for class imbalance in Pidgin\n",
        "print(\"\\nChecking for class imbalance in Pidgin training data:\")\n",
        "print(pidgin_train['sentiments'].value_counts(normalize=True) * 100)"
      ]
    },
    {
      "cell_type": "code",
      "execution_count": null,
      "id": "26d1d1e5",
      "metadata": {
        "id": "26d1d1e5",
        "colab": {
          "base_uri": "https://localhost:8080/"
        },
        "outputId": "55f23fda-9940-40d6-d314-908127c00a90"
      },
      "outputs": [
        {
          "output_type": "stream",
          "name": "stdout",
          "text": [
            "\n",
            "Actual class counts in training data:\n",
            "label\n",
            "0     377\n",
            "1    2169\n",
            "2     954\n",
            "Name: count, dtype: int64\n",
            "\n",
            "Computed class weights for handling imbalance:\n",
            "Positive (0): 3.0946\n",
            "Negative (1): 0.5379\n",
            "Neutral (2): 1.2229\n"
          ]
        }
      ],
      "source": [
        "# ## 3. Address Class Imbalance\n",
        "\n",
        "# The Pidgin dataset is now skewed toward negative sentiment (3099 samples)\n",
        "# with fewer positive samples (539) and moderate neutral samples (1362)\n",
        "# We'll implement class weighting to address this during training\n",
        "\n",
        "def compute_class_weights(labels):\n",
        "    \"\"\"Compute class weights inversely proportional to class frequencies\"\"\"\n",
        "    class_counts = np.bincount(labels)\n",
        "    total_samples = len(labels)\n",
        "    class_weights = total_samples / (len(class_counts) * class_counts)\n",
        "\n",
        "    # Ensure we have weights for all 3 classes (positive, negative, neutral)\n",
        "    if len(class_weights) < 3:\n",
        "        # If some class is missing in the bincount, add zeros\n",
        "        pad_length = 3 - len(class_weights)\n",
        "        class_weights = np.pad(class_weights, (0, pad_length), 'constant')\n",
        "\n",
        "    return torch.FloatTensor(class_weights)\n",
        "\n",
        "# Print actual class counts for verification\n",
        "print(\"\\nActual class counts in training data:\")\n",
        "print(pidgin_train['label'].value_counts().sort_index())\n",
        "\n",
        "class_weights = compute_class_weights(pidgin_train['label'].values)\n",
        "print(\"\\nComputed class weights for handling imbalance:\")\n",
        "print(f\"Positive (0): {class_weights[0]:.4f}\")\n",
        "print(f\"Negative (1): {class_weights[1]:.4f}\")\n",
        "print(f\"Neutral (2): {class_weights[2]:.4f}\")"
      ]
    },
    {
      "cell_type": "code",
      "execution_count": null,
      "id": "59142a07",
      "metadata": {
        "id": "59142a07"
      },
      "outputs": [],
      "source": [
        "# ## 4. Initialize Tokenizer\n",
        "\n",
        "# Initialize and enhance BERT tokenizer for better Pidgin handling\n",
        "def enhance_tokenizer_for_pidgin(tokenizer):\n",
        "    \"\"\"Enhance tokenizer with Nigerian Pidgin specific tokens\"\"\"\n",
        "    # Common Pidgin expressions to add as special tokens\n",
        "    pidgin_special_tokens = {\n",
        "        'additional_special_tokens': [\n",
        "            '[ABEG]', '[WETIN]', '[DEY]', '[NA]', '[SHEY]', '[ABI]',\n",
        "            '[WAHALA]', '[SHA]', '[SABI]', '[JAPA]', '[GATS]'\n",
        "        ]\n",
        "    }\n",
        "\n",
        "    # Add special tokens\n",
        "    num_added = tokenizer.add_special_tokens(pidgin_special_tokens)\n",
        "    print(f\"Added {num_added} special tokens to tokenizer\")\n",
        "\n",
        "    return tokenizer"
      ]
    },
    {
      "cell_type": "code",
      "execution_count": null,
      "id": "76d45a21",
      "metadata": {
        "id": "76d45a21",
        "colab": {
          "base_uri": "https://localhost:8080/",
          "height": 304,
          "referenced_widgets": [
            "cd6b090db9434ba9a1010195887fed5f",
            "c16825aa038a49468e1f1c43c1f35a5c",
            "7024f63490df48eb8e9c55292ece7213",
            "9392544d4a7f43028fc8237deb34a74c",
            "c937bc8e2c0f4a2b83ec6270cf424fc4",
            "6d7fec5845474507ac59ff8124ef98da",
            "03c61f4642ab4d258bb2a63453abfb13",
            "2a65808f2f1a4519b995594c9673804e",
            "541a828418fd497280124b0f235ec954",
            "eb91868d12fb40768d3b4a744c0083a0",
            "aac0b8b4fab149dda067c30dc518fb13",
            "73a5ef78b0d842218af46c3ba9acbcad",
            "8e93e66b9c2246f9baa0be0f004c7f7f",
            "f368f81133aa44f4a59f8829e0e2b462",
            "a7ea797b14f846ba819c094e175fb69b",
            "a6998a49d06c467ba26d0fbd723aea96",
            "40ca4bb9a1f746ce96502f739f9531a6",
            "0cad3e75f3f84a2282ac21c59abf1ab9",
            "c38a522ea7f54f9fbf9946bb2ab96952",
            "b1261ab4621649b4ae4af2d821d429a6",
            "29272250f1184b4e9669f4d119cbe002",
            "02c2ec97a5974e9fb58cb6c2d156a47a",
            "c811a1fae6dc443e9b9cb6757cac2849",
            "2a7f1349a3614c03badcba88ee35df2e",
            "5cb2519bc97e44cb9a06ed0ba68dc600",
            "3d27ec98356b4d42b4c349006f0fe2c6",
            "0760166b09cb4756bfd7dd3e44ee1f27",
            "4af8e6b822c7409a87359dd7231965bb",
            "b4741cb253874bb88af2527801638c57",
            "acaaf5d0c3624b229e31a9b978066c7f",
            "59cde2074de04b5ab7798dab12af07d9",
            "df84ee7421ad4973be5f6080d14cd5b1",
            "c2ffa0c08f0940dfac5e42e4648fb277",
            "0a19332ae84048b9b57dfcef0369fae5",
            "65d65b7101374fa3b30d9980610657f8",
            "31742b50af5440a7982bdedb4034461a",
            "09fd58296d8341019b82ed4ace1096d0",
            "34b502adef0c48008f92d723f1b713ab",
            "ad1ce1f57dad47b090440b4b9d390951",
            "346f0c96cfd141dfa295f118527ad455",
            "e33dae9c656d4a02b51ff0f5e26d5e98",
            "3e6be8550f8440a3b6252bbe65fadf1f",
            "1ffb35be8ad34482ab5b82bd92619fd5",
            "fe81a20efc104d0d8a1e9b1c86ac16fc"
          ]
        },
        "outputId": "7b62c86c-8486-4413-efe1-f2b4ee101e2a"
      },
      "outputs": [
        {
          "output_type": "stream",
          "name": "stdout",
          "text": [
            "Initializing tokenizer...\n"
          ]
        },
        {
          "output_type": "stream",
          "name": "stderr",
          "text": [
            "/usr/local/lib/python3.11/dist-packages/huggingface_hub/utils/_auth.py:94: UserWarning: \n",
            "The secret `HF_TOKEN` does not exist in your Colab secrets.\n",
            "To authenticate with the Hugging Face Hub, create a token in your settings tab (https://huggingface.co/settings/tokens), set it as secret in your Google Colab and restart your session.\n",
            "You will be able to reuse this secret in all of your notebooks.\n",
            "Please note that authentication is recommended but still optional to access public models or datasets.\n",
            "  warnings.warn(\n"
          ]
        },
        {
          "output_type": "display_data",
          "data": {
            "text/plain": [
              "tokenizer_config.json:   0%|          | 0.00/48.0 [00:00<?, ?B/s]"
            ]
          },
          "metadata": {}
        },
        {
          "output_type": "display_data",
          "data": {
            "text/plain": [
              "vocab.txt:   0%|          | 0.00/232k [00:00<?, ?B/s]"
            ]
          },
          "metadata": {}
        },
        {
          "output_type": "display_data",
          "data": {
            "text/plain": [
              "tokenizer.json:   0%|          | 0.00/466k [00:00<?, ?B/s]"
            ]
          },
          "metadata": {}
        },
        {
          "output_type": "display_data",
          "data": {
            "text/plain": [
              "config.json:   0%|          | 0.00/570 [00:00<?, ?B/s]"
            ]
          },
          "metadata": {}
        },
        {
          "output_type": "stream",
          "name": "stdout",
          "text": [
            "Added 11 special tokens to tokenizer\n"
          ]
        }
      ],
      "source": [
        "# Initialize the tokenizer\n",
        "print(\"Initializing tokenizer...\")\n",
        "tokenizer = BertTokenizer.from_pretrained('bert-base-uncased')\n",
        "tokenizer = enhance_tokenizer_for_pidgin(tokenizer)"
      ]
    },
    {
      "cell_type": "code",
      "execution_count": null,
      "id": "fc91597f",
      "metadata": {
        "id": "fc91597f"
      },
      "outputs": [],
      "source": [
        "# Determine optimal sequence length\n",
        "def analyze_token_lengths(texts, tokenizer, percentile=95):\n",
        "    \"\"\"Analyze token length distribution and determine max length\"\"\"\n",
        "    token_lengths = []\n",
        "    for text in tqdm(texts, desc=\"Analyzing token lengths\"):\n",
        "        if isinstance(text, str) and text.strip():\n",
        "            tokens = tokenizer.tokenize(text)\n",
        "            token_lengths.append(len(tokens))\n",
        "\n",
        "    # Calculate statistics\n",
        "    mean_len = np.mean(token_lengths)\n",
        "    median_len = np.median(token_lengths)\n",
        "    p95 = np.percentile(token_lengths, percentile)\n",
        "    max_len = np.max(token_lengths)\n",
        "\n",
        "    # Round up to nearest multiple of 8 for efficiency\n",
        "    recommended_length = ((int(p95) + 7) // 8) * 8\n",
        "\n",
        "    print(f\"Token length statistics:\")\n",
        "    print(f\"Mean: {mean_len:.1f}\")\n",
        "    print(f\"Median: {median_len:.1f}\")\n",
        "    print(f\"95th percentile: {p95:.1f}\")\n",
        "    print(f\"Max: {max_len}\")\n",
        "    print(f\"Recommended max_length: {recommended_length}\")\n",
        "\n",
        "    return recommended_length, token_lengths"
      ]
    },
    {
      "cell_type": "code",
      "execution_count": null,
      "id": "c0fda056",
      "metadata": {
        "id": "c0fda056",
        "colab": {
          "base_uri": "https://localhost:8080/",
          "height": 188,
          "referenced_widgets": [
            "5a9ae6993cf04db28423a10295227982",
            "322750db6b7c4b1899a984a991a02062",
            "7297489ed9994dfbb32a5a1d079971f9",
            "e685daab87f5446583b514bd9f2b0a25",
            "42ec7b29ee54442091a7bcb8987d1844",
            "b40d37286dc64ce6b7177791c0c519be",
            "acf3b02e65c04dd9887e24e7b5f6ef4d",
            "e31b3bf7af234801a4c16c7845e92d71",
            "ab358d02b6874960b4cf013edd3e6123",
            "7439e43a642847488bd57f376b652ed4",
            "7ef74d57f6094fcabda1618e040b3751"
          ]
        },
        "outputId": "a4a5be8c-c30b-4fe0-c77f-6f6d5264f631"
      },
      "outputs": [
        {
          "output_type": "stream",
          "name": "stdout",
          "text": [
            "\n",
            "Analyzing Pidgin token lengths...\n"
          ]
        },
        {
          "output_type": "display_data",
          "data": {
            "text/plain": [
              "Analyzing token lengths:   0%|          | 0/500 [00:00<?, ?it/s]"
            ]
          },
          "metadata": {}
        },
        {
          "output_type": "stream",
          "name": "stdout",
          "text": [
            "Token length statistics:\n",
            "Mean: 42.1\n",
            "Median: 28.0\n",
            "95th percentile: 119.0\n",
            "Max: 422\n",
            "Recommended max_length: 120\n"
          ]
        }
      ],
      "source": [
        "# Analyze Pidgin and English token lengths\n",
        "print(\"\\nAnalyzing Pidgin token lengths...\")\n",
        "pidgin_sample = pidgin_train['cleaned_text'].sample(500, random_state=42).tolist()\n",
        "max_length_pidgin, pidgin_lengths = analyze_token_lengths(pidgin_sample, tokenizer)"
      ]
    },
    {
      "cell_type": "code",
      "execution_count": null,
      "id": "83595749",
      "metadata": {
        "id": "83595749",
        "colab": {
          "base_uri": "https://localhost:8080/",
          "height": 188,
          "referenced_widgets": [
            "3e568af30de344cb93a4621cce76c545",
            "3f91dd1ac8544b61b36fbd65aa5d420c",
            "03adfa09a66f4fe4a60521180fd7897c",
            "d5e5b3a3d22e47b7b175454e4850b133",
            "ad5f9f7577ae48749c89ccd84fc7496e",
            "6a05dabf4ae840e3b8bb99a05e2ea9ea",
            "01efd7927bbe4f6490bc099e67ea8c0a",
            "468561046eb842fc8716316ee756e69d",
            "7b2d9c1100074bd98de91f6d62bf046e",
            "8ca8a1175c9843be9f60f157388bf4d8",
            "a43dee2c2d86487db09c85729e3cdee1"
          ]
        },
        "outputId": "5f42a9ba-1143-4a21-e4d1-40354e7a7320"
      },
      "outputs": [
        {
          "output_type": "stream",
          "name": "stdout",
          "text": [
            "\n",
            "Analyzing English token lengths...\n"
          ]
        },
        {
          "output_type": "display_data",
          "data": {
            "text/plain": [
              "Analyzing token lengths:   0%|          | 0/500 [00:00<?, ?it/s]"
            ]
          },
          "metadata": {}
        },
        {
          "output_type": "stream",
          "name": "stdout",
          "text": [
            "Token length statistics:\n",
            "Mean: 33.2\n",
            "Median: 20.0\n",
            "95th percentile: 101.0\n",
            "Max: 440\n",
            "Recommended max_length: 104\n"
          ]
        }
      ],
      "source": [
        "print(\"\\nAnalyzing English token lengths...\")\n",
        "english_sample = english_test['cleaned_text'].sample(500, random_state=42).tolist()\n",
        "max_length_english, english_lengths = analyze_token_lengths(english_sample, tokenizer)"
      ]
    },
    {
      "cell_type": "code",
      "execution_count": null,
      "id": "fbd63a0c",
      "metadata": {
        "id": "fbd63a0c"
      },
      "outputs": [],
      "source": [
        "# Use the maximum of both for test data to handle both languages\n",
        "max_length_test = max(max_length_english, max_length_pidgin)"
      ]
    },
    {
      "cell_type": "code",
      "execution_count": null,
      "id": "fd9d1d82",
      "metadata": {
        "id": "fd9d1d82",
        "colab": {
          "base_uri": "https://localhost:8080/",
          "height": 591
        },
        "outputId": "0b7aea97-6663-4b5d-cc77-58b2cd60f026"
      },
      "outputs": [
        {
          "output_type": "display_data",
          "data": {
            "text/plain": [
              "<Figure size 1200x600 with 2 Axes>"
            ],
            "image/png": "[encoded data removed]"
          },
          "metadata": {}
        }
      ],
      "source": [
        "# Visualize token length distributions\n",
        "plt.figure(figsize=(12, 6))\n",
        "plt.subplot(1, 2, 1)\n",
        "sns.histplot(pidgin_lengths, bins=30)\n",
        "plt.axvline(x=max_length_pidgin, color='r', linestyle='--', label=f'Max length ({max_length_pidgin})')\n",
        "plt.title('Pidgin Token Length Distribution')\n",
        "plt.xlabel('Number of Tokens')\n",
        "plt.ylabel('Frequency')\n",
        "plt.legend()\n",
        "\n",
        "plt.subplot(1, 2, 2)\n",
        "sns.histplot(english_lengths, bins=30)\n",
        "plt.axvline(x=max_length_english, color='r', linestyle='--', label=f'Max length ({max_length_english})')\n",
        "plt.title('English Token Length Distribution')\n",
        "plt.xlabel('Number of Tokens')\n",
        "plt.ylabel('Frequency')\n",
        "plt.legend()\n",
        "\n",
        "plt.tight_layout()\n",
        "plt.show()"
      ]
    },
    {
      "cell_type": "code",
      "execution_count": null,
      "id": "999b2689",
      "metadata": {
        "id": "999b2689",
        "colab": {
          "base_uri": "https://localhost:8080/"
        },
        "outputId": "fb47c645-9607-41d5-e6ca-8bdb1ea44494"
      },
      "outputs": [
        {
          "output_type": "stream",
          "name": "stdout",
          "text": [
            "Creating PyTorch datasets...\n"
          ]
        }
      ],
      "source": [
        "# ## 5. Create PyTorch Datasets\n",
        "\n",
        "# Prepare datasets\n",
        "print(\"Creating PyTorch datasets...\")\n",
        "\n",
        "# Training dataset\n",
        "train_dataset = SentimentDataset(\n",
        "    pidgin_train['cleaned_text'].tolist(),\n",
        "    pidgin_train['label'].tolist(),\n",
        "    tokenizer,\n",
        "    max_length=max_length_pidgin\n",
        ")\n",
        "\n",
        "# Validation dataset\n",
        "val_dataset = SentimentDataset(\n",
        "    pidgin_val['cleaned_text'].tolist(),\n",
        "    pidgin_val['label'].tolist(),\n",
        "    tokenizer,\n",
        "    max_length=max_length_pidgin\n",
        ")\n",
        "\n",
        "# Test datasets (separate for English and Pidgin for cross-lingual evaluation)\n",
        "pidgin_test_dataset = SentimentDataset(\n",
        "    pidgin_test['cleaned_text'].tolist(),\n",
        "    pidgin_test['label'].tolist(),\n",
        "    tokenizer,\n",
        "    max_length=max_length_test  # Use longer sequence length for test\n",
        ")\n",
        "\n",
        "english_test_dataset = SentimentDataset(\n",
        "    english_test['cleaned_text'].tolist(),\n",
        "    english_test['label'].tolist(),\n",
        "    tokenizer,\n",
        "    max_length=max_length_test  # Use longer sequence length for test\n",
        ")\n",
        "\n",
        "# Combined test dataset\n",
        "combined_test_texts = pidgin_test['cleaned_text'].tolist() + english_test['cleaned_text'].tolist()\n",
        "combined_test_labels = pidgin_test['label'].tolist() + english_test['label'].tolist()\n",
        "\n",
        "combined_test_dataset = SentimentDataset(\n",
        "    combined_test_texts,\n",
        "    combined_test_labels,\n",
        "    tokenizer,\n",
        "    max_length=max_length_test\n",
        ")"
      ]
    },
    {
      "cell_type": "code",
      "execution_count": null,
      "id": "b174577d",
      "metadata": {
        "id": "b174577d",
        "colab": {
          "base_uri": "https://localhost:8080/"
        },
        "outputId": "0c4cb77b-bd8d-41e8-993e-87d9815ba51a"
      },
      "outputs": [
        {
          "output_type": "stream",
          "name": "stdout",
          "text": [
            "Train dataset size: 3500\n",
            "Validation dataset size: 750\n",
            "Pidgin test dataset size: 750\n",
            "English test dataset size: 1500\n",
            "Combined test dataset size: 2250\n",
            "\n",
            "Example batch keys: dict_keys(['input_ids', 'token_type_ids', 'attention_mask', 'labels'])\n",
            "Input IDs shape: torch.Size([2, 120])\n",
            "Attention mask shape: torch.Size([2, 120])\n",
            "Labels: tensor([1, 1])\n"
          ]
        }
      ],
      "source": [
        "print(f\"Train dataset size: {len(train_dataset)}\")\n",
        "print(f\"Validation dataset size: {len(val_dataset)}\")\n",
        "print(f\"Pidgin test dataset size: {len(pidgin_test_dataset)}\")\n",
        "print(f\"English test dataset size: {len(english_test_dataset)}\")\n",
        "print(f\"Combined test dataset size: {len(combined_test_dataset)}\")\n",
        "\n",
        "# Check example batch\n",
        "train_batch = next(iter(DataLoader(train_dataset, batch_size=2)))\n",
        "print(\"\\nExample batch keys:\", train_batch.keys())\n",
        "print(f\"Input IDs shape: {train_batch['input_ids'].shape}\")\n",
        "print(f\"Attention mask shape: {train_batch['attention_mask'].shape}\")\n",
        "print(f\"Labels: {train_batch['labels']}\")"
      ]
    },
    {
      "cell_type": "code",
      "source": [
        "import os\n",
        "os.environ[\"WANDB_DISABLED\"] = \"true\""
      ],
      "metadata": {
        "id": "ahWlHgFcmrip"
      },
      "id": "ahWlHgFcmrip",
      "execution_count": null,
      "outputs": []
    },
    {
      "cell_type": "code",
      "execution_count": null,
      "id": "d47b398e",
      "metadata": {
        "id": "d47b398e"
      },
      "outputs": [],
      "source": [
        "# ## 6. Model Setup and Training\n",
        "\n",
        "# Define metrics function\n",
        "def compute_metrics(pred):\n",
        "    \"\"\"Compute metrics for evaluation\"\"\"\n",
        "    labels = pred.label_ids\n",
        "    preds = pred.predictions.argmax(-1)\n",
        "    precision, recall, f1, _ = precision_recall_fscore_support(labels, preds, average='weighted')\n",
        "    acc = accuracy_score(labels, preds)\n",
        "    return {\n",
        "        'accuracy': acc,\n",
        "        'f1': f1,\n",
        "        'precision': precision,\n",
        "        'recall': recall\n",
        "    }"
      ]
    },
    {
      "cell_type": "code",
      "execution_count": null,
      "id": "0a7fbef5",
      "metadata": {
        "id": "0a7fbef5"
      },
      "outputs": [],
      "source": [
        "# Define a custom loss function that applies class weights\n",
        "class WeightedBertForSequenceClassification(BertForSequenceClassification):\n",
        "    def __init__(self, config, class_weights=None):\n",
        "        super().__init__(config)\n",
        "        self.class_weights = class_weights\n",
        "\n",
        "    def forward(self, input_ids=None, attention_mask=None, token_type_ids=None,\n",
        "                position_ids=None, head_mask=None, inputs_embeds=None,\n",
        "                labels=None, output_attentions=None, output_hidden_states=None,\n",
        "                return_dict=None):\n",
        "\n",
        "        return_dict = return_dict if return_dict is not None else self.config.use_return_dict\n",
        "\n",
        "        outputs = self.bert(\n",
        "            input_ids=input_ids,\n",
        "            attention_mask=attention_mask,\n",
        "            token_type_ids=token_type_ids,\n",
        "            position_ids=position_ids,\n",
        "            head_mask=head_mask,\n",
        "            inputs_embeds=inputs_embeds,\n",
        "            output_attentions=output_attentions,\n",
        "            output_hidden_states=output_hidden_states,\n",
        "            return_dict=return_dict,\n",
        "        )\n",
        "\n",
        "        pooled_output = outputs[1]\n",
        "        pooled_output = self.dropout(pooled_output)\n",
        "        logits = self.classifier(pooled_output)\n",
        "\n",
        "        loss = None\n",
        "        if labels is not None and self.class_weights is not None:\n",
        "            # Apply class weights to cross entropy loss\n",
        "            loss_fct = torch.nn.CrossEntropyLoss(weight=self.class_weights.to(logits.device))\n",
        "            loss = loss_fct(logits.view(-1, self.num_labels), labels.view(-1))\n",
        "\n",
        "        if not return_dict:\n",
        "            output = (logits,) + outputs[2:]\n",
        "            return ((loss,) + output) if loss is not None else output\n",
        "\n",
        "        from transformers.modeling_outputs import SequenceClassifierOutput\n",
        "        return SequenceClassifierOutput(\n",
        "            loss=loss,\n",
        "            logits=logits,\n",
        "            hidden_states=outputs.hidden_states,\n",
        "            attentions=outputs.attentions,\n",
        "        )"
      ]
    },
    {
      "cell_type": "code",
      "execution_count": null,
      "id": "43a85f7c",
      "metadata": {
        "id": "43a85f7c",
        "colab": {
          "base_uri": "https://localhost:8080/"
        },
        "outputId": "778a854b-9523-4eba-9003-5fa5c0b3428a"
      },
      "outputs": [
        {
          "output_type": "stream",
          "name": "stdout",
          "text": [
            "\n",
            "Initializing model...\n"
          ]
        },
        {
          "output_type": "stream",
          "name": "stderr",
          "text": [
            "Some weights of WeightedBertForSequenceClassification were not initialized from the model checkpoint at bert-base-uncased and are newly initialized: ['classifier.bias', 'classifier.weight']\n",
            "You should probably TRAIN this model on a down-stream task to be able to use it for predictions and inference.\n"
          ]
        }
      ],
      "source": [
        "# Initialize model\n",
        "print(\"\\nInitializing model...\")\n",
        "# Use the custom model with class weights\n",
        "model = WeightedBertForSequenceClassification.from_pretrained(\n",
        "    'bert-base-uncased',\n",
        "    num_labels=3,  # positive, negative, neutral\n",
        "    class_weights=class_weights\n",
        ")"
      ]
    },
    {
      "cell_type": "code",
      "execution_count": null,
      "id": "2e74d4bd",
      "metadata": {
        "id": "2e74d4bd",
        "colab": {
          "base_uri": "https://localhost:8080/"
        },
        "outputId": "4c7d6328-df63-4789-8493-2a5be79f3503"
      },
      "outputs": [
        {
          "output_type": "execute_result",
          "data": {
            "text/plain": [
              "Embedding(30533, 768, padding_idx=0)"
            ]
          },
          "metadata": {},
          "execution_count": 47
        }
      ],
      "source": [
        "# Resize token embeddings to account for new tokens\n",
        "model.resize_token_embeddings(len(tokenizer))"
      ]
    },
    {
      "cell_type": "code",
      "execution_count": null,
      "id": "70985139",
      "metadata": {
        "id": "70985139",
        "colab": {
          "base_uri": "https://localhost:8080/"
        },
        "outputId": "3d7d3bbe-d282-4a0c-e0a7-c1400ff13d9f"
      },
      "outputs": [
        {
          "output_type": "execute_result",
          "data": {
            "text/plain": [
              "WeightedBertForSequenceClassification(\n",
              "  (bert): BertModel(\n",
              "    (embeddings): BertEmbeddings(\n",
              "      (word_embeddings): Embedding(30533, 768, padding_idx=0)\n",
              "      (position_embeddings): Embedding(512, 768)\n",
              "      (token_type_embeddings): Embedding(2, 768)\n",
              "      (LayerNorm): LayerNorm((768,), eps=1e-12, elementwise_affine=True)\n",
              "      (dropout): Dropout(p=0.1, inplace=False)\n",
              "    )\n",
              "    (encoder): BertEncoder(\n",
              "      (layer): ModuleList(\n",
              "        (0-11): 12 x BertLayer(\n",
              "          (attention): BertAttention(\n",
              "            (self): BertSdpaSelfAttention(\n",
              "              (query): Linear(in_features=768, out_features=768, bias=True)\n",
              "              (key): Linear(in_features=768, out_features=768, bias=True)\n",
              "              (value): Linear(in_features=768, out_features=768, bias=True)\n",
              "              (dropout): Dropout(p=0.1, inplace=False)\n",
              "            )\n",
              "            (output): BertSelfOutput(\n",
              "              (dense): Linear(in_features=768, out_features=768, bias=True)\n",
              "              (LayerNorm): LayerNorm((768,), eps=1e-12, elementwise_affine=True)\n",
              "              (dropout): Dropout(p=0.1, inplace=False)\n",
              "            )\n",
              "          )\n",
              "          (intermediate): BertIntermediate(\n",
              "            (dense): Linear(in_features=768, out_features=3072, bias=True)\n",
              "            (intermediate_act_fn): GELUActivation()\n",
              "          )\n",
              "          (output): BertOutput(\n",
              "            (dense): Linear(in_features=3072, out_features=768, bias=True)\n",
              "            (LayerNorm): LayerNorm((768,), eps=1e-12, elementwise_affine=True)\n",
              "            (dropout): Dropout(p=0.1, inplace=False)\n",
              "          )\n",
              "        )\n",
              "      )\n",
              "    )\n",
              "    (pooler): BertPooler(\n",
              "      (dense): Linear(in_features=768, out_features=768, bias=True)\n",
              "      (activation): Tanh()\n",
              "    )\n",
              "  )\n",
              "  (dropout): Dropout(p=0.1, inplace=False)\n",
              "  (classifier): Linear(in_features=768, out_features=3, bias=True)\n",
              ")"
            ]
          },
          "metadata": {},
          "execution_count": 40
        }
      ],
      "source": [
        "# Move model to GPU if available\n",
        "model.to(device)"
      ]
    },
    {
      "cell_type": "code",
      "execution_count": null,
      "id": "c634f7d7",
      "metadata": {
        "id": "c634f7d7",
        "colab": {
          "base_uri": "https://localhost:8080/"
        },
        "outputId": "31cf2e2b-e920-413f-ff4f-9caf48116f92"
      },
      "outputs": [
        {
          "output_type": "stream",
          "name": "stderr",
          "text": [
            "/usr/local/lib/python3.11/dist-packages/transformers/training_args.py:1611: FutureWarning: `evaluation_strategy` is deprecated and will be removed in version 4.46 of \ud83e\udd17 Transformers. Use `eval_strategy` instead\n",
            "  warnings.warn(\n",
            "Using the `WANDB_DISABLED` environment variable is deprecated and will be removed in v5. Use the --report_to flag to control the integrations used for logging result (for instance --report_to none).\n"
          ]
        },
        {
          "output_type": "stream",
          "name": "stdout",
          "text": [
            "\n",
            "Setting up training arguments...\n"
          ]
        }
      ],
      "source": [
        "# Training arguments\n",
        "print(\"\\nSetting up training arguments...\")\n",
        "training_args = TrainingArguments(\n",
        "    output_dir=\"./results/exp2\",\n",
        "    num_train_epochs=5,\n",
        "    per_device_train_batch_size=16,  # Can increase if GPU memory allows\n",
        "    per_device_eval_batch_size=32,\n",
        "    warmup_steps=500,\n",
        "    weight_decay=0.01,\n",
        "    logging_dir=\"./logs/exp2\",\n",
        "    logging_steps=100,\n",
        "    evaluation_strategy=\"epoch\",\n",
        "    save_strategy=\"epoch\",\n",
        "    load_best_model_at_end=True,\n",
        "    metric_for_best_model=\"f1\",\n",
        "    push_to_hub=False,\n",
        "    fp16=torch.cuda.is_available(),  # Use mixed precision if GPU is available\n",
        ")\n"
      ]
    },
    {
      "cell_type": "code",
      "execution_count": null,
      "id": "0d037d4b",
      "metadata": {
        "id": "0d037d4b"
      },
      "outputs": [],
      "source": [
        "# Initialize Trainer with early stopping\n",
        "trainer = Trainer(\n",
        "    model=model,\n",
        "    args=training_args,\n",
        "    train_dataset=train_dataset,\n",
        "    eval_dataset=val_dataset,\n",
        "    compute_metrics=compute_metrics,\n",
        "    callbacks=[EarlyStoppingCallback(early_stopping_patience=2)]\n",
        ")\n"
      ]
    },
    {
      "cell_type": "code",
      "execution_count": null,
      "id": "8be913b6",
      "metadata": {
        "id": "8be913b6",
        "colab": {
          "base_uri": "https://localhost:8080/",
          "height": 301
        },
        "outputId": "c60e4711-eeab-42be-def5-99d3153eda39"
      },
      "outputs": [
        {
          "output_type": "stream",
          "name": "stdout",
          "text": [
            "\n",
            "Training the model...\n"
          ]
        },
        {
          "output_type": "display_data",
          "data": {
            "text/plain": [
              "<IPython.core.display.HTML object>"
            ],
            "text/html": [
              "\n",
              "    <div>\n",
              "      \n",
              "      <progress value='1095' max='1095' style='width:300px; height:20px; vertical-align: middle;'></progress>\n",
              "      [1095/1095 02:47, Epoch 5/5]\n",
              "    </div>\n",
              "    <table border=\"1\" class=\"dataframe\">\n",
              "  <thead>\n",
              " <tr style=\"text-align: left;\">\n",
              "      <th>Epoch</th>\n",
              "      <th>Training Loss</th>\n",
              "      <th>Validation Loss</th>\n",
              "      <th>Accuracy</th>\n",
              "      <th>F1</th>\n",
              "      <th>Precision</th>\n",
              "      <th>Recall</th>\n",
              "    </tr>\n",
              "  </thead>\n",
              "  <tbody>\n",
              "    <tr>\n",
              "      <td>1</td>\n",
              "      <td>1.045700</td>\n",
              "      <td>0.957552</td>\n",
              "      <td>0.577333</td>\n",
              "      <td>0.621342</td>\n",
              "      <td>0.726884</td>\n",
              "      <td>0.577333</td>\n",
              "    </tr>\n",
              "    <tr>\n",
              "      <td>2</td>\n",
              "      <td>0.784600</td>\n",
              "      <td>0.591299</td>\n",
              "      <td>0.790667</td>\n",
              "      <td>0.799973</td>\n",
              "      <td>0.822984</td>\n",
              "      <td>0.790667</td>\n",
              "    </tr>\n",
              "    <tr>\n",
              "      <td>3</td>\n",
              "      <td>0.557400</td>\n",
              "      <td>0.714303</td>\n",
              "      <td>0.832000</td>\n",
              "      <td>0.829992</td>\n",
              "      <td>0.830326</td>\n",
              "      <td>0.832000</td>\n",
              "    </tr>\n",
              "    <tr>\n",
              "      <td>4</td>\n",
              "      <td>0.355400</td>\n",
              "      <td>0.740698</td>\n",
              "      <td>0.848000</td>\n",
              "      <td>0.845783</td>\n",
              "      <td>0.845088</td>\n",
              "      <td>0.848000</td>\n",
              "    </tr>\n",
              "    <tr>\n",
              "      <td>5</td>\n",
              "      <td>0.190500</td>\n",
              "      <td>0.836408</td>\n",
              "      <td>0.856000</td>\n",
              "      <td>0.855343</td>\n",
              "      <td>0.856768</td>\n",
              "      <td>0.856000</td>\n",
              "    </tr>\n",
              "  </tbody>\n",
              "</table><p>"
            ]
          },
          "metadata": {}
        },
        {
          "output_type": "execute_result",
          "data": {
            "text/plain": [
              "TrainOutput(global_step=1095, training_loss=0.5744386577170734, metrics={'train_runtime': 168.5019, 'train_samples_per_second': 103.856, 'train_steps_per_second': 6.498, 'total_flos': 1079176127400000.0, 'train_loss': 0.5744386577170734, 'epoch': 5.0})"
            ]
          },
          "metadata": {},
          "execution_count": 50
        }
      ],
      "source": [
        "# ## 7. Train Model\n",
        "\n",
        "# Train the model\n",
        "print(\"\\nTraining the model...\")\n",
        "trainer.train()\n"
      ]
    },
    {
      "cell_type": "code",
      "execution_count": null,
      "id": "06d014ea",
      "metadata": {
        "id": "06d014ea",
        "colab": {
          "base_uri": "https://localhost:8080/"
        },
        "outputId": "751f4c36-2ed5-438a-de4d-03d323b18e07"
      },
      "outputs": [
        {
          "output_type": "stream",
          "name": "stdout",
          "text": [
            "\n",
            "Saving the best model...\n"
          ]
        },
        {
          "output_type": "execute_result",
          "data": {
            "text/plain": [
              "('./results/exp2/tokenizer/tokenizer_config.json',\n",
              " './results/exp2/tokenizer/special_tokens_map.json',\n",
              " './results/exp2/tokenizer/vocab.txt',\n",
              " './results/exp2/tokenizer/added_tokens.json')"
            ]
          },
          "metadata": {},
          "execution_count": 51
        }
      ],
      "source": [
        "# Save the final model\n",
        "print(\"\\nSaving the best model...\")\n",
        "trainer.save_model(\"./results/exp2/best_model\")\n",
        "tokenizer.save_pretrained(\"./results/exp2/tokenizer\")\n"
      ]
    },
    {
      "cell_type": "code",
      "execution_count": null,
      "id": "be54e0aa",
      "metadata": {
        "id": "be54e0aa",
        "colab": {
          "base_uri": "https://localhost:8080/",
          "height": 265
        },
        "outputId": "d3e45f3e-626c-4afd-ba1b-ec785bf1c8f9"
      },
      "outputs": [
        {
          "output_type": "stream",
          "name": "stdout",
          "text": [
            "\n",
            "Evaluating on validation set...\n"
          ]
        },
        {
          "output_type": "display_data",
          "data": {
            "text/plain": [
              "<IPython.core.display.HTML object>"
            ],
            "text/html": [
              "\n",
              "    <div>\n",
              "      \n",
              "      <progress value='166' max='24' style='width:300px; height:20px; vertical-align: middle;'></progress>\n",
              "      [24/24 00:11]\n",
              "    </div>\n",
              "    "
            ]
          },
          "metadata": {}
        },
        {
          "output_type": "stream",
          "name": "stdout",
          "text": [
            "Validation results: {'eval_loss': 0.8364084362983704, 'eval_accuracy': 0.856, 'eval_f1': 0.8553432891776795, 'eval_precision': 0.8567684953024457, 'eval_recall': 0.856, 'eval_runtime': 1.7643, 'eval_samples_per_second': 425.091, 'eval_steps_per_second': 13.603, 'epoch': 5.0}\n",
            "\n",
            "Evaluating on Pidgin test set (in-language performance)...\n",
            "Pidgin test results: {'eval_loss': 0.8371557593345642, 'eval_accuracy': 0.848, 'eval_f1': 0.8491946310982936, 'eval_precision': 0.8538073468858413, 'eval_recall': 0.848, 'eval_runtime': 1.6063, 'eval_samples_per_second': 466.912, 'eval_steps_per_second': 14.941, 'epoch': 5.0}\n",
            "\n",
            "Evaluating on English test set (cross-lingual performance)...\n",
            "English test results: {'eval_loss': 1.8620436191558838, 'eval_accuracy': 0.516, 'eval_f1': 0.6485062681582919, 'eval_precision': 0.8817514592215483, 'eval_recall': 0.516, 'eval_runtime': 3.0576, 'eval_samples_per_second': 490.574, 'eval_steps_per_second': 15.371, 'epoch': 5.0}\n",
            "\n",
            "Evaluating on combined test set...\n",
            "Combined test results: {'eval_loss': 1.5142585039138794, 'eval_accuracy': 0.6266666666666667, 'eval_f1': 0.6858018051236129, 'eval_precision': 0.83615186429345, 'eval_recall': 0.6266666666666667, 'eval_runtime': 4.7315, 'eval_samples_per_second': 475.537, 'eval_steps_per_second': 15.006, 'epoch': 5.0}\n"
          ]
        }
      ],
      "source": [
        "# ## 8. Evaluation\n",
        "\n",
        "# Evaluate on validation set\n",
        "print(\"\\nEvaluating on validation set...\")\n",
        "val_results = trainer.evaluate(val_dataset)\n",
        "print(f\"Validation results: {val_results}\")\n",
        "\n",
        "# Evaluate on Pidgin test set\n",
        "print(\"\\nEvaluating on Pidgin test set (in-language performance)...\")\n",
        "pidgin_test_results = trainer.evaluate(pidgin_test_dataset)\n",
        "print(f\"Pidgin test results: {pidgin_test_results}\")\n",
        "\n",
        "# Evaluate on English test set\n",
        "print(\"\\nEvaluating on English test set (cross-lingual performance)...\")\n",
        "english_test_results = trainer.evaluate(english_test_dataset)\n",
        "print(f\"English test results: {english_test_results}\")\n",
        "\n",
        "# Evaluate on combined test set\n",
        "print(\"\\nEvaluating on combined test set...\")\n",
        "combined_test_results = trainer.evaluate(combined_test_dataset)\n",
        "print(f\"Combined test results: {combined_test_results}\")"
      ]
    },
    {
      "cell_type": "code",
      "execution_count": null,
      "id": "d2ae59b8",
      "metadata": {
        "id": "d2ae59b8"
      },
      "outputs": [],
      "source": [
        "# ## 9. Detailed Performance Analysis\n",
        "\n",
        "# Get predictions for the test sets\n",
        "def get_predictions(model, dataset, device):\n",
        "    \"\"\"Get model predictions for a dataset\"\"\"\n",
        "    dataloader = DataLoader(dataset, batch_size=16)\n",
        "    model.eval()\n",
        "    model.to(device)\n",
        "\n",
        "    all_preds = []\n",
        "    all_labels = []\n",
        "\n",
        "    with torch.no_grad():\n",
        "        for batch in tqdm(dataloader, desc=\"Getting predictions\"):\n",
        "            # Move batch to device\n",
        "            batch = {k: v.to(device) for k, v in batch.items()}\n",
        "            outputs = model(**{k: v for k, v in batch.items() if k != 'labels'})\n",
        "\n",
        "            logits = outputs.logits\n",
        "            predictions = torch.argmax(logits, dim=-1)\n",
        "\n",
        "            all_preds.extend(predictions.cpu().numpy())\n",
        "            all_labels.extend(batch['labels'].cpu().numpy())\n",
        "\n",
        "    return np.array(all_preds), np.array(all_labels)\n"
      ]
    },
    {
      "cell_type": "code",
      "execution_count": null,
      "id": "d3e13fa4",
      "metadata": {
        "id": "d3e13fa4",
        "colab": {
          "base_uri": "https://localhost:8080/",
          "height": 81,
          "referenced_widgets": [
            "36f5326301a4485f981eb626712e51f5",
            "9a5d0cb6365447a486c839f877b377b8",
            "f19b9549433447a7a054d66a66851e2a",
            "00eb10e224384defbce4adbd7ee7fbb9",
            "77578084c5a7424ba03cf21c5a54f90a",
            "f17d0a40b0bf48ac8e37d5c435ad4e7e",
            "83c738eb5bc24c5ea05dbf0b013c3297",
            "b90cdf0d030542eca03eef021cce6d2b",
            "649a55220265419fb71a0434a6eda7fe",
            "c0142eaa18dd4e59b58e0436c88e9b49",
            "16b799a42ebd41d591c217bcd29512be",
            "8b075ec86a294acc957048d6b650a61e",
            "c081143a58fb46208adb1146304a98a9",
            "8721c75b61b5462b8234c975a6a4723f",
            "160f3d4d3cf54b278d960c49b41e2b91",
            "1ff28cd880ed4fb485255500e977da9c",
            "43fb9192e83b4360a97b403b121e5b5a",
            "c09dca7030eb444d839f8183064fe1de",
            "98acdd40b2b449448b607bf153f81de4",
            "c58f2de0808e47fe943f59ec1b53ca24",
            "77ab602fa3a6469490046e42a31e1a28",
            "3b4228aafcd24d2582958d48d570ad9e"
          ]
        },
        "outputId": "7660fc03-afcf-437b-c31d-41b0d2fc1596"
      },
      "outputs": [
        {
          "output_type": "display_data",
          "data": {
            "text/plain": [
              "Getting predictions:   0%|          | 0/47 [00:00<?, ?it/s]"
            ]
          },
          "metadata": {}
        },
        {
          "output_type": "display_data",
          "data": {
            "text/plain": [
              "Getting predictions:   0%|          | 0/94 [00:00<?, ?it/s]"
            ]
          },
          "metadata": {}
        }
      ],
      "source": [
        "# Get predictions\n",
        "pidgin_preds, pidgin_labels = get_predictions(model, pidgin_test_dataset, device)\n",
        "english_preds, english_labels = get_predictions(model, english_test_dataset, device)\n"
      ]
    },
    {
      "cell_type": "code",
      "execution_count": null,
      "id": "2a11568d",
      "metadata": {
        "id": "2a11568d"
      },
      "outputs": [],
      "source": [
        "# Detailed metrics\n",
        "def print_detailed_metrics(preds, labels, dataset_name):\n",
        "    \"\"\"Print detailed metrics for a dataset\"\"\"\n",
        "    acc = accuracy_score(labels, preds)\n",
        "    precision, recall, f1, _ = precision_recall_fscore_support(labels, preds, average='weighted')\n",
        "\n",
        "    print(f\"\\n{dataset_name} Detailed Metrics:\")\n",
        "    print(f\"Accuracy: {acc:.4f}\")\n",
        "    print(f\"F1 Score (weighted): {f1:.4f}\")\n",
        "    print(f\"Precision (weighted): {precision:.4f}\")\n",
        "    print(f\"Recall (weighted): {recall:.4f}\")\n",
        "\n",
        "    # Classification report\n",
        "    label_names = ['positive', 'negative', 'neutral']\n",
        "    print(\"\\nClassification Report:\")\n",
        "    print(classification_report(labels, preds, target_names=label_names))\n",
        "\n",
        "    # Confusion matrix\n",
        "    cm = confusion_matrix(labels, preds)\n",
        "    plt.figure(figsize=(8, 6))\n",
        "    sns.heatmap(cm, annot=True, fmt='d', cmap='Blues', xticklabels=label_names, yticklabels=label_names)\n",
        "    plt.title(f'{dataset_name} Confusion Matrix')\n",
        "    plt.ylabel('True Label')\n",
        "    plt.xlabel('Predicted Label')\n",
        "    plt.show()\n"
      ]
    },
    {
      "cell_type": "code",
      "execution_count": null,
      "id": "96a221b1",
      "metadata": {
        "id": "96a221b1",
        "colab": {
          "base_uri": "https://localhost:8080/",
          "height": 1000
        },
        "outputId": "d3ab8fea-28b3-4837-d635-66fef49845c7"
      },
      "outputs": [
        {
          "output_type": "stream",
          "name": "stdout",
          "text": [
            "\n",
            "Pidgin Test Detailed Metrics:\n",
            "Accuracy: 0.8480\n",
            "F1 Score (weighted): 0.8492\n",
            "Precision (weighted): 0.8538\n",
            "Recall (weighted): 0.8480\n",
            "\n",
            "Classification Report:\n",
            "              precision    recall  f1-score   support\n",
            "\n",
            "    positive       0.78      0.67      0.72        81\n",
            "    negative       0.92      0.89      0.91       465\n",
            "     neutral       0.72      0.83      0.77       204\n",
            "\n",
            "    accuracy                           0.85       750\n",
            "   macro avg       0.81      0.79      0.80       750\n",
            "weighted avg       0.85      0.85      0.85       750\n",
            "\n"
          ]
        },
        {
          "output_type": "display_data",
          "data": {
            "text/plain": [
              "<Figure size 800x600 with 2 Axes>"
            ],
            "image/png": "[encoded data removed]"
          },
          "metadata": {}
        },
        {
          "output_type": "stream",
          "name": "stdout",
          "text": [
            "\n",
            "English Test (Cross-lingual) Detailed Metrics:\n",
            "Accuracy: 0.5160\n",
            "F1 Score (weighted): 0.6485\n",
            "Precision (weighted): 0.8818\n",
            "Recall (weighted): 0.5160\n",
            "\n",
            "Classification Report:\n",
            "              precision    recall  f1-score   support\n",
            "\n",
            "    positive       0.94      0.57      0.71      1149\n",
            "    negative       0.69      0.33      0.45       347\n",
            "     neutral       0.00      0.75      0.01         4\n",
            "\n",
            "    accuracy                           0.52      1500\n",
            "   macro avg       0.54      0.55      0.39      1500\n",
            "weighted avg       0.88      0.52      0.65      1500\n",
            "\n"
          ]
        },
        {
          "output_type": "display_data",
          "data": {
            "text/plain": [
              "<Figure size 800x600 with 2 Axes>"
            ],
            "image/png": "[encoded data removed]"
          },
          "metadata": {}
        }
      ],
      "source": [
        "# Print detailed metrics\n",
        "print_detailed_metrics(pidgin_preds, pidgin_labels, \"Pidgin Test\")\n",
        "print_detailed_metrics(english_preds, english_labels, \"English Test (Cross-lingual)\")\n"
      ]
    },
    {
      "cell_type": "code",
      "execution_count": null,
      "id": "9fbfa344",
      "metadata": {
        "id": "9fbfa344"
      },
      "outputs": [],
      "source": [
        "# ## 10. Analyze Error Cases\n",
        "\n",
        "# Function to analyze error cases\n",
        "def analyze_errors(texts, preds, labels, dataset_name, max_examples=10):\n",
        "    \"\"\"Analyze and display error cases\"\"\"\n",
        "    errors = []\n",
        "    for i in range(len(texts)):\n",
        "        if preds[i] != labels[i]:\n",
        "            errors.append({\n",
        "                'text': texts[i],\n",
        "                'true_label': labels[i],\n",
        "                'pred_label': preds[i]\n",
        "            })\n",
        "\n",
        "    print(f\"\\n{dataset_name} Error Analysis ({len(errors)} errors out of {len(texts)} samples):\")\n",
        "    print(f\"Error rate: {len(errors)/len(texts):.2%}\")\n",
        "\n",
        "    # Group errors by type\n",
        "    error_types = {}\n",
        "    for error in errors:\n",
        "        key = f\"{error['true_label']} -> {error['pred_label']}\"\n",
        "        if key not in error_types:\n",
        "            error_types[key] = []\n",
        "        error_types[key].append(error)\n",
        "\n",
        "    # Print error distribution\n",
        "    print(\"\\nError distribution:\")\n",
        "    for error_type, examples in error_types.items():\n",
        "        true_label, pred_label = error_type.split(' -> ')\n",
        "        label_map_inv = {0: 'positive', 1: 'negative', 2: 'neutral'}\n",
        "        true_name = label_map_inv[int(true_label)]\n",
        "        pred_name = label_map_inv[int(pred_label)]\n",
        "        print(f\"  {true_name} predicted as {pred_name}: {len(examples)} cases ({len(examples)/len(errors):.2%} of errors)\")\n",
        "\n",
        "    # Show examples of each error type\n",
        "    print(\"\\nExample errors by type:\")\n",
        "    for error_type, examples in error_types.items():\n",
        "        true_label, pred_label = error_type.split(' -> ')\n",
        "        label_map_inv = {0: 'positive', 1: 'negative', 2: 'neutral'}\n",
        "        true_name = label_map_inv[int(true_label)]\n",
        "        pred_name = label_map_inv[int(pred_label)]\n",
        "\n",
        "        print(f\"\\n{true_name} predicted as {pred_name}:\")\n",
        "        for i, error in enumerate(examples[:max_examples]):\n",
        "            print(f\"  Example {i+1}: {error['text']}\")"
      ]
    },
    {
      "cell_type": "code",
      "execution_count": null,
      "id": "f7651fd8",
      "metadata": {
        "id": "f7651fd8",
        "colab": {
          "base_uri": "https://localhost:8080/"
        },
        "outputId": "a7bfe6e1-12cd-4c5b-d8da-0b0dea607882"
      },
      "outputs": [
        {
          "output_type": "stream",
          "name": "stdout",
          "text": [
            "\n",
            "Pidgin Test Error Analysis (114 errors out of 750 samples):\n",
            "Error rate: 15.20%\n",
            "\n",
            "Error distribution:\n",
            "  positive predicted as negative: 8 cases (7.02% of errors)\n",
            "  neutral predicted as negative: 26 cases (22.81% of errors)\n",
            "  negative predicted as neutral: 46 cases (40.35% of errors)\n",
            "  neutral predicted as positive: 9 cases (7.89% of errors)\n",
            "  negative predicted as positive: 6 cases (5.26% of errors)\n",
            "  positive predicted as neutral: 19 cases (16.67% of errors)\n",
            "\n",
            "Example errors by type:\n",
            "\n",
            "positive predicted as negative:\n",
            "  Example 1: awesome news kudos to oga jide bia na only lagos dey this country the remaining 35 states wetin dey sup i know you can't match lagos developmentally but some of you no just dey try at all not even to fix potholes\n",
            "  Example 2: those who voted apc and pdp will vote lp if they are given a second chance presently anybody who says otherwise dey try cover shame\n",
            "  Example 3: we know the forge master has been buying lobbyist all over the world to launder his image his image is in tatters the man said if this result is released it will cause him irreparable damage dumb followers are online shouting nothing dey happenit will be interesting when he travels next for the next world leaders meeting he will be avoided like plague\n",
            "  Example 4: well since you're a nigerian of what use living since you can't amount to something good you go just dey type nonsense without reasoning\n",
            "  Example 5: to gimme your better code nii been dey wait u sincejust dey gimme anything u play abeg\n",
            "  Example 6: the mumu man na e dey even record the thing no shamefor me she made a very good decision\n",
            "  Example 7: no wahala if money dey involved i go do bounty hunter pass django unchained\n",
            "  Example 8: shey na display dey win cup no evidence\n",
            "\n",
            "neutral predicted as negative:\n",
            "  Example 1: obidient is full of thiefs yahoo boys olosho and igbos make them leak the videos on his phone make we see the agulu lizard biting his iips to the nudity his olosho supporters dey send to am\n",
            "  Example 2: i swear' when i see the writeup i just smile'' people dey sha''\n",
            "  Example 3: hit the ground running like 'owo mi da' merchant who detaches from a speeding molue the run no dey last and e dey always end in reverse movement\n",
            "  Example 4: audio revenue mago mago lets hear the percentage of those benefitting from the igr less than 15 monkeys dey work baboon they chop olorun ma se wa ni abawon waye ka sise bi eru ko da nkan small scale entreapreneurs are groaning from overtaxations while omo onile's agbero's are making free monies using gestapo's style owomida approach to rough handle people take their hard earned capital talkless of gains\n",
            "  Example 5: his eye no cover like this immediately after the beating nah his face no go swell up instantly you no know as human body dey do\n",
            "  Example 6: chicken republic still dey hire security guards some people are not destined for great exploits just put them nearby to food and watch them dance being co travellers would only lead them on the road to perdition their only chance to better themselves is if they go their separate ways\n",
            "  Example 7: you would have called him out on social media if it was true the dead cannot speak do you even have proof abi you and police dey fabricate lies against him\n",
            "  Example 8: everybody with him own wahalaothers dey prepare for war your own concern na anuswetin you been dey do gan gan wey make your anus tearbetter get ready because you go carry that anus like that go war for niger\n",
            "  Example 9: lolpin us location to your village make we go find out even who commit crime dey win court case for 9ja EMOJI EMOJI\n",
            "  Example 10: i tried the account number and it's truecrazy country with f cked up citizenstomorrow we go say na buhari and tinubu dey spoil nigeria\n",
            "\n",
            "negative predicted as neutral:\n",
            "  Example 1: believe this and believe horses do fly yoruba propaganda eh kwa where are the families in jos their names and location apc just dey scam nigerians like say them be fool and imps god bless nigerians god bless nigeria\n",
            "  Example 2: the lagos state government hosted a dinner for the president at city hall on lagos island on december 10th 1991 guests at the dinner included general ibrahim badamasi babangida president and commander in chief of the armed forces of the federal republic of nigeria mrs maryam babangida first ladygeneral sani abacha minister of defencelieutenant general salihu ibrahim chief of army staff alhaji aliyu mohammed secretary to the government of the federation lieutenant general joshua dogonyaromajor general abdulsalami abubakarcolonel raji alagbe rasaki lagos state governormrs fatimat rasaki lagos state first ladyalhaja lateefat okunnu deputy governor of lagos state alhaji lateef femi okunnu former minister of works and second gentleman of lagos statethe honourable justice ligali ayorinde chief judge of lagosoba adeyinka oyekan ii oba of lagosde wheno aholu menu toyi oba akran of badagrychief alex akinyele minister of informationchief duro onabule chief press secretary to the presidentdr babatunde st mathew daniels he was a commissioner in many ministries in lagos state i can't remember what ministry he was in at the time engineer funso williams permanent secretary director general lagos state ministry of works chief rasheed gbadamosi businessman youngest lagos state commissioner in the 1970s he was the son of chief s o gbadamosi prince ademola adeiji adele chairman lagos island local governmentalhaja abibatu mogaji president general of market women in nigeria mother of bola tinubu princess abiola dosunmu elegbede fernandez the erelu of lagos mr olabode rhodes vivour director of public prosecution mcslekan ogunbanwo of lagos television he later became the ceo of lagos television in the 2010s tinu badejo of lagos televisionchief adeniyi williamspicture 1 l r mrs fatimat rasaki general ibrahim babangida and colonel raji rasaki picture 2 mrs fatimat rasaki general ibrahim babangida colonel raji rasaki and mrs maryam babangida picture 3 mrs ibrahim lieutenant general salihu ibrahim oba adeyinka oyekan and mrs fatimat rasaki picture 4 major general joshua dogonyaro major general abdulsalami abubakar and mrs ibrahim\n",
            "  Example 3: make you dey wait for person wey forge him own certificate to reform education sector for unahim wey forge him own na mumu naaa\n",
            "  Example 4: was the airstrike against those using small canoe and jerricans or was it against those using big ships to steal our oil hahaha how can the military strike itself small yash dey shake\n",
            "  Example 5: democracy wins as apc is sacked now the judiciary is okay we dey hear obi and atiku but never their vps where's datti where's okowa\n",
            "  Example 6: we go come be like switzerland for agbadeux republic citizens them EMOJI them go dey write exams tire for embassy just to get our visa anyone wey genuinely repent we grant am the visa isolate and disinfect am for airport facilities for 2 weeks to eliminate any traces of the corn demic virus\n",
            "  Example 7: atiku wey dey wine EMOJI\n",
            "  Example 8: under proper economic circumstances decisive matters involving the apex bank such as this are supposed to count as positive indicators that will instantly reflect positively on the current standing of the exchange rates but nigeria under apc just dey carry us go where we no know\n",
            "  Example 9: after i book space finish i realize say na thrashi dey go my house\n",
            "  Example 10: we dey rep well if you see how we dey hype our country here you wouldn't believe it there's no yoruba or hausa or igbo here if you belittle yourself as some people do back home oyibo go finish you\n",
            "\n",
            "neutral predicted as positive:\n",
            "  Example 1: wetin fela go sing if him dey alive now\n",
            "  Example 2: i just say make i give you update sayisrael army don enter gaza dey do better fierce gun battle dey give the terrorists hot rpgs cheesy\n",
            "  Example 3: abacha and idi amin go still dey alive\n",
            "  Example 4: the economy dey touch everybody URL\n",
            "  Example 5: omoh nah my angel u dey lovepeddler\n",
            "  Example 6: like d way someone always ask yahoo boyz dey use corolla\n",
            "  Example 7: ok dey are doing a fine job renovating our very much working refinery ok done praising them wat next\n",
            "  Example 8: dey there my 2 yr old son too sabi explain the beating part he will be like daddy my mummy beat me daddy my mummy bite my head bite your head ke kilode n i will b like oya tell your mummy to take time very funny boy\n",
            "  Example 9: so close to first to comment but then life happened we try again next time EMOJI be like na 4 people dey go house today\n",
            "\n",
            "negative predicted as positive:\n",
            "  Example 1: hmm people who live in lagos dey try o i no fit abeg\n",
            "  Example 2: una just dey take risk what if she rejected the proposal lols but congratulations to him she accepted\n",
            "  Example 3: lol thieves dey always sabi each other\n",
            "  Example 4: pep guardiola EMOJI the fastest coach to reach 100 pl wins EMOJI the fastest coach to reach 150 pl wins EMOJI the fastest coach to reach 200 pl winsthe greatest manager of all times premier league fantoys said epl was gonna be hard nut to crack it was even easier than bundesliga baba turn epl to farmers league EMOJI them say na money e dey take win whereas manurefc outspent city and have nothing to show for it\n",
            "  Example 5: bloody waste of time when e be say the process wey you president use take attain excellency nor dey excellent abegi 2nd base jaaaare EMOJI EMOJI\n",
            "  Example 6: good moreso we're made to believe that we have 3 arms of government lol na only executive me i know o president dey appoint senate president dey appoint cjn how do we expect the checks and balance which i believe is the sole aim of having different arms\n",
            "\n",
            "positive predicted as neutral:\n",
            "  Example 1: the next governor of edo state na better people dey join labour party and not touts like we have in apc\n",
            "  Example 2: well at a pointthis might seem like the best idea but thenif he responds to every bashing with a backdown he won't achieve much successmost people would say it's the club but thenhow did the club respond to such criticism from the handler of the club's social mediaosimhen should better be taking that penalties edo no dey carry lasthe wan come carry last for herewell thoughi hope he gets his motivation backcuz criticism is part of the game\n",
            "  Example 3: coming from someone who's always against tinubu na only you dey condemn and na still only you dey advice people to practice the same thing wey you dey condemn is god not really wonderful\n",
            "  Example 4: make them first bring the 500m wey dey their hand make we dey spend that one my great grand children go pay\n",
            "  Example 5: na abroad den dey import electricity too i thought nigeria is generating electricity by themselves once you hear news like this just expect the news of increase in electricity tariff in few days time\n",
            "  Example 6: is this some kind of joke or what on the other hand nan things like this dey make oyibo looks very special compared to blaq people\n",
            "  Example 7: igbo amakathe great developerschristmas don dey come guy man wan show say him don arrive\n",
            "  Example 8: god forgive me o i be join those wey dey use the guy as joke he's somebody's child after all nobody is perfect\n",
            "  Example 9: 1 you mean kind of like how oyinbo dey wear bathing suit dey swim with their kids while africans feel they need to cover it all up in the name of modesty yet their children are just as hypersexualized from a young age 2 i have to disagree with this notion that it is wrong or right i believe it is of great importance to raise children who are very very comfortable with their body and that of others so long as the parents are not having sex in front of their kids i don't see anything wrong with it even though i would not go for it myself\n",
            "  Example 10: na when nta dey plan to upgrade and rebrand this their news channel abeg we born meet these their boring colours and logo we go get grown up children and nta still dey like the low budget chinese movies we grew with in the early 90s na wa o\n"
          ]
        }
      ],
      "source": [
        "# Analyze Pidgin errors\n",
        "analyze_errors(\n",
        "    pidgin_test['cleaned_text'].tolist(),\n",
        "    pidgin_preds,\n",
        "    pidgin_labels,\n",
        "    \"Pidgin Test\"\n",
        ")"
      ]
    },
    {
      "cell_type": "code",
      "execution_count": null,
      "id": "67a56371",
      "metadata": {
        "id": "67a56371",
        "colab": {
          "base_uri": "https://localhost:8080/"
        },
        "outputId": "a77724fa-6d34-4318-c1c3-910917f60a80"
      },
      "outputs": [
        {
          "output_type": "stream",
          "name": "stdout",
          "text": [
            "\n",
            "English Test Error Analysis (726 errors out of 1500 samples):\n",
            "Error rate: 48.40%\n",
            "\n",
            "Error distribution:\n",
            "  positive predicted as neutral: 442 cases (60.88% of errors)\n",
            "  positive predicted as negative: 52 cases (7.16% of errors)\n",
            "  negative predicted as neutral: 192 cases (26.45% of errors)\n",
            "  negative predicted as positive: 39 cases (5.37% of errors)\n",
            "  neutral predicted as negative: 1 cases (0.14% of errors)\n",
            "\n",
            "Example errors by type:\n",
            "\n",
            "positive predicted as neutral:\n",
            "  Example 1: it s kind of big a little hard to store in my spice cupboard but it s a fabulous spice and adds spunk to any dish\n",
            "  Example 2: this is good honey it has a good strong flavor i am not one who likes a mild honey and i always prefer a raw unfiltered honey this is delicious and i will buy again\n",
            "  Example 3: these had an odd taste to them kind of like when you leave a food item close to another in the fridge and it absorbs the flavor of something closeby i had intended to keep this item on a subscription but due to the odd taste i ve cancelled and ordered from wal mart\n",
            "  Example 4: this one is the only truly sugar free pancake keto mix on the market\n",
            "  Example 5: you cant say where's the beef with these beefsticks smallest most satisfying meat stick your ever stuff in your mouth you will want for your next face meat stuffing\n",
            "  Example 6: this kirkland microwave popcorn is very tasty and the reviews on amazon were mostly 5 stars just 2 minutes in the microwave and 98 of the pop corn seeds all pop up large and fluffy you will enjoy the buttery lightly salted flavor highly recommended d w\n",
            "  Example 7: finley ground smooth and light medium roast flavor i enjoy coffee and the only downside is that if i have that one extra cup it makes me jittery and i do not like that feeling this coffee allowed me to enjoy one more cup without that feeling of the jitters i like the mild flavor the ingredients are a plus for me lion's mane is great for supporting cognitive health ashwagandha is helpful fir support with stress and restful sleep yes i would definitely order this coffee again\n",
            "  Example 8: i have a chicken biryani recipe i learned to make in africa and it calls for 1 4 teaspoon fenugreek of course it is impossible to find in a store near me and ordering at amazon is so convenient with prime it arrived in a day so i made the biryani and it was delicious i'd say this spice balances out other flavors and can be combined with many other spices in indian food if you taste it straight from the jar it is bitter and creamy but in a recipe it adds just the right flavor elements i look forward to finding other recipes using this spice the rebecca review\n",
            "  Example 9: it's satisfactory price could be lower\n",
            "  Example 10: if you like red hots then this tea is for you this is a very sweet tea it does not say there is sugar added but it taste sweet i drink my tea without sugar so it seems too sweet to me but if you normally add sugar it may taste just right it is a very unique tea flavor\n",
            "\n",
            "positive predicted as negative:\n",
            "  Example 1: to die for\n",
            "  Example 2: i was very happy with this product and the speed in which it was delivered my only problem is i did not order the right product i wanted black seep powder so i just ran the seeds through the blender\n",
            "  Example 3: must admit the idea of ordering seafood from amazon sounded a bit sketchy but i took a chance and for the price convenience and quality these scallops are a fine offering no tinny taste they thaw quickly in a bowl of water the ultimate convenience protein\n",
            "  Example 4: the seeds were not included in the box the packet was empty\n",
            "  Example 5: item sold by traders joe i read criticism but seller said it had to do with packing etc i was happy to be able to buy this product as there is no trader joes in this area\n",
            "  Example 6: decided to try this out as a gift for my wife for x mas let me say that it worked out great she loved the wines and shipping only took a couple of days so it arrived perfectly on time only bad thing is that you have to be home for it to be delivered since it's booze and you have to provide proof of age that was expected though and so doesn't rate removing a star\n",
            "  Example 7: great product this is a game changer for low carb diets you wont regret this purchase\n",
            "  Example 8: my fave sports drink i never drink the other bread and ordering this here is so easy\n",
            "  Example 9: i dislike the fact that it s a fake one\n",
            "  Example 10: need this 1 box not enough in this house\n",
            "\n",
            "negative predicted as neutral:\n",
            "  Example 1: french brew was bitter and tasted like it was scorched if this is what it is supposed to taste likekevin it is not for me i'll finish what i bought but never again i went so far as asking a friend to try and he agreed it tasted scorched burned\n",
            "  Example 2: dry crispy did trick\n",
            "  Example 3: bottle shattered upon delivery and leaked all over my front porch thanks for being completely useless and a waste of money\n",
            "  Example 4: arrived expired expired well before i ordered\n",
            "  Example 5: did not dissolve well in any liquids thank your\n",
            "  Example 6: doesn't smell or taste like freshly baked bread mostly it just smells sweet i wouldn't buy it again and am not sure what to do with the rest of the bottle i have\n",
            "  Example 7: way over priced EMOJI\n",
            "  Example 8: it is a bbq kind of taste but is as thick as water so you cannot cook anything in it\n",
            "  Example 9: i made this cake and thought it would taste great and rise just like a regular cake does this was not the case this cake did not taste like cake taste to me anyway it seemed really spongy to me i would not recomend this product\n",
            "  Example 10: colors are weak\n",
            "\n",
            "negative predicted as positive:\n",
            "  Example 1: why starwest botanical why change to china this was the best tea ever this pic shows my last bag and it is almost gone i'll be happy to buy it again once it's produced processed packaged in the us\n",
            "  Example 2: extremely sweet ok for adding in to a recipe like as a sweetener flavor to cranberry sause but way too sweet for any other use there's other products that taste better\n",
            "  Example 3: should have listened to reviews this is just a butter pastry nothing like the baklawa i have had\n",
            "  Example 4: i should read the description better buyer beware this is a small bag maybe will get five servings from it\n",
            "  Example 5: my cans came all warped like they were left in heat won t stand in the fridge love the drink though\n",
            "  Example 6: i like to try food that is different and exotic even though these chips were over priced 11 00 for this little 3 53 oz container i had to try them i imagined a light fava bean chip similar to a potato chip needless to say that was not the case fava beans in themselves are very hard anyway but if someone is making a chip out of it one would expect them to be well like chips in my opinion they were as hard as a rock just what you would expect a fava bean to be like i could have broken a tooth that s the consistency of these fava chips the salt made them tasty but it couldn t hide the after taste as if one were eating a mouthful of fava bean flour i threw a handful into my soup thinking they would get soft and be more enjoyable they did not get too much softer i would not buy them again\n",
            "  Example 7: even though these were fairly good quality the majority of them arrived detached from the sticks a little disappointed with that quite large for cupcakes but still worked okay\n",
            "  Example 8: i ve noticed that i can t taste any pumpkin flavor i add pumpkin pie spice to my coffee i ve tested the coffee mate brand as well and it tastes normal for pumpkin pie flavor coffee mate cost more so in the end i buy this and add spice\n",
            "  Example 9: i like their sweetener and was hopeful about this blueberry muffin mix however it took much longer to cook than the package said and even after having to put them back in the oven for another 15 min the end product was very bland and disappointing\n",
            "  Example 10: much better if you go pick out your own hot overcooked and old if delivered\n",
            "\n",
            "neutral predicted as negative:\n",
            "  Example 1: 67 for my books no complaints 67 more than i had plus i m on book voucher\n"
          ]
        }
      ],
      "source": [
        "# Analyze English errors\n",
        "analyze_errors(\n",
        "    english_test['cleaned_text'].tolist(),\n",
        "    english_preds,\n",
        "    english_labels,\n",
        "    \"English Test\"\n",
        ")"
      ]
    },
    {
      "cell_type": "code",
      "execution_count": null,
      "id": "d99c7f90",
      "metadata": {
        "id": "d99c7f90"
      },
      "outputs": [],
      "source": [
        "# ## 11. Compare Performance Across Languages\n",
        "\n",
        "# Reverse comparison to Experiment 1 (now Pidgin is in-language, English is cross-lingual)\n",
        "def plot_performance_comparison(pidgin_metrics, english_metrics):\n",
        "    \"\"\"Plot performance comparison between languages\"\"\"\n",
        "    metrics = ['accuracy', 'f1', 'precision', 'recall']\n",
        "    pidgin_scores = [pidgin_metrics[f'eval_{m}'] for m in metrics]\n",
        "    english_scores = [english_metrics[f'eval_{m}'] for m in metrics]\n",
        "\n",
        "    x = np.arange(len(metrics))\n",
        "    width = 0.35\n",
        "\n",
        "    fig, ax = plt.subplots(figsize=(10, 6))\n",
        "    rects1 = ax.bar(x - width/2, pidgin_scores, width, label='Pidgin (In-language)')\n",
        "    rects2 = ax.bar(x + width/2, english_scores, width, label='English (Cross-lingual)')\n",
        "\n",
        "    ax.set_ylabel('Score')\n",
        "    ax.set_title('Performance Comparison: Pidgin vs. English')\n",
        "    ax.set_xticks(x)\n",
        "    ax.set_xticklabels(metrics)\n",
        "    ax.legend()\n",
        "\n",
        "    # Add value labels\n",
        "    def autolabel(rects):\n",
        "        for rect in rects:\n",
        "            height = rect.get_height()\n",
        "            ax.annotate(f'{height:.3f}',\n",
        "                        xy=(rect.get_x() + rect.get_width() / 2, height),\n",
        "                        xytext=(0, 3),\n",
        "                        textcoords=\"offset points\",\n",
        "                        ha='center', va='bottom')\n",
        "\n",
        "    autolabel(rects1)\n",
        "    autolabel(rects2)\n",
        "\n",
        "    fig.tight_layout()\n",
        "    plt.show()"
      ]
    },
    {
      "cell_type": "code",
      "execution_count": null,
      "id": "a03c901c",
      "metadata": {
        "id": "a03c901c",
        "colab": {
          "base_uri": "https://localhost:8080/",
          "height": 607
        },
        "outputId": "7d446757-4c11-4a08-f195-088d89dee1b6"
      },
      "outputs": [
        {
          "output_type": "display_data",
          "data": {
            "text/plain": [
              "<Figure size 1000x600 with 1 Axes>"
            ],
            "image/png": "[encoded data removed]"
          },
          "metadata": {}
        }
      ],
      "source": [
        "# Plot performance comparison\n",
        "plot_performance_comparison(pidgin_test_results, english_test_results)"
      ]
    },
    {
      "cell_type": "code",
      "execution_count": null,
      "id": "d393fa29",
      "metadata": {
        "id": "d393fa29",
        "colab": {
          "base_uri": "https://localhost:8080/",
          "height": 562
        },
        "outputId": "a06e06a6-e514-4940-924e-efdcbdb941fb"
      },
      "outputs": [
        {
          "output_type": "execute_result",
          "data": {
            "text/plain": [
              "<matplotlib.legend.Legend at 0x7836d0148f50>"
            ]
          },
          "metadata": {},
          "execution_count": 62
        },
        {
          "output_type": "display_data",
          "data": {
            "text/plain": [
              "<Figure size 1000x600 with 1 Axes>"
            ],
            "image/png": "[encoded data removed]"
          },
          "metadata": {}
        }
      ],
      "source": [
        "# ## 12. Compare to Experiment 1 Results\n",
        "\n",
        "# You can fill in the Experiment 1 results here to create a comparison\n",
        "exp1_english_accuracy = 0.9693  # From Experiment 1 results\n",
        "exp1_pidgin_accuracy = 0.5493   # From Experiment 1 results\n",
        "\n",
        "exp2_english_accuracy = english_test_results['eval_accuracy']\n",
        "exp2_pidgin_accuracy = pidgin_test_results['eval_accuracy']\n",
        "\n",
        "# Create comparison chart\n",
        "labels = ['English Test Data', 'Pidgin Test Data']\n",
        "exp1_scores = [exp1_english_accuracy, exp1_pidgin_accuracy]\n",
        "exp2_scores = [exp2_english_accuracy, exp2_pidgin_accuracy]\n",
        "\n",
        "x = np.arange(len(labels))\n",
        "width = 0.35\n",
        "\n",
        "fig, ax = plt.subplots(figsize=(10, 6))\n",
        "rects1 = ax.bar(x - width/2, exp1_scores, width, label='Exp 1: BERT on English')\n",
        "rects2 = ax.bar(x + width/2, exp2_scores, width, label='Exp 2: BERT on Pidgin')\n",
        "\n",
        "ax.set_ylabel('Accuracy')\n",
        "ax.set_title('Cross-Experiment Performance Comparison')\n",
        "ax.set_xticks(x)\n",
        "ax.set_xticklabels(labels)\n",
        "ax.legend()\n"
      ]
    },
    {
      "cell_type": "code",
      "execution_count": null,
      "id": "cb16ca16",
      "metadata": {
        "id": "cb16ca16"
      },
      "outputs": [],
      "source": [
        "# Add value labels\n",
        "def autolabel(rects):\n",
        "    for rect in rects:\n",
        "        height = rect.get_height()\n",
        "        ax.annotate(f'{height:.3f}',\n",
        "                    xy=(rect.get_x() + rect.get_width() / 2, height),\n",
        "                    xytext=(0, 3),\n",
        "                    textcoords=\"offset points\",\n",
        "                    ha='center', va='bottom')\n",
        "\n",
        "autolabel(rects1)\n",
        "autolabel(rects2)\n",
        "\n",
        "fig.tight_layout()\n",
        "plt.show()"
      ]
    },
    {
      "cell_type": "code",
      "execution_count": null,
      "id": "14c06e63",
      "metadata": {
        "id": "14c06e63"
      },
      "outputs": [],
      "source": [
        "# ## 13. Save Results and Summary\n",
        "\n",
        "# Create output directory if it doesn't exist\n",
        "os.makedirs(\"./results/exp2\", exist_ok=True)\n",
        "\n",
        "# Save all results\n",
        "results_summary = {\n",
        "    'validation': val_results,\n",
        "    'pidgin_test': pidgin_test_results,\n",
        "    'english_test': english_test_results,\n",
        "    'combined_test': combined_test_results\n",
        "}"
      ]
    },
    {
      "cell_type": "code",
      "execution_count": null,
      "id": "9d8c70eb",
      "metadata": {
        "id": "9d8c70eb",
        "colab": {
          "base_uri": "https://localhost:8080/"
        },
        "outputId": "ef5884a1-84a2-4fd8-a34f-a1c7edec00ac"
      },
      "outputs": [
        {
          "output_type": "stream",
          "name": "stdout",
          "text": [
            "\n",
            "Experiment completed! Results saved to ./results/exp2/results_summary.txt\n"
          ]
        }
      ],
      "source": [
        "# Write results to file\n",
        "with open(\"./results/exp2/results_summary.txt\", \"w\") as f:\n",
        "    f.write(\"Experiment 2: BERT-base-uncased fine-tuned on Nigerian Pidgin\\n\")\n",
        "    f.write(\"=============================================\\n\\n\")\n",
        "\n",
        "    f.write(\"Model: bert-base-uncased with class weights\\n\")\n",
        "    f.write(f\"Train dataset size: {len(train_dataset)}\\n\")\n",
        "    f.write(f\"Validation dataset size: {len(val_dataset)}\\n\")\n",
        "    f.write(f\"Pidgin test dataset size: {len(pidgin_test_dataset)}\\n\")\n",
        "    f.write(f\"English test dataset size: {len(english_test_dataset)}\\n\")\n",
        "    f.write(f\"Combined test dataset size: {len(combined_test_dataset)}\\n\\n\")\n",
        "\n",
        "    f.write(\"Results:\\n\")\n",
        "    for dataset_name, results in results_summary.items():\n",
        "        f.write(f\"\\n{dataset_name.upper()} RESULTS:\\n\")\n",
        "        for metric, value in results.items():\n",
        "            f.write(f\"  {metric}: {value}\\n\")\n",
        "\n",
        "print(\"\\nExperiment completed! Results saved to ./results/exp2/results_summary.txt\")\n"
      ]
    }
  ],
  "metadata": {
    "language_info": {
      "name": "python"
    },
    "colab": {
      "provenance": [],
      "machine_shape": "hm",
      "gpuType": "T4"
    },
    "accelerator": "GPU",
    "kernelspec": {
      "name": "python3",
      "display_name": "Python 3"
    }
  },
  "nbformat": 4,
  "nbformat_minor": 5
}